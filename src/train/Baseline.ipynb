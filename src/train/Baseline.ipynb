{
 "cells": [
  {
   "cell_type": "code",
   "execution_count": 1,
   "metadata": {
    "collapsed": true
   },
   "outputs": [],
   "source": [
    "\n",
    "import pandas as pd\n",
    "import numpy as np\n",
    "import math\n",
    "from collections import Counter"
   ]
  },
  {
   "cell_type": "code",
   "execution_count": 2,
   "metadata": {},
   "outputs": [
    {
     "data": {
      "text/plain": [
       "Counter({'Start1': 213100,\n",
       "         'Start2': 213808,\n",
       "         'Tag0': 352461,\n",
       "         'Tag1': 272234,\n",
       "         'Tag2': 377420,\n",
       "         'Tag3': 398370,\n",
       "         'Tag4': 428642,\n",
       "         'Tag5': 435086,\n",
       "         'Tag6': 358288,\n",
       "         'Tag7': 315266,\n",
       "         'Tag8': 431390,\n",
       "         'Tag9': 381880})"
      ]
     },
     "execution_count": 2,
     "metadata": {},
     "output_type": "execute_result"
    }
   ],
   "source": [
    "sensor_data = pd.DataFrame.from_csv(\"../../data/database/sensor_data.csv\")\n",
    "Counter(sensor_data.TagName)"
   ]
  },
  {
   "cell_type": "code",
   "execution_count": 3,
   "metadata": {
    "collapsed": true
   },
   "outputs": [],
   "source": [
    "sensor_data_acc = sensor_data[sensor_data.SENSORTYPE == 1]\n",
    "sensor_data_acc_number_tag = sensor_data_acc[~((sensor_data_acc.TagName == 'Start1') | (sensor_data_acc.TagName == 'Start2'))]"
   ]
  },
  {
   "cell_type": "code",
   "execution_count": 4,
   "metadata": {},
   "outputs": [
    {
     "data": {
      "text/plain": [
       "Counter({'Tag0': 53436,\n",
       "         'Tag1': 41185,\n",
       "         'Tag2': 57227,\n",
       "         'Tag3': 60499,\n",
       "         'Tag4': 65089,\n",
       "         'Tag5': 66044,\n",
       "         'Tag6': 54351,\n",
       "         'Tag7': 47811,\n",
       "         'Tag8': 65394,\n",
       "         'Tag9': 57911})"
      ]
     },
     "execution_count": 4,
     "metadata": {},
     "output_type": "execute_result"
    }
   ],
   "source": [
    "Counter(sensor_data_acc_number_tag.TagName)"
   ]
  },
  {
   "cell_type": "code",
   "execution_count": 5,
   "metadata": {
    "collapsed": true
   },
   "outputs": [],
   "source": [
    "# tag_id_groupby = sensor_data_acc_tag12.groupby(['TagName', 'tester_id'])\n",
    "tag_id_groupby = sensor_data_acc_number_tag.groupby(['TagName', 'tester_id'])\n",
    "tag_id_dict = tag_id_groupby.groups\n",
    "y = list(tag_id_dict.keys())\n",
    "y = [i[0] for i in y]\n",
    "y = np.array(y)"
   ]
  },
  {
   "cell_type": "code",
   "execution_count": 6,
   "metadata": {
    "collapsed": true
   },
   "outputs": [],
   "source": [
    "N_frame_no = 1 \n",
    "\n",
    "test_percent = 0.1 # 10% samples are used for testing"
   ]
  },
  {
   "cell_type": "code",
   "execution_count": 7,
   "metadata": {
    "collapsed": true
   },
   "outputs": [],
   "source": [
    "def shrink_array(array,size):\n",
    "    \n",
    "    ratio = float(len(array)) / float(size)\n",
    "    res = []\n",
    "    for i in range(size):\n",
    "        res.append(np.mean(array[math.floor(i*ratio):math.ceil((i+1.0)*ratio)], axis = 0))\n",
    "    return np.array(res)"
   ]
  },
  {
   "cell_type": "code",
   "execution_count": 8,
   "metadata": {
    "collapsed": true
   },
   "outputs": [],
   "source": [
    "def gesture_features(accs):\n",
    "    if N_frame_no > 1:\n",
    "        Ls = math.floor(len(accs)/ (N_frame_no + 1))\n",
    "        segments = None\n",
    "        for i in range(N_frame_no + 1):\n",
    "            if segments is None:\n",
    "                segments = np.array([accs[i*Ls:(i+1)*Ls]])\n",
    "            else:\n",
    "                segments = np.append(segments, np.array([accs[i*Ls:(i+1)*Ls]]), axis=0)\n",
    "\n",
    "        frames = None\n",
    "        for i in range(N_frame_no):\n",
    "            cur_frame = segments[i:i+2]\n",
    "            cur_frame = cur_frame.reshape((cur_frame.shape[0]*cur_frame.shape[1],cur_frame.shape[2]))\n",
    "            if frames is None:\n",
    "                frames = np.array([cur_frame])\n",
    "            else:\n",
    "                frames = np.append(frames, np.array([cur_frame]), axis = 0)\n",
    "        return np.array([frame_features(f) for f in frames]).reshape(-1)\n",
    "    else:\n",
    "        return frame_features(accs).reshape(-1)"
   ]
  },
  {
   "cell_type": "code",
   "execution_count": 9,
   "metadata": {
    "collapsed": true
   },
   "outputs": [],
   "source": [
    "def frame_features(cur_frame):\n",
    "    \n",
    "    mean_cur_frame = np.mean(cur_frame ,axis= 0)\n",
    "    \n",
    "    energy_cur_frame=[]\n",
    "    for T in range(cur_frame.shape[1]): #x,y,z\n",
    "        T_sum = 0\n",
    "        for i in cur_frame[:,T]:\n",
    "            T_sum += math.pow(abs(i),2)\n",
    "        energy_cur_frame.append(T_sum / len(cur_frame))\n",
    "    energy_cur_frame = np.array(energy_cur_frame)\n",
    "    \n",
    "#     entropy_cur_frame = []\n",
    "#     for T in range(cur_frame.shape[1]): #x,y,z\n",
    "#         T_sum = 0\n",
    "#         entropy_sum = 0\n",
    "#         for i in cur_frame[:,T]:\n",
    "#             T_sum += abs(i)\n",
    "            \n",
    "#         for m in cur_frame[:,T]:\n",
    "#             p_m_T = abs(m)/T_sum\n",
    "#             entropy_sum += p_m_T*math.log(1/p_m_T)\n",
    "\n",
    "#         entropy_cur_frame.append(entropy_sum)\n",
    "#     entropy_cur_frame = np.array(entropy_cur_frame)\n",
    "    \n",
    "    std_cur_frame = np.std(cur_frame, axis=0)\n",
    "    \n",
    "    ## TODO     ## TODO    ## TODO    ## TODO    ## TODO    ## TODO    ## TODO    ## TODO\n",
    "    ## TODO     ## TODO    ## TODO    ## TODO    ## TODO    ## TODO    ## TODO    ## TODO\n",
    "    ## TODO     ## TODO    ## TODO    ## TODO    ## TODO    ## TODO    ## TODO    ## TODO\n",
    "    # correlation\n",
    "    \n",
    "    return np.concatenate((mean_cur_frame,energy_cur_frame,std_cur_frame))"
   ]
  },
  {
   "cell_type": "code",
   "execution_count": 10,
   "metadata": {
    "collapsed": true
   },
   "outputs": [],
   "source": [
    "X = []\n",
    "\n",
    "for key in list(tag_id_dict.keys()):\n",
    "    gesture_feature = gesture_features(tag_id_groupby.get_group(key)[['VALUES1', 'VALUES2', 'VALUES3']].values).reshape(-1)\n",
    "    if np.all(~np.isnan(gesture_feature)):\n",
    "        X.append(gesture_feature)\n",
    "    else:\n",
    "        print(key)\n",
    "X = np.array(X)\n",
    "\n",
    "# X = []\n",
    "\n",
    "# for key in list(tag_id_dict.keys()):\n",
    "#     gesture_feature = shrink_array(tag_id_groupby.get_group(key)[['VALUES1', 'VALUES2', 'VALUES3']].values, 200).reshape(-1)\n",
    "#     if np.all(~np.isnan(gesture_feature)):\n",
    "#         X.append(gesture_feature)\n",
    "#     else:\n",
    "#         print(key)\n",
    "# X = np.array(X)"
   ]
  },
  {
   "cell_type": "code",
   "execution_count": 11,
   "metadata": {},
   "outputs": [
    {
     "data": {
      "text/plain": [
       "(1070, 9)"
      ]
     },
     "execution_count": 11,
     "metadata": {},
     "output_type": "execute_result"
    }
   ],
   "source": [
    "X.shape"
   ]
  },
  {
   "cell_type": "code",
   "execution_count": 12,
   "metadata": {
    "collapsed": true
   },
   "outputs": [],
   "source": [
    "from sklearn.svm import SVC\n",
    "from sklearn.externals import joblib\n",
    "from sklearn.metrics import accuracy_score,confusion_matrix,classification_report"
   ]
  },
  {
   "cell_type": "code",
   "execution_count": 13,
   "metadata": {
    "collapsed": true
   },
   "outputs": [],
   "source": [
    "idx_list = list(range(len(X)))\n",
    "np.random.shuffle(idx_list)\n",
    "train_idx = idx_list[:math.floor(len(X) * (1- test_percent))]\n",
    "test_idx = idx_list[math.floor(len(X) * (1- test_percent)):]"
   ]
  },
  {
   "cell_type": "code",
   "execution_count": null,
   "metadata": {
    "collapsed": true
   },
   "outputs": [],
   "source": [
    "# y[y == 'Tag2'] = 2\n",
    "# y[y == 'Tag1'] = 1\n",
    "\n",
    "train_x = X[train_idx]\n",
    "train_y = y[train_idx]\n",
    "test_x = X[test_idx]\n",
    "test_y = y[test_idx]"
   ]
  },
  {
   "cell_type": "code",
   "execution_count": null,
   "metadata": {},
   "outputs": [
    {
     "name": "stdout",
     "output_type": "stream",
     "text": [
      "[LibSVM]"
     ]
    }
   ],
   "source": [
    "clf4 = SVC(kernel='poly', C=1, degree=3, verbose = True)\n",
    "clf4.fit(train_x, train_y) \n",
    "# joblib.dump(clf4, '../../Results/baseline SVC degree4.') \n",
    "print(classification_report(test_y, clf4.predict(test_x)))\n"
   ]
  },
  {
   "cell_type": "code",
   "execution_count": null,
   "metadata": {
    "collapsed": true
   },
   "outputs": [],
   "source": []
  }
 ],
 "metadata": {
  "kernelspec": {
   "display_name": "Python 3",
   "language": "python",
   "name": "python3"
  },
  "language_info": {
   "codemirror_mode": {
    "name": "ipython",
    "version": 3
   },
   "file_extension": ".py",
   "mimetype": "text/x-python",
   "name": "python",
   "nbconvert_exporter": "python",
   "pygments_lexer": "ipython3",
   "version": "3.6.1"
  }
 },
 "nbformat": 4,
 "nbformat_minor": 2
}
