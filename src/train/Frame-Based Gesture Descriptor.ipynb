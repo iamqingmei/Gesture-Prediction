{
 "cells": [
  {
   "cell_type": "code",
   "execution_count": 1,
   "metadata": {
    "collapsed": true
   },
   "outputs": [],
   "source": [
    "\n",
    "import pandas as pd\n",
    "import numpy as np\n",
    "import math\n",
    "from collections import Counter"
   ]
  },
  {
   "cell_type": "code",
   "execution_count": 2,
   "metadata": {},
   "outputs": [
    {
     "data": {
      "text/plain": [
       "Counter({'Start1': 213100,\n",
       "         'Start2': 213808,\n",
       "         'Tag0': 352461,\n",
       "         'Tag1': 272234,\n",
       "         'Tag2': 377420,\n",
       "         'Tag3': 398370,\n",
       "         'Tag4': 428642,\n",
       "         'Tag5': 435086,\n",
       "         'Tag6': 358288,\n",
       "         'Tag7': 315266,\n",
       "         'Tag8': 431390,\n",
       "         'Tag9': 381880})"
      ]
     },
     "execution_count": 2,
     "metadata": {},
     "output_type": "execute_result"
    }
   ],
   "source": [
    "sensor_data = pd.DataFrame.from_csv(\"../../data/database/sensor_data.csv\")\n",
    "Counter(sensor_data.TagName)"
   ]
  },
  {
   "cell_type": "code",
   "execution_count": 3,
   "metadata": {
    "collapsed": true
   },
   "outputs": [],
   "source": [
    "\n",
    "sensor_data_acc = sensor_data[sensor_data.SENSORTYPE == 1]\n",
    "sensor_data_acc_number_tag = sensor_data_acc[~((sensor_data_acc.TagName == 'Tag0') | (sensor_data_acc.TagName == 'Start1') | (sensor_data_acc.TagName == 'Start2'))]"
   ]
  },
  {
   "cell_type": "code",
   "execution_count": 4,
   "metadata": {},
   "outputs": [
    {
     "data": {
      "text/plain": [
       "Counter({'Tag1': 41185,\n",
       "         'Tag2': 57227,\n",
       "         'Tag3': 60499,\n",
       "         'Tag4': 65089,\n",
       "         'Tag5': 66044,\n",
       "         'Tag6': 54351,\n",
       "         'Tag7': 47811,\n",
       "         'Tag8': 65394,\n",
       "         'Tag9': 57911})"
      ]
     },
     "execution_count": 4,
     "metadata": {},
     "output_type": "execute_result"
    }
   ],
   "source": [
    "Counter(sensor_data_acc_number_tag.TagName)"
   ]
  },
  {
   "cell_type": "code",
   "execution_count": 5,
   "metadata": {
    "collapsed": true
   },
   "outputs": [],
   "source": [
    "# tag_id_groupby = sensor_data_acc_tag12.groupby(['TagName', 'tester_id'])\n",
    "tag_id_groupby = sensor_data_acc_number_tag.groupby(['TagName', 'tester_id'])\n",
    "tag_id_dict = tag_id_groupby.groups\n",
    "y = list(tag_id_dict.keys())\n",
    "y = [i[0] for i in y]\n",
    "y = np.array(y)"
   ]
  },
  {
   "cell_type": "code",
   "execution_count": 7,
   "metadata": {
    "collapsed": true
   },
   "outputs": [],
   "source": [
    "# there will be 9 frames, frame0 to frame8\n",
    "# There will be 10 segments\n",
    "N_frame_no = 9 \n",
    "\n",
    "test_percent = 0.1 # 10% samples are used for testing"
   ]
  },
  {
   "cell_type": "code",
   "execution_count": 8,
   "metadata": {
    "collapsed": true
   },
   "outputs": [],
   "source": [
    "def gesture_features(accs):\n",
    "    Ls = math.floor(len(accs)/ (N_frame_no + 1))\n",
    "    segments = None\n",
    "    for i in range(N_frame_no + 1):\n",
    "        if segments is None:\n",
    "            segments = np.array([accs[i*Ls:(i+1)*Ls]])\n",
    "        else:\n",
    "            segments = np.append(segments, np.array([accs[i*Ls:(i+1)*Ls]]), axis=0)\n",
    "\n",
    "    frames = None\n",
    "    for i in range(N_frame_no):\n",
    "        cur_frame = segments[i:i+2]\n",
    "        cur_frame = cur_frame.reshape((cur_frame.shape[0]*cur_frame.shape[1],cur_frame.shape[2]))\n",
    "        if frames is None:\n",
    "            frames = np.array([cur_frame])\n",
    "        else:\n",
    "            frames = np.append(frames, np.array([cur_frame]), axis = 0)\n",
    "    return np.array([frame_features(f) for f in frames]).reshape(-1)"
   ]
  },
  {
   "cell_type": "code",
   "execution_count": 9,
   "metadata": {
    "collapsed": true
   },
   "outputs": [],
   "source": [
    "def frame_features(cur_frame):\n",
    "    Ls = len(cur_frame)*2\n",
    "    \n",
    "    dft_cur_frame = np.fft.fftn(cur_frame)\n",
    "    \n",
    "    mean_cur_frame = dft_cur_frame[0]\n",
    "\n",
    "    energy_cur_frame=[]\n",
    "    for T in range(cur_frame.shape[1]): #x,y,z\n",
    "        T_sum = 0\n",
    "        for i in range(1,Ls*2):\n",
    "            T_sum += math.pow(abs(dft_cur_frame[i,T]),2)\n",
    "\n",
    "        energy_cur_frame.append(T_sum / abs(Ls*2-1))\n",
    "    energy_cur_frame = np.array(energy_cur_frame)\n",
    "    \n",
    "    entropy_cur_frame = []\n",
    "    for T in range(cur_frame.shape[1]): #x,y,z\n",
    "        T_sum = 0\n",
    "        entropy_sum = 0\n",
    "        for i in range(1,Ls*2):\n",
    "            T_sum += abs(dft_cur_frame[i,T])\n",
    "\n",
    "        for m in range(1,Ls*2):\n",
    "            p_m_T = abs(dft_cur_frame[m,T])/T_sum\n",
    "            entropy_sum += p_m_T*math.log(1/p_m_T)\n",
    "        entropy_cur_frame.append(entropy_sum)\n",
    "    entropy_cur_frame = np.array(entropy_cur_frame)\n",
    "    \n",
    "    std_cur_frame = []\n",
    "    for T in range(cur_frame.shape[1]): #x,y,z\n",
    "        std_cur_frame.append(np.std(cur_frame))\n",
    "    std_cur_frame = np.array(std_cur_frame)\n",
    "    \n",
    "    ## TODO     ## TODO    ## TODO    ## TODO    ## TODO    ## TODO    ## TODO    ## TODO\n",
    "    ## TODO     ## TODO    ## TODO    ## TODO    ## TODO    ## TODO    ## TODO    ## TODO\n",
    "    ## TODO     ## TODO    ## TODO    ## TODO    ## TODO    ## TODO    ## TODO    ## TODO\n",
    "    # correlation\n",
    "    \n",
    "    return np.concatenate((mean_cur_frame,energy_cur_frame,std_cur_frame,entropy_cur_frame))"
   ]
  },
  {
   "cell_type": "code",
   "execution_count": null,
   "metadata": {
    "collapsed": true
   },
   "outputs": [],
   "source": [
    "X>shape"
   ]
  },
  {
   "cell_type": "code",
   "execution_count": 10,
   "metadata": {
    "collapsed": true
   },
   "outputs": [],
   "source": [
    "X = []\n",
    "for key in list(tag_id_dict.keys()):\n",
    "    X.append(gesture_features(tag_id_groupby.get_group(key)[['VALUES1', 'VALUES2', 'VALUES3']].values).reshape(-1))\n",
    "X = np.array(X)"
   ]
  },
  {
   "cell_type": "code",
   "execution_count": 11,
   "metadata": {},
   "outputs": [
    {
     "data": {
      "text/plain": [
       "(963, 108)"
      ]
     },
     "execution_count": 11,
     "metadata": {},
     "output_type": "execute_result"
    }
   ],
   "source": [
    "X.shape"
   ]
  },
  {
   "cell_type": "code",
   "execution_count": 12,
   "metadata": {
    "collapsed": true
   },
   "outputs": [],
   "source": [
    "from sklearn.svm import SVC\n",
    "from sklearn.externals import joblib\n",
    "from sklearn.metrics import accuracy_score,confusion_matrix,classification_report"
   ]
  },
  {
   "cell_type": "code",
   "execution_count": 13,
   "metadata": {
    "collapsed": true
   },
   "outputs": [],
   "source": [
    "idx_list = list(range(len(X)))\n",
    "np.random.shuffle(idx_list)\n",
    "train_idx = idx_list[:math.floor(len(X) * (1- test_percent))]\n",
    "test_idx = idx_list[math.floor(len(X) * (1- test_percent)):]"
   ]
  },
  {
   "cell_type": "code",
   "execution_count": 14,
   "metadata": {
    "collapsed": true
   },
   "outputs": [],
   "source": [
    "# y[y == 'Tag2'] = 2\n",
    "# y[y == 'Tag1'] = 1\n",
    "\n",
    "train_x = X[train_idx]\n",
    "train_y = y[train_idx]\n",
    "test_x = X[test_idx]\n",
    "test_y = y[test_idx]"
   ]
  },
  {
   "cell_type": "code",
   "execution_count": 15,
   "metadata": {},
   "outputs": [
    {
     "name": "stdout",
     "output_type": "stream",
     "text": [
      "[LibSVM]"
     ]
    },
    {
     "name": "stderr",
     "output_type": "stream",
     "text": [
      "/Users/Ageha/anaconda/lib/python3.6/site-packages/sklearn/utils/validation.py:382: ComplexWarning: Casting complex values to real discards the imaginary part\n",
      "  array = np.array(array, dtype=dtype, order=order, copy=copy)\n"
     ]
    },
    {
     "data": {
      "text/plain": [
       "['./09 Feb SVC.pkl']"
      ]
     },
     "execution_count": 15,
     "metadata": {},
     "output_type": "execute_result"
    }
   ],
   "source": [
    "clf4 = SVC(kernel='poly', C=1, degree=4, verbose = True)\n",
    "clf4.fit(train_x, train_y) \n",
    "joblib.dump(clf4, './09 Feb SVC degree 4.pkl') \n",
    "print(classification_report(test_y, clf4.predict(test_x))"
   ]
  },
  {
   "cell_type": "code",
   "execution_count": 23,
   "metadata": {},
   "outputs": [
    {
     "name": "stdout",
     "output_type": "stream",
     "text": [
      "[LibSVM]             precision    recall  f1-score   support\n",
      "\n",
      "       Tag1       0.56      0.62      0.59         8\n",
      "       Tag2       0.50      0.57      0.53        14\n",
      "       Tag3       0.67      0.43      0.52        14\n",
      "       Tag4       0.82      0.75      0.78        12\n",
      "       Tag5       0.45      0.45      0.45        11\n",
      "       Tag6       0.75      0.55      0.63        11\n",
      "       Tag7       0.73      0.67      0.70        12\n",
      "       Tag8       0.42      0.71      0.53         7\n",
      "       Tag9       0.50      0.62      0.56         8\n",
      "\n",
      "avg / total       0.61      0.59      0.59        97\n",
      "\n"
     ]
    },
    {
     "name": "stderr",
     "output_type": "stream",
     "text": [
      "/Users/Ageha/anaconda/lib/python3.6/site-packages/sklearn/utils/validation.py:382: ComplexWarning: Casting complex values to real discards the imaginary part\n",
      "  array = np.array(array, dtype=dtype, order=order, copy=copy)\n"
     ]
    }
   ],
   "source": [
    "clf3 = SVC(kernel='poly', C=1, degree=3, verbose = True)\n",
    "clf3.fit(train_x, train_y) \n",
    "joblib.dump(clf3, './09 Feb SVC degree3.pkl') \n",
    "print(classification_report(test_y, clf3.predict(test_x)))"
   ]
  },
  {
   "cell_type": "code",
   "execution_count": 22,
   "metadata": {},
   "outputs": [
    {
     "name": "stdout",
     "output_type": "stream",
     "text": [
      "[LibSVM]             precision    recall  f1-score   support\n",
      "\n",
      "       Tag1       0.56      0.62      0.59         8\n",
      "       Tag2       0.60      0.64      0.62        14\n",
      "       Tag3       0.82      0.64      0.72        14\n",
      "       Tag4       0.75      0.75      0.75        12\n",
      "       Tag5       0.42      0.45      0.43        11\n",
      "       Tag6       0.73      0.73      0.73        11\n",
      "       Tag7       0.78      0.58      0.67        12\n",
      "       Tag8       0.62      0.71      0.67         7\n",
      "       Tag9       0.60      0.75      0.67         8\n",
      "\n",
      "avg / total       0.66      0.65      0.65        97\n",
      "\n"
     ]
    },
    {
     "name": "stderr",
     "output_type": "stream",
     "text": [
      "/Users/Ageha/anaconda/lib/python3.6/site-packages/sklearn/utils/validation.py:382: ComplexWarning: Casting complex values to real discards the imaginary part\n",
      "  array = np.array(array, dtype=dtype, order=order, copy=copy)\n"
     ]
    }
   ],
   "source": [
    "clf2 = SVC(kernel='poly', C=1, degree=2, verbose = True)\n",
    "clf2.fit(train_x, train_y) \n",
    "joblib.dump(clf2, './09 Feb SVC degree2.pkl') \n",
    "print(classification_report(test_y, clf2.predict(test_x)))"
   ]
  },
  {
   "cell_type": "code",
   "execution_count": 25,
   "metadata": {},
   "outputs": [
    {
     "name": "stderr",
     "output_type": "stream",
     "text": [
      "/Users/Ageha/anaconda/lib/python3.6/site-packages/sklearn/utils/validation.py:382: ComplexWarning: Casting complex values to real discards the imaginary part\n",
      "  array = np.array(array, dtype=dtype, order=order, copy=copy)\n"
     ]
    },
    {
     "ename": "NameError",
     "evalue": "name 'clf24predict' is not defined",
     "output_type": "error",
     "traceback": [
      "\u001b[0;31m---------------------------------------------------------------------------\u001b[0m",
      "\u001b[0;31mNameError\u001b[0m                                 Traceback (most recent call last)",
      "\u001b[0;32m<ipython-input-25-2fa96d3ec639>\u001b[0m in \u001b[0;36m<module>\u001b[0;34m()\u001b[0m\n\u001b[1;32m      2\u001b[0m \u001b[0mclf4\u001b[0m\u001b[0;34m.\u001b[0m\u001b[0mfit\u001b[0m\u001b[0;34m(\u001b[0m\u001b[0mtrain_x\u001b[0m\u001b[0;34m,\u001b[0m \u001b[0mtrain_y\u001b[0m\u001b[0;34m)\u001b[0m\u001b[0;34m\u001b[0m\u001b[0m\n\u001b[1;32m      3\u001b[0m \u001b[0mjoblib\u001b[0m\u001b[0;34m.\u001b[0m\u001b[0mdump\u001b[0m\u001b[0;34m(\u001b[0m\u001b[0mclf4\u001b[0m\u001b[0;34m,\u001b[0m \u001b[0;34m'./09 Feb SVC degree1.pkl'\u001b[0m\u001b[0;34m)\u001b[0m\u001b[0;34m\u001b[0m\u001b[0m\n\u001b[0;32m----> 4\u001b[0;31m \u001b[0mprint\u001b[0m\u001b[0;34m(\u001b[0m\u001b[0mclassification_report\u001b[0m\u001b[0;34m(\u001b[0m\u001b[0mtest_y\u001b[0m\u001b[0;34m,\u001b[0m \u001b[0mclf24predict\u001b[0m\u001b[0;34m(\u001b[0m\u001b[0mtest_x\u001b[0m\u001b[0;34m)\u001b[0m\u001b[0;34m)\u001b[0m\u001b[0;34m)\u001b[0m\u001b[0;34m\u001b[0m\u001b[0m\n\u001b[0m",
      "\u001b[0;31mNameError\u001b[0m: name 'clf24predict' is not defined"
     ]
    }
   ],
   "source": [
    "clf1 = SVC(kernel='poly', C=1, degree=1, verbose = False)\n",
    "clf1.fit(train_x, train_y) \n",
    "joblib.dump(clf1, './09 Feb SVC degree1.pkl') \n",
    "print(classification_report(test_y, clf1.predict(test_x)))"
   ]
  },
  {
   "cell_type": "code",
   "execution_count": 32,
   "metadata": {},
   "outputs": [
    {
     "name": "stdout",
     "output_type": "stream",
     "text": [
      "             precision    recall  f1-score   support\n",
      "\n",
      "       Tag1       0.50      0.50      0.50         8\n",
      "       Tag2       0.62      0.71      0.67        14\n",
      "       Tag3       0.70      0.50      0.58        14\n",
      "       Tag4       0.73      0.67      0.70        12\n",
      "       Tag5       0.67      0.73      0.70        11\n",
      "       Tag6       0.67      0.73      0.70        11\n",
      "       Tag7       0.90      0.75      0.82        12\n",
      "       Tag8       0.75      0.86      0.80         7\n",
      "       Tag9       0.50      0.62      0.56         8\n",
      "\n",
      "avg / total       0.68      0.67      0.67        97\n",
      "\n"
     ]
    },
    {
     "name": "stderr",
     "output_type": "stream",
     "text": [
      "/Users/Ageha/anaconda/lib/python3.6/site-packages/sklearn/utils/validation.py:382: ComplexWarning: Casting complex values to real discards the imaginary part\n",
      "  array = np.array(array, dtype=dtype, order=order, copy=copy)\n"
     ]
    }
   ],
   "source": []
  },
  {
   "cell_type": "code",
   "execution_count": null,
   "metadata": {},
   "outputs": [
    {
     "name": "stderr",
     "output_type": "stream",
     "text": [
      "/Users/Ageha/anaconda/lib/python3.6/site-packages/sklearn/utils/validation.py:382: ComplexWarning: Casting complex values to real discards the imaginary part\n",
      "  array = np.array(array, dtype=dtype, order=order, copy=copy)\n"
     ]
    }
   ],
   "source": [
    "clf5 = SVC(kernel='poly', C=1, degree=5, verbose = False)\n",
    "clf5.fit(train_x, train_y) \n",
    "joblib.dump(clf5, './09 Feb SVC degree5.pkl') \n",
    "print(classification_report(test_y, clf5.predict(test_x)))"
   ]
  },
  {
   "cell_type": "code",
   "execution_count": null,
   "metadata": {
    "collapsed": true
   },
   "outputs": [],
   "source": []
  }
 ],
 "metadata": {
  "kernelspec": {
   "display_name": "Python 3",
   "language": "python",
   "name": "python3"
  },
  "language_info": {
   "codemirror_mode": {
    "name": "ipython",
    "version": 3
   },
   "file_extension": ".py",
   "mimetype": "text/x-python",
   "name": "python",
   "nbconvert_exporter": "python",
   "pygments_lexer": "ipython3",
   "version": "3.6.1"
  }
 },
 "nbformat": 4,
 "nbformat_minor": 2
}
