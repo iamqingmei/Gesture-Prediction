{
 "cells": [
  {
   "cell_type": "code",
   "execution_count": 1,
   "metadata": {
    "collapsed": true
   },
   "outputs": [],
   "source": [
    "import pandas as pd\n",
    "import numpy as np\n",
    "import os\n",
    "import matplotlib.pyplot as plt\n",
    "from collections import Counter\n",
    "import datetime\n",
    "import sys\n",
    "import logging"
   ]
  },
  {
   "cell_type": "code",
   "execution_count": 3,
   "metadata": {
    "collapsed": true
   },
   "outputs": [],
   "source": [
    "sensor_df = pd.DataFrame.from_csv(\"../../data/database/sensor_data.csv\")\n",
    "tester_df = pd.DataFrame.from_csv(\"../../data/database/tester_info.csv\")"
   ]
  },
  {
   "cell_type": "code",
   "execution_count": 31,
   "metadata": {},
   "outputs": [],
   "source": [
    "val_cols = ['VALUES1', 'VALUES2', 'VALUES3', 'VALUES4', 'VALUES5 ']\n",
    "tx = \"TagName, VALUE_COL, p97, p03\\n\"\n",
    "for s in set(sensor_df.SENSORTYPE.tolist()):\n",
    "    cur_s = sensor_df[sensor_df.SENSORTYPE == s]\n",
    "    for col_name in val_cols:\n",
    "        cur_col = cur_s[col_name]\n",
    "        if ~(cur_col.isnull().any()):\n",
    "            tx += str(s) + \", \"\n",
    "            tx += col_name +', '\n",
    "            tx += str(np.percentile(cur_col, 97)) + \", \"\n",
    "            tx += str(np.percentile(cur_col, 3)) + \"\\n\"\n",
    "        "
   ]
  },
  {
   "cell_type": "code",
   "execution_count": 32,
   "metadata": {},
   "outputs": [
    {
     "name": "stdout",
     "output_type": "stream",
     "text": [
      "TagName, VALUE_COL, p97, p03\n",
      "1, VALUES1, 9.809137, -7.195282\n",
      "1, VALUES2, 8.909128, -10.661273\n",
      "1, VALUES3, 16.166645, -5.8835673\n",
      "2, VALUES1, 80.276, -50.7825\n",
      "2, VALUES2, 59.719, -40.016\n",
      "2, VALUES3, 34.190502, -106.3535\n",
      "3, VALUES1, 354.767907, 6.553311286\n",
      "3, VALUES2, 66.890268, -44.82713\n",
      "3, VALUES3, 51.76663947, -47.50803376\n",
      "4, VALUES1, 2.809858, -2.9110663\n",
      "4, VALUES2, 2.823175, -3.4357505\n",
      "4, VALUES3, 2.5009067, -2.8631256\n",
      "9, VALUES1, 7.259384, -7.763690337\n",
      "9, VALUES2, 6.0737643, -7.8014293\n",
      "9, VALUES3, 9.735607, 2.4035747\n",
      "10, VALUES1, 6.33670672, -1.73743221\n",
      "10, VALUES2, 7.482997248, -6.7755547\n",
      "10, VALUES3, 7.70897934, -9.487063435\n",
      "11, VALUES1, 0.4466452695, -0.4786400073\n",
      "11, VALUES2, 0.4056936767, -0.4211623658\n",
      "11, VALUES3, 0.9648453594, -0.9703809954\n",
      "11, VALUES4, 0.9819625916, -0.95973409\n",
      "11, VALUES5 , 0.0, 0.0\n",
      "26, VALUES1, 1.0, 1.0\n",
      "\n"
     ]
    }
   ],
   "source": [
    "print(tx)\n",
    "with open(\"../../Results/percentiles.txt\",'w') as f:\n",
    "    f.write(tx)"
   ]
  },
  {
   "cell_type": "code",
   "execution_count": null,
   "metadata": {
    "collapsed": true
   },
   "outputs": [],
   "source": []
  },
  {
   "cell_type": "code",
   "execution_count": null,
   "metadata": {
    "collapsed": true
   },
   "outputs": [],
   "source": []
  },
  {
   "cell_type": "code",
   "execution_count": null,
   "metadata": {
    "collapsed": true
   },
   "outputs": [],
   "source": []
  },
  {
   "cell_type": "code",
   "execution_count": null,
   "metadata": {
    "collapsed": true
   },
   "outputs": [],
   "source": []
  },
  {
   "cell_type": "code",
   "execution_count": null,
   "metadata": {
    "collapsed": true
   },
   "outputs": [],
   "source": []
  },
  {
   "cell_type": "code",
   "execution_count": null,
   "metadata": {
    "collapsed": true
   },
   "outputs": [],
   "source": []
  },
  {
   "cell_type": "code",
   "execution_count": null,
   "metadata": {
    "collapsed": true
   },
   "outputs": [],
   "source": []
  }
 ],
 "metadata": {
  "kernelspec": {
   "display_name": "Python 3",
   "language": "python",
   "name": "python3"
  },
  "language_info": {
   "codemirror_mode": {
    "name": "ipython",
    "version": 3
   },
   "file_extension": ".py",
   "mimetype": "text/x-python",
   "name": "python",
   "nbconvert_exporter": "python",
   "pygments_lexer": "ipython3",
   "version": "3.6.1"
  }
 },
 "nbformat": 4,
 "nbformat_minor": 2
}
