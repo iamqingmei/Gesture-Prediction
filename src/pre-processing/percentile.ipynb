{
 "cells": [
  {
   "cell_type": "code",
   "execution_count": 1,
   "metadata": {
    "collapsed": true
   },
   "outputs": [],
   "source": [
    "import pandas as pd\n",
    "import numpy as np\n",
    "import os\n",
    "import matplotlib.pyplot as plt\n",
    "from collections import Counter\n",
    "import datetime\n",
    "import sys\n",
    "import logging"
   ]
  },
  {
   "cell_type": "code",
   "execution_count": 2,
   "metadata": {
    "collapsed": true
   },
   "outputs": [],
   "source": [
    "sensor_df = pd.DataFrame.from_csv(\"../../data/database/sensor_data.csv\")\n",
    "tester_df = pd.DataFrame.from_csv(\"../../data/database/tester_info.csv\")"
   ]
  },
  {
   "cell_type": "code",
   "execution_count": 4,
   "metadata": {
    "collapsed": true
   },
   "outputs": [],
   "source": []
  },
  {
   "cell_type": "code",
   "execution_count": 8,
   "metadata": {
    "collapsed": true
   },
   "outputs": [],
   "source": [
    "val_cols = ['VALUES1', 'VALUES2', 'VALUES3', 'VALUES4', 'VALUES5 ']\n",
    "tx = \"index_id, SENSORTYPE, VALUE_COL, p97, p03\\n\"\n",
    "idx = 0\n",
    "for s in set(sensor_df.SENSORTYPE.tolist()):\n",
    "    cur_s = sensor_df[sensor_df.SENSORTYPE == s]\n",
    "    names = []\n",
    "    for col_name in val_cols:\n",
    "        cur_col = cur_s[col_name]\n",
    "        if ~(cur_col.isnull().any()):\n",
    "            names.append(col_name)\n",
    "            \n",
    "    tx += str(idx) + \",\"\n",
    "    tx += str(s) + \",\"\n",
    "    tx += str(np.percentile(cur_s[names], 97)) + \",\"\n",
    "    tx += str(np.percentile(cur_s[names], 3)) + \"\\n\"\n",
    "    idx += 1"
   ]
  },
  {
   "cell_type": "code",
   "execution_count": 11,
   "metadata": {},
   "outputs": [
    {
     "name": "stdout",
     "output_type": "stream",
     "text": [
      "index_id, SENSORTYPE, VALUE_COL, p97, p03\n",
      "0,1,13.035764,-8.602742\n",
      "1,2,57.3095,-50.9045\n",
      "2,3,344.058093,-41.29247614\n",
      "3,4,2.6607091,-3.1081557\n",
      "4,9,9.58264823,-7.4085083\n",
      "5,10,7.052308895,-6.591615692\n",
      "6,11,0.9492675745,-0.922499547\n",
      "7,26,1.0,1.0\n",
      "\n"
     ]
    }
   ],
   "source": [
    "print(tx)\n",
    "with open(\"../../Results/percentiles_sensortype.txt\",'w') as f:\n",
    "    f.write(tx)"
   ]
  },
  {
   "cell_type": "code",
   "execution_count": 12,
   "metadata": {},
   "outputs": [
    {
     "name": "stdout",
     "output_type": "stream",
     "text": [
      "index_id, SENSORTYPE, VALUE_COL, p97, p03\n",
      "0,1,VALUES1,9.809137,-7.195282\n",
      "1,1,VALUES2,8.909128,-10.661273\n",
      "2,1,VALUES3,16.166645,-5.8835673\n",
      "3,2,VALUES1,80.276,-50.7825\n",
      "4,2,VALUES2,59.719,-40.016\n",
      "5,2,VALUES3,34.190502,-106.3535\n",
      "6,3,VALUES1,354.767907,6.553311286\n",
      "7,3,VALUES2,66.890268,-44.82713\n",
      "8,3,VALUES3,51.76663947,-47.50803376\n",
      "9,4,VALUES1,2.809858,-2.9110663\n",
      "10,4,VALUES2,2.823175,-3.4357505\n",
      "11,4,VALUES3,2.5009067,-2.8631256\n",
      "12,9,VALUES1,7.259384,-7.763690337\n",
      "13,9,VALUES2,6.0737643,-7.8014293\n",
      "14,9,VALUES3,9.735607,2.4035747\n",
      "15,10,VALUES1,6.33670672,-1.73743221\n",
      "16,10,VALUES2,7.482997248,-6.7755547\n",
      "17,10,VALUES3,7.70897934,-9.487063435\n",
      "18,11,VALUES1,0.4466452695,-0.4786400073\n",
      "19,11,VALUES2,0.4056936767,-0.4211623658\n",
      "20,11,VALUES3,0.9648453594,-0.9703809954\n",
      "21,11,VALUES4,0.9819625916,-0.95973409\n",
      "22,11,VALUES5 ,0.0,0.0\n",
      "23,26,VALUES1,1.0,1.0\n",
      "\n"
     ]
    }
   ],
   "source": [
    "val_cols = ['VALUES1', 'VALUES2', 'VALUES3', 'VALUES4', 'VALUES5 ']\n",
    "tx = \"index_id, SENSORTYPE, VALUE_COL, p97, p03\\n\"\n",
    "idx = 0\n",
    "for s in set(sensor_df.SENSORTYPE.tolist()):\n",
    "    cur_s = sensor_df[sensor_df.SENSORTYPE == s]\n",
    "    for col_name in val_cols:\n",
    "        cur_col = cur_s[col_name]\n",
    "        if ~(cur_col.isnull().any()):\n",
    "            tx += str(idx) + \",\"\n",
    "            tx += str(s) + \",\"\n",
    "            tx += col_name +','\n",
    "            tx += str(np.percentile(cur_col, 97)) + \",\"\n",
    "            tx += str(np.percentile(cur_col, 3)) + \"\\n\"\n",
    "            idx += 1\n",
    "\n",
    "print(tx)\n",
    "with open(\"../../Results/percentiles_values.txt\",'w') as f:\n",
    "    f.write(tx)"
   ]
  },
  {
   "cell_type": "code",
   "execution_count": null,
   "metadata": {
    "collapsed": true
   },
   "outputs": [],
   "source": []
  },
  {
   "cell_type": "code",
   "execution_count": null,
   "metadata": {
    "collapsed": true
   },
   "outputs": [],
   "source": []
  },
  {
   "cell_type": "code",
   "execution_count": null,
   "metadata": {
    "collapsed": true
   },
   "outputs": [],
   "source": []
  },
  {
   "cell_type": "code",
   "execution_count": null,
   "metadata": {
    "collapsed": true
   },
   "outputs": [],
   "source": []
  },
  {
   "cell_type": "code",
   "execution_count": null,
   "metadata": {
    "collapsed": true
   },
   "outputs": [],
   "source": []
  },
  {
   "cell_type": "code",
   "execution_count": null,
   "metadata": {
    "collapsed": true
   },
   "outputs": [],
   "source": []
  }
 ],
 "metadata": {
  "kernelspec": {
   "display_name": "Python 3",
   "language": "python",
   "name": "python3"
  },
  "language_info": {
   "codemirror_mode": {
    "name": "ipython",
    "version": 3
   },
   "file_extension": ".py",
   "mimetype": "text/x-python",
   "name": "python",
   "nbconvert_exporter": "python",
   "pygments_lexer": "ipython3",
   "version": "3.6.1"
  }
 },
 "nbformat": 4,
 "nbformat_minor": 2
}
