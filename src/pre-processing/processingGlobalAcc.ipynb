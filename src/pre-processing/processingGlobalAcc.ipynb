{
 "cells": [
  {
   "cell_type": "code",
   "execution_count": 1,
   "metadata": {
    "collapsed": true
   },
   "outputs": [],
   "source": [
    "import pandas as pd\n",
    "import numpy as np"
   ]
  },
  {
   "cell_type": "code",
   "execution_count": 2,
   "metadata": {
    "collapsed": true
   },
   "outputs": [],
   "source": [
    "df = pd.DataFrame()"
   ]
  },
  {
   "cell_type": "code",
   "execution_count": 3,
   "metadata": {
    "collapsed": true
   },
   "outputs": [],
   "source": [
    "count = 50000\n",
    "\n",
    "while(True):\n",
    "    cur = pd.read_csv(\"../../data/global acc/result\" + str(count) + \".csv\", skipinitialspace=True, header=None)\n",
    "    df = df.append(cur, ignore_index=True)\n",
    "    if count == 500000:\n",
    "        break\n",
    "    count += 50000\n",
    "cur = pd.read_csv(\"../../data/global acc/result_final.csv\", skipinitialspace=True, header=None)\n",
    "df = df.append(cur, ignore_index=True)"
   ]
  },
  {
   "cell_type": "code",
   "execution_count": 4,
   "metadata": {},
   "outputs": [
    {
     "data": {
      "text/plain": [
       "549503"
      ]
     },
     "execution_count": 4,
     "metadata": {},
     "output_type": "execute_result"
    }
   ],
   "source": [
    "len(df)"
   ]
  },
  {
   "cell_type": "code",
   "execution_count": 5,
   "metadata": {
    "collapsed": true
   },
   "outputs": [],
   "source": [
    "df.columns = ['global_acc1','global_acc2','global_acc3']"
   ]
  },
  {
   "cell_type": "code",
   "execution_count": 6,
   "metadata": {
    "collapsed": true
   },
   "outputs": [],
   "source": [
    "t = pd.DataFrame.from_csv(\"../../data/linear_acceleration_grav_mag.csv\")"
   ]
  },
  {
   "cell_type": "code",
   "execution_count": 7,
   "metadata": {},
   "outputs": [
    {
     "data": {
      "text/plain": [
       "Index(['tester_id', 'TagName', 'Time', 'acc_val1', 'acc_val2', 'acc_val3',\n",
       "       'acc_val4', 'gravity1', 'gravity2', 'gravity3', 'mag_val1', 'mag_val2',\n",
       "       'mag_val3'],\n",
       "      dtype='object')"
      ]
     },
     "execution_count": 7,
     "metadata": {},
     "output_type": "execute_result"
    }
   ],
   "source": [
    "t.columns"
   ]
  },
  {
   "cell_type": "code",
   "execution_count": 8,
   "metadata": {
    "collapsed": true
   },
   "outputs": [],
   "source": [
    "b = t[['tester_id', 'TagName', 'Time']].copy()"
   ]
  },
  {
   "cell_type": "code",
   "execution_count": 9,
   "metadata": {
    "collapsed": true
   },
   "outputs": [],
   "source": [
    "for col in ['global_acc1','global_acc2','global_acc3']:\n",
    "    b[col] = 0\n",
    "\n",
    "b[['global_acc1','global_acc2','global_acc3']] = df[['global_acc1','global_acc2','global_acc3']].values\n",
    "b['unix_timestamp'] = pd.to_datetime(b['Time']).values.astype(\"uint64\") / 1000000000"
   ]
  },
  {
   "cell_type": "code",
   "execution_count": 10,
   "metadata": {
    "collapsed": true
   },
   "outputs": [],
   "source": [
    "b.to_csv(\"../../data/global_acc_df.csv\")"
   ]
  },
  {
   "cell_type": "code",
   "execution_count": 15,
   "metadata": {
    "collapsed": true
   },
   "outputs": [],
   "source": []
  },
  {
   "cell_type": "code",
   "execution_count": 16,
   "metadata": {
    "collapsed": true
   },
   "outputs": [],
   "source": [
    "from scipy.integrate import simps"
   ]
  },
  {
   "cell_type": "code",
   "execution_count": null,
   "metadata": {
    "scrolled": true
   },
   "outputs": [],
   "source": [
    "features = pd.DataFrame(columns=['unix_timestamp','TagName','tester_id',\n",
    "                                 'v_1','v_2','v_3','d_1',\n",
    "                                          'd_2','d_3'])\n",
    "b_groups = b.groupby(['TagName','tester_id'])\n",
    "count = 0\n",
    "for key in b_groups.groups.keys():\n",
    "    cur_group = b_groups.get_group(key)\n",
    "    t = cur_group.unix_timestamp.values\n",
    "    v_1 = []\n",
    "    d_1 = []\n",
    "    v_2 = []\n",
    "    d_2 = []\n",
    "    v_3 = []\n",
    "    d_3 = []\n",
    "    for i in range(len(t)):\n",
    "        v_1.append(simps(0.8*cur_group.global_acc1.values[:i+1], x=t[:i+1]))\n",
    "    for i in range(len(t)):\n",
    "        d_1.append(simps(v_1[:i+1], x=t[:i+1]))\n",
    "    for i in range(len(t)):\n",
    "        v_2.append(simps(0.8*cur_group.global_acc2.values[:i+1], x=t[:i+1]))\n",
    "    for i in range(len(t)):\n",
    "        d_2.append(simps(v_2[:i+1], x=t[:i+1]))\n",
    "    for i in range(len(t)):\n",
    "        v_3.append(simps(0.8*cur_group.global_acc3.values[:i+1], x=t[:i+1]))\n",
    "    for i in range(len(t)):\n",
    "        d_3.append(simps(v_3[:i+1], x=t[:i+1]))\n",
    "    \n",
    "    v_1 = np.array(v_1)\n",
    "    d_1 = np.array(d_1)\n",
    "    v_2 = np.array(v_2)\n",
    "    d_2 = np.array(d_2)\n",
    "    v_3 = np.array(v_3)\n",
    "    d_3 = np.array(d_3)\n",
    "\n",
    "    temp = np.concatenate((t.reshape(-1,1),np.array([key[0]]*len(t)).reshape(-1,1),np.array([key[1]]*len(t)).reshape(-1,1),d_1.reshape(-1,1),d_2.reshape(-1,1),d_3.reshape(-1,1),v_1.reshape(-1,1),v_2.reshape(-1,1),v_3.reshape(-1,1)), axis = 1)\n",
    "\n",
    "    features = features.append(pd.DataFrame(temp, columns=['unix_timestamp','TagName','tester_id',\n",
    "                                                           'v_1','v_2','v_3','d_1',\n",
    "                                                           'd_2','d_3']), ignore_index=True)\n",
    "    count+=1\n",
    "    if (count%50==0):\n",
    "        print(count)\n",
    "\n",
    "    "
   ]
  },
  {
   "cell_type": "code",
   "execution_count": null,
   "metadata": {
    "collapsed": true
   },
   "outputs": [],
   "source": [
    "features.to_csv(\"../../data/global_acc_features_df.csv\")"
   ]
  },
  {
   "cell_type": "code",
   "execution_count": null,
   "metadata": {
    "collapsed": true
   },
   "outputs": [],
   "source": []
  }
 ],
 "metadata": {
  "kernelspec": {
   "display_name": "Python 3",
   "language": "python",
   "name": "python3"
  },
  "language_info": {
   "codemirror_mode": {
    "name": "ipython",
    "version": 3
   },
   "file_extension": ".py",
   "mimetype": "text/x-python",
   "name": "python",
   "nbconvert_exporter": "python",
   "pygments_lexer": "ipython3",
   "version": "3.6.1"
  }
 },
 "nbformat": 4,
 "nbformat_minor": 2
}
