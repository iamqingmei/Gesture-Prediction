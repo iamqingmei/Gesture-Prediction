{
 "cells": [
  {
   "cell_type": "code",
   "execution_count": 1,
   "metadata": {
    "collapsed": true
   },
   "outputs": [],
   "source": [
    "import pandas as pd\n",
    "import numpy as np"
   ]
  },
  {
   "cell_type": "code",
   "execution_count": 2,
   "metadata": {},
   "outputs": [],
   "source": [
    "df = pd.DataFrame()"
   ]
  },
  {
   "cell_type": "code",
   "execution_count": 3,
   "metadata": {},
   "outputs": [],
   "source": [
    "count = 50000\n",
    "\n",
    "while(True):\n",
    "    cur = pd.read_csv(\"../../data/global acc/result\" + str(count) + \".csv\", skipinitialspace=True, header=None)\n",
    "    df = df.append(cur, ignore_index=True)\n",
    "    if count == 500000:\n",
    "        break\n",
    "    count += 50000\n",
    "cur = pd.read_csv(\"../../data/global acc/result_final.csv\", skipinitialspace=True, header=None)\n",
    "df = df.append(cur, ignore_index=True)"
   ]
  },
  {
   "cell_type": "code",
   "execution_count": 4,
   "metadata": {},
   "outputs": [
    {
     "data": {
      "text/plain": [
       "549503"
      ]
     },
     "execution_count": 4,
     "metadata": {},
     "output_type": "execute_result"
    }
   ],
   "source": [
    "len(df)"
   ]
  },
  {
   "cell_type": "code",
   "execution_count": 5,
   "metadata": {},
   "outputs": [],
   "source": [
    "df.columns = ['global_acc1','global_acc2','global_acc3']"
   ]
  },
  {
   "cell_type": "code",
   "execution_count": 6,
   "metadata": {},
   "outputs": [],
   "source": [
    "t = pd.DataFrame.from_csv(\"../../data/linear_acceleration_grav_mag.csv\")"
   ]
  },
  {
   "cell_type": "code",
   "execution_count": 7,
   "metadata": {},
   "outputs": [
    {
     "data": {
      "text/plain": [
       "Index(['tester_id', 'TagName', 'Time', 'acc_val1', 'acc_val2', 'acc_val3',\n",
       "       'acc_val4', 'gravity1', 'gravity2', 'gravity3', 'mag_val1', 'mag_val2',\n",
       "       'mag_val3'],\n",
       "      dtype='object')"
      ]
     },
     "execution_count": 7,
     "metadata": {},
     "output_type": "execute_result"
    }
   ],
   "source": [
    "t.columns"
   ]
  },
  {
   "cell_type": "code",
   "execution_count": 8,
   "metadata": {},
   "outputs": [],
   "source": [
    "b = t[['tester_id', 'TagName', 'Time']].copy()"
   ]
  },
  {
   "cell_type": "code",
   "execution_count": 9,
   "metadata": {},
   "outputs": [],
   "source": [
    "for col in ['global_acc1','global_acc2','global_acc3']:\n",
    "    b[col] = 0\n",
    "\n",
    "b[['global_acc1','global_acc2','global_acc3']] = df[['global_acc1','global_acc2','global_acc3']].values"
   ]
  },
  {
   "cell_type": "code",
   "execution_count": 10,
   "metadata": {},
   "outputs": [],
   "source": [
    "b.to_csv(\"../../data/global_acc_df.csv\")"
   ]
  },
  {
   "cell_type": "code",
   "execution_count": null,
   "metadata": {},
   "outputs": [],
   "source": [
    " -0.058560904, -0.1300819, -0.520824\n",
    "     -0.058560904, -0.1300819, -0.520824\n",
    "        \n",
    "        -0.058560826, -0.13008204, -0.52082384"
   ]
  },
  {
   "cell_type": "code",
   "execution_count": 11,
   "metadata": {},
   "outputs": [
    {
     "data": {
      "text/html": [
       "<div>\n",
       "<style>\n",
       "    .dataframe thead tr:only-child th {\n",
       "        text-align: right;\n",
       "    }\n",
       "\n",
       "    .dataframe thead th {\n",
       "        text-align: left;\n",
       "    }\n",
       "\n",
       "    .dataframe tbody tr th {\n",
       "        vertical-align: top;\n",
       "    }\n",
       "</style>\n",
       "<table border=\"1\" class=\"dataframe\">\n",
       "  <thead>\n",
       "    <tr style=\"text-align: right;\">\n",
       "      <th></th>\n",
       "      <th>tester_id</th>\n",
       "      <th>TagName</th>\n",
       "      <th>Time</th>\n",
       "      <th>acc_val1</th>\n",
       "      <th>acc_val2</th>\n",
       "      <th>acc_val3</th>\n",
       "      <th>acc_val4</th>\n",
       "      <th>gravity1</th>\n",
       "      <th>gravity2</th>\n",
       "      <th>gravity3</th>\n",
       "      <th>mag_val1</th>\n",
       "      <th>mag_val2</th>\n",
       "      <th>mag_val3</th>\n",
       "    </tr>\n",
       "  </thead>\n",
       "  <tbody>\n",
       "    <tr>\n",
       "      <th>0</th>\n",
       "      <td>0.0</td>\n",
       "      <td>Tag0</td>\n",
       "      <td>2018-01-08 15:49:46.379666666+08:00</td>\n",
       "      <td>0.478294</td>\n",
       "      <td>-0.038180</td>\n",
       "      <td>-0.247761</td>\n",
       "      <td>0</td>\n",
       "      <td>-7.252295</td>\n",
       "      <td>0.090840</td>\n",
       "      <td>6.600481</td>\n",
       "      <td>8.723001</td>\n",
       "      <td>-6.4965</td>\n",
       "      <td>-51.6365</td>\n",
       "    </tr>\n",
       "    <tr>\n",
       "      <th>1</th>\n",
       "      <td>0.0</td>\n",
       "      <td>Tag0</td>\n",
       "      <td>2018-01-08 15:49:46.384666666+08:00</td>\n",
       "      <td>0.401698</td>\n",
       "      <td>0.028842</td>\n",
       "      <td>-0.286059</td>\n",
       "      <td>0</td>\n",
       "      <td>-7.252295</td>\n",
       "      <td>0.090840</td>\n",
       "      <td>6.600481</td>\n",
       "      <td>8.723001</td>\n",
       "      <td>-6.4965</td>\n",
       "      <td>-51.6365</td>\n",
       "    </tr>\n",
       "    <tr>\n",
       "      <th>2</th>\n",
       "      <td>0.0</td>\n",
       "      <td>Tag0</td>\n",
       "      <td>2018-01-08 15:49:46.389666666+08:00</td>\n",
       "      <td>0.411272</td>\n",
       "      <td>0.000118</td>\n",
       "      <td>-0.324357</td>\n",
       "      <td>0</td>\n",
       "      <td>-7.252295</td>\n",
       "      <td>0.090840</td>\n",
       "      <td>6.600481</td>\n",
       "      <td>8.143500</td>\n",
       "      <td>-6.4965</td>\n",
       "      <td>-49.1355</td>\n",
       "    </tr>\n",
       "    <tr>\n",
       "      <th>3</th>\n",
       "      <td>0.0</td>\n",
       "      <td>Tag0</td>\n",
       "      <td>2018-01-08 15:49:46.395666666+08:00</td>\n",
       "      <td>0.374330</td>\n",
       "      <td>-0.074288</td>\n",
       "      <td>-0.332594</td>\n",
       "      <td>0</td>\n",
       "      <td>-7.253652</td>\n",
       "      <td>0.079075</td>\n",
       "      <td>6.599143</td>\n",
       "      <td>8.143500</td>\n",
       "      <td>-6.4965</td>\n",
       "      <td>-49.1355</td>\n",
       "    </tr>\n",
       "    <tr>\n",
       "      <th>4</th>\n",
       "      <td>0.0</td>\n",
       "      <td>Tag0</td>\n",
       "      <td>2018-01-08 15:49:46.400666666+08:00</td>\n",
       "      <td>0.374330</td>\n",
       "      <td>-0.074288</td>\n",
       "      <td>-0.332594</td>\n",
       "      <td>0</td>\n",
       "      <td>-7.253652</td>\n",
       "      <td>0.079075</td>\n",
       "      <td>6.599143</td>\n",
       "      <td>7.564000</td>\n",
       "      <td>-7.1065</td>\n",
       "      <td>-50.3860</td>\n",
       "    </tr>\n",
       "  </tbody>\n",
       "</table>\n",
       "</div>"
      ],
      "text/plain": [
       "   tester_id TagName                                 Time  acc_val1  acc_val2  \\\n",
       "0        0.0    Tag0  2018-01-08 15:49:46.379666666+08:00  0.478294 -0.038180   \n",
       "1        0.0    Tag0  2018-01-08 15:49:46.384666666+08:00  0.401698  0.028842   \n",
       "2        0.0    Tag0  2018-01-08 15:49:46.389666666+08:00  0.411272  0.000118   \n",
       "3        0.0    Tag0  2018-01-08 15:49:46.395666666+08:00  0.374330 -0.074288   \n",
       "4        0.0    Tag0  2018-01-08 15:49:46.400666666+08:00  0.374330 -0.074288   \n",
       "\n",
       "   acc_val3  acc_val4  gravity1  gravity2  gravity3  mag_val1  mag_val2  \\\n",
       "0 -0.247761         0 -7.252295  0.090840  6.600481  8.723001   -6.4965   \n",
       "1 -0.286059         0 -7.252295  0.090840  6.600481  8.723001   -6.4965   \n",
       "2 -0.324357         0 -7.252295  0.090840  6.600481  8.143500   -6.4965   \n",
       "3 -0.332594         0 -7.253652  0.079075  6.599143  8.143500   -6.4965   \n",
       "4 -0.332594         0 -7.253652  0.079075  6.599143  7.564000   -7.1065   \n",
       "\n",
       "   mag_val3  \n",
       "0  -51.6365  \n",
       "1  -51.6365  \n",
       "2  -49.1355  \n",
       "3  -49.1355  \n",
       "4  -50.3860  "
      ]
     },
     "execution_count": 11,
     "metadata": {},
     "output_type": "execute_result"
    }
   ],
   "source": [
    "t.head()"
   ]
  },
  {
   "cell_type": "code",
   "execution_count": 12,
   "metadata": {},
   "outputs": [
    {
     "data": {
      "text/html": [
       "<div>\n",
       "<style>\n",
       "    .dataframe thead tr:only-child th {\n",
       "        text-align: right;\n",
       "    }\n",
       "\n",
       "    .dataframe thead th {\n",
       "        text-align: left;\n",
       "    }\n",
       "\n",
       "    .dataframe tbody tr th {\n",
       "        vertical-align: top;\n",
       "    }\n",
       "</style>\n",
       "<table border=\"1\" class=\"dataframe\">\n",
       "  <thead>\n",
       "    <tr style=\"text-align: right;\">\n",
       "      <th></th>\n",
       "      <th>tester_id</th>\n",
       "      <th>TagName</th>\n",
       "      <th>Time</th>\n",
       "      <th>global_acc1</th>\n",
       "      <th>global_acc2</th>\n",
       "      <th>global_acc3</th>\n",
       "    </tr>\n",
       "  </thead>\n",
       "  <tbody>\n",
       "    <tr>\n",
       "      <th>0</th>\n",
       "      <td>0.0</td>\n",
       "      <td>Tag0</td>\n",
       "      <td>2018-01-08 15:49:46.379666666+08:00</td>\n",
       "      <td>-0.058561</td>\n",
       "      <td>-0.130082</td>\n",
       "      <td>-0.520824</td>\n",
       "    </tr>\n",
       "    <tr>\n",
       "      <th>1</th>\n",
       "      <td>0.0</td>\n",
       "      <td>Tag0</td>\n",
       "      <td>2018-01-08 15:49:46.384666666+08:00</td>\n",
       "      <td>0.021859</td>\n",
       "      <td>-0.064001</td>\n",
       "      <td>-0.489335</td>\n",
       "    </tr>\n",
       "    <tr>\n",
       "      <th>2</th>\n",
       "      <td>0.0</td>\n",
       "      <td>Tag0</td>\n",
       "      <td>2018-01-08 15:49:46.389666666+08:00</td>\n",
       "      <td>-0.002340</td>\n",
       "      <td>-0.037200</td>\n",
       "      <td>-0.522459</td>\n",
       "    </tr>\n",
       "    <tr>\n",
       "      <th>3</th>\n",
       "      <td>0.0</td>\n",
       "      <td>Tag0</td>\n",
       "      <td>2018-01-08 15:49:46.395666666+08:00</td>\n",
       "      <td>-0.070036</td>\n",
       "      <td>0.008021</td>\n",
       "      <td>-0.501289</td>\n",
       "    </tr>\n",
       "    <tr>\n",
       "      <th>4</th>\n",
       "      <td>0.0</td>\n",
       "      <td>Tag0</td>\n",
       "      <td>2018-01-08 15:49:46.400666666+08:00</td>\n",
       "      <td>-0.069951</td>\n",
       "      <td>0.008737</td>\n",
       "      <td>-0.501289</td>\n",
       "    </tr>\n",
       "  </tbody>\n",
       "</table>\n",
       "</div>"
      ],
      "text/plain": [
       "   tester_id TagName                                 Time  global_acc1  \\\n",
       "0        0.0    Tag0  2018-01-08 15:49:46.379666666+08:00    -0.058561   \n",
       "1        0.0    Tag0  2018-01-08 15:49:46.384666666+08:00     0.021859   \n",
       "2        0.0    Tag0  2018-01-08 15:49:46.389666666+08:00    -0.002340   \n",
       "3        0.0    Tag0  2018-01-08 15:49:46.395666666+08:00    -0.070036   \n",
       "4        0.0    Tag0  2018-01-08 15:49:46.400666666+08:00    -0.069951   \n",
       "\n",
       "   global_acc2  global_acc3  \n",
       "0    -0.130082    -0.520824  \n",
       "1    -0.064001    -0.489335  \n",
       "2    -0.037200    -0.522459  \n",
       "3     0.008021    -0.501289  \n",
       "4     0.008737    -0.501289  "
      ]
     },
     "execution_count": 12,
     "metadata": {},
     "output_type": "execute_result"
    }
   ],
   "source": [
    "b.head()"
   ]
  },
  {
   "cell_type": "code",
   "execution_count": null,
   "metadata": {
    "collapsed": true
   },
   "outputs": [],
   "source": []
  }
 ],
 "metadata": {
  "kernelspec": {
   "display_name": "Python 3",
   "language": "python",
   "name": "python3"
  },
  "language_info": {
   "codemirror_mode": {
    "name": "ipython",
    "version": 3
   },
   "file_extension": ".py",
   "mimetype": "text/x-python",
   "name": "python",
   "nbconvert_exporter": "python",
   "pygments_lexer": "ipython3",
   "version": "3.6.1"
  }
 },
 "nbformat": 4,
 "nbformat_minor": 2
}
