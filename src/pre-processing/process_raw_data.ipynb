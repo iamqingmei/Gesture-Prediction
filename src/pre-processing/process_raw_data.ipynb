{
 "cells": [
  {
   "cell_type": "code",
   "execution_count": 1,
   "metadata": {
    "collapsed": true
   },
   "outputs": [],
   "source": [
    "import pandas as pd\n",
    "import numpy as np\n",
    "import os\n",
    "import matplotlib.pyplot as plt\n",
    "from collections import Counter\n",
    "import datetime\n",
    "import sys\n",
    "import logging"
   ]
  },
  {
   "cell_type": "code",
   "execution_count": null,
   "metadata": {
    "collapsed": true
   },
   "outputs": [],
   "source": [
    "import argparse"
   ]
  },
  {
   "cell_type": "code",
   "execution_count": 2,
   "metadata": {
    "collapsed": true
   },
   "outputs": [],
   "source": [
    "useful_sensor = [1, 2, 3, 4, 11, 26, 17, 9, 10]"
   ]
  },
  {
   "cell_type": "code",
   "execution_count": 3,
   "metadata": {
    "collapsed": true
   },
   "outputs": [],
   "source": [
    "def count_fequency(df):\n",
    "    # only select the useful information\n",
    "    df = df[df.SENSORTYPE.isin(useful_sensor)]\n",
    "    min_time = df.TIMESTAMP.min()\n",
    "    max_time = df.TIMESTAMP.max()\n",
    "    c = Counter(df.SENSORTYPE)\n",
    "    for i in c.keys():\n",
    "        c[i] = c[i] / (float(max_time - min_time) /1000.0)\n",
    "\n",
    "    print(c)"
   ]
  },
  {
   "cell_type": "code",
   "execution_count": 48,
   "metadata": {
    "collapsed": true
   },
   "outputs": [],
   "source": [
    "def save_user_info_into_database(tag_df):\n",
    "    if (os.path.exists('../../data/database') is not True):\n",
    "        os.mkdir('../../data/database')\n",
    "    files = os.listdir('../../data/database')\n",
    "\n",
    "    cur_user_info = pd.DataFrame([tag_df.iloc[0].tolist()[2:]], columns=tag_df.columns[2:].values.tolist(), index=[0])\n",
    "    cur_user_info['start_time'] = pd.Series([tag_df.TimeStamp.min()])\n",
    "    cur_user_info['end_time'] = pd.Series([tag_df.TimeStamp.max() + pd.Timedelta('9 seconds')])\n",
    "    if 'tester_info.csv' not in files:\n",
    "        cur_user_info.to_csv(\"../../data/database/tester_info.csv\")\n",
    "        return int(0)\n",
    "    else:\n",
    "        all_tester_info = pd.DataFrame.from_csv('../../data/database/tester_info.csv')\n",
    "        all_tester_info = all_tester_info.append(cur_user_info, ignore_index = True)\n",
    "        all_tester_info.to_csv('../../data/database/tester_info.csv')\n",
    "        return int(all_tester_info.index.max())"
   ]
  },
  {
   "cell_type": "code",
   "execution_count": 63,
   "metadata": {},
   "outputs": [],
   "source": [
    "def save_sensor_data_into_database(sensor_df):\n",
    "    cur_sensor_df = sensor_df[~sensor_df.TagName.isnull()]\n",
    "    if (os.path.exists('../../data/database') is not True):\n",
    "        os.mkdir('../../data/database')\n",
    "    files = os.listdir('../../data/database')\n",
    "    if 'sensor_data.csv' not in files:\n",
    "        cur_sensor_df.to_csv('../../data/database/sensor_data.csv')\n",
    "    else:\n",
    "        all_sensor_df = pd.DataFrame.from_csv('../../data/database/sensor_data.csv')\n",
    "        all_sensor_df = all_sensor_df.append(cur_sensor_df, ignore_index = True)\n",
    "        all_sensor_df.to_csv('../../data/database/sensor_data.csv')"
   ]
  },
  {
   "cell_type": "code",
   "execution_count": 49,
   "metadata": {},
   "outputs": [
    {
     "name": "stdout",
     "output_type": "stream",
     "text": [
      "Counter({11: 93.15350488021295, 3: 93.15350488021295, 4: 93.13220940550133, 1: 87.37533274179236, 2: 46.25377107364685, 26: 0.049689440993788817})\n"
     ]
    }
   ],
   "source": [
    "def main():\n",
    "    sensor_data = pd.read_csv(\"../../data/raw_data/SENSORDATA1510554844726.txt\", skiprows=13, skipinitialspace= True)\n",
    "    count_fequency(sensor_data)\n",
    "    sensor_data.TIMESTAMP = pd.DataFrame(index = pd.to_datetime(sensor_data.TIMESTAMP, unit='ms', utc = 'True')).tz_localize('utc').tz_convert('Asia/Singapore').index\n",
    "    tag_data = pd.read_csv('../../data/raw_data/Tags_20171113-143637.txt', skipinitialspace= True)\n",
    "    tag_data.TimeStamp = pd.DataFrame(index = pd.to_datetime(tag_data.TimeStamp, utc = 'True')).tz_localize('Asia/Singapore').index\n",
    "    \n",
    "        user_groups = list(set(tag_data['Tester_Name'].values.tolist()))\n",
    "\n",
    "    for user in user_groups:\n",
    "        cur_user_tag_df = tag_data[tag_data['Tester_Name'] == user]\n",
    "        if (cur_user_tag_df.iloc[0]['TagName'] != 'wear_start'):\n",
    "            logging.error(\"Cannot find wear_start tag! User: \" + str(user))\n",
    "            sys.exit()\n",
    "        if (len(cur_user_tag_df[cur_user_tag_df['TagName'] == 'wear_start']) > 1):\n",
    "            logging.error(\"There are more than 1 wear_start tags! User: \" + str(user))\n",
    "            sys.exit()\n",
    "\n",
    "        cur_user_id = save_user_info_into_database(cur_user_tag_df)\n",
    "\n",
    "        time_different_between_wear_phone = \\\n",
    "            cur_user_tag_df.iloc[0].TimeStamp - sensor_data.TIMESTAMP.min()\n",
    "        sensor_data.TIMESTAMP = sensor_data.TIMESTAMP + time_different_between_wear_phone\n",
    "\n",
    "        tags = cur_user_tag_df.TagName.tolist()\n",
    "        for i in range(len(tags)): \n",
    "            if i == 0:\n",
    "                continue  # skip the first tag as the first tag is always 'wear_start'\n",
    "            cur_tag = tags[i]\n",
    "            if cur_tag == 'ACTION_FINISH':\n",
    "                continue \n",
    "            cur_tag_start_time = cur_user_tag_df.iloc[i].TimeStamp + pd.Timedelta('4 seconds')\n",
    "            if (i + 1 < len(tags)):\n",
    "                if (tags[i + 1] == 'ACTION_FINISH'):\n",
    "                    cur_tag_end_time = cur_user_tag_df.iloc[i+1].TimeStamp\n",
    "            else:\n",
    "                cur_tag_end_time = cur_tag_start_time + pd.Timedelta('5 seconds')\n",
    "            sensor_data.loc[(sensor_data.TIMESTAMP < cur_tag_end_time) & (sensor_data.TIMESTAMP > cur_tag_start_time), 'TagName'] = cur_tag\n",
    "            sensor_data.loc[(sensor_data.TIMESTAMP < cur_tag_end_time) & (sensor_data.TIMESTAMP > cur_tag_start_time), 'tester_id'] = cur_user_id\n",
    "\n",
    "    save_sensor_data_into_database(sensor_data)\n"
   ]
  },
  {
   "cell_type": "code",
   "execution_count": 50,
   "metadata": {},
   "outputs": [],
   "source": []
  },
  {
   "cell_type": "code",
   "execution_count": null,
   "metadata": {
    "collapsed": true
   },
   "outputs": [],
   "source": [
    "if __name__ == '__main__':\n",
    "    main()"
   ]
  }
 ],
 "metadata": {
  "kernelspec": {
   "display_name": "Python 3",
   "language": "python",
   "name": "python3"
  },
  "language_info": {
   "codemirror_mode": {
    "name": "ipython",
    "version": 3
   },
   "file_extension": ".py",
   "mimetype": "text/x-python",
   "name": "python",
   "nbconvert_exporter": "python",
   "pygments_lexer": "ipython3",
   "version": "3.6.1"
  }
 },
 "nbformat": 4,
 "nbformat_minor": 2
}
