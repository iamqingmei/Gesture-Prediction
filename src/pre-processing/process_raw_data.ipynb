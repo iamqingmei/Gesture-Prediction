{
 "cells": [
  {
   "cell_type": "code",
   "execution_count": 11,
   "metadata": {
    "collapsed": true
   },
   "outputs": [],
   "source": [
    "import pandas as pd\n",
    "import numpy as np\n",
    "import os\n",
    "import matplotlib.pyplot as plt\n",
    "from collections import Counter\n",
    "import datetime\n",
    "import sys\n",
    "import logging"
   ]
  },
  {
   "cell_type": "code",
   "execution_count": 12,
   "metadata": {
    "collapsed": true
   },
   "outputs": [],
   "source": [
    "def init_database():\n",
    "    if (os.path.exists('../../data/database') is not True):\n",
    "        os.mkdir('../../data/database')\n",
    "    files = os.listdir('../../data/database')\n",
    "    if 'tester_info.csv' in files:\n",
    "        global all_tester_info\n",
    "        all_tester_info = pd.DataFrame.from_csv('../../data/database/tester_info.csv')\n",
    "    if 'sensor_data.csv' in files:\n",
    "        global all_sensor_df\n",
    "        all_sensor_df = pd.DataFrame.from_csv('../../data/database/sensor_data.csv')"
   ]
  },
  {
   "cell_type": "code",
   "execution_count": 13,
   "metadata": {
    "collapsed": true
   },
   "outputs": [],
   "source": [
    "useful_sensor = [1, 2, 3, 4, 11, 26, 17, 9, 10]\n",
    "min_samples = 100\n",
    "all_tester_info = None\n",
    "all_sensor_df = None\n",
    "init_database()"
   ]
  },
  {
   "cell_type": "code",
   "execution_count": 14,
   "metadata": {
    "collapsed": true
   },
   "outputs": [],
   "source": [
    "def count_fequency(df):\n",
    "    # only select the useful information\n",
    "    df = df[df.SENSORTYPE.isin(useful_sensor)]\n",
    "    min_time = df.TIMESTAMP.min()\n",
    "    max_time = df.TIMESTAMP.max()\n",
    "    c = Counter(df.SENSORTYPE)\n",
    "    print (\"Count per 1 second\")\n",
    "    for i in c.keys():\n",
    "        c[i] = c[i] / (float(max_time - min_time) /1000.0)\n",
    "\n",
    "    print(c)"
   ]
  },
  {
   "cell_type": "code",
   "execution_count": 15,
   "metadata": {
    "collapsed": true
   },
   "outputs": [],
   "source": [
    "def get_new_tester_id():\n",
    "    if all_tester_info is None:\n",
    "        return int(0)\n",
    "    else:\n",
    "        return int(all_tester_info.index.max() + 1)"
   ]
  },
  {
   "cell_type": "code",
   "execution_count": 16,
   "metadata": {
    "collapsed": true
   },
   "outputs": [],
   "source": [
    "def save_user_info_into_database(tag_df):\n",
    "    global all_tester_info\n",
    "    \n",
    "    cur_user_info = pd.DataFrame([tag_df.iloc[0].tolist()[2:]], columns=tag_df.columns[2:].values.tolist(), index=[0])\n",
    "    cur_user_info['start_time'] = pd.Series([tag_df.TimeStamp.min()])\n",
    "    cur_user_info['end_time'] = pd.Series([tag_df.TimeStamp.max() + pd.Timedelta('9 seconds')])\n",
    "    \n",
    "    if all_tester_info is None:\n",
    "        cur_user_info.to_csv(\"../../data/database/tester_info.csv\")\n",
    "        all_tester_info = pd.DataFrame.from_csv('../../data/database/tester_info.csv')\n",
    "    else:\n",
    "        all_tester_info = all_tester_info.append(cur_user_info, ignore_index = True)\n",
    "        all_tester_info.to_csv('../../data/database/tester_info.csv')\n"
   ]
  },
  {
   "cell_type": "code",
   "execution_count": 17,
   "metadata": {
    "collapsed": true
   },
   "outputs": [],
   "source": [
    "def save_sensor_data_into_database(sensor_df):\n",
    "    global all_sensor_df\n",
    "    \n",
    "    cur_sensor_df = sensor_df[~sensor_df.TagName.isnull()]\n",
    "    \n",
    "    if all_sensor_df is None:\n",
    "        cur_sensor_df.to_csv('../../data/database/sensor_data.csv')\n",
    "        all_sensor_df = pd.DataFrame.from_csv('../../data/database/sensor_data.csv')\n",
    "    else:\n",
    "        all_sensor_df = all_sensor_df.append(cur_sensor_df, ignore_index = True)\n",
    "        all_sensor_df.to_csv('../../data/database/sensor_data.csv')\n",
    "        \n",
    "    print(\"saved\")"
   ]
  },
  {
   "cell_type": "code",
   "execution_count": 18,
   "metadata": {
    "collapsed": true
   },
   "outputs": [],
   "source": [
    "def read_tag_data(dir):\n",
    "    tag_data = pd.read_csv(dir, skipinitialspace= True)\n",
    "    tag_data.TimeStamp = pd.DataFrame(index = pd.to_datetime(tag_data.TimeStamp, utc = 'True')).tz_localize('Asia/Singapore').index\n",
    "    return tag_data\n",
    "\n",
    "def read_sensor_data(dir):\n",
    "    with open(dir,'r') as f:\n",
    "        first_line = f.readline()\n",
    "        if first_line.startswith(\"Found sensor 0 \"):\n",
    "            sensor_data = pd.read_csv(dir, skiprows=13, skipinitialspace= True)\n",
    "        else:\n",
    "            sensor_data = pd.read_csv(dir, skipinitialspace= True)\n",
    "    count_fequency(sensor_data)\n",
    "    sensor_data.TIMESTAMP = pd.DataFrame(index = pd.to_datetime(sensor_data.TIMESTAMP, unit='ms', utc = 'True')).tz_localize('utc').tz_convert('Asia/Singapore').index\n",
    "    return sensor_data"
   ]
  },
  {
   "cell_type": "code",
   "execution_count": 19,
   "metadata": {
    "collapsed": true
   },
   "outputs": [],
   "source": [
    "def time_difference(sensor_data, tag_data):\n",
    "    sensor_time_calibration = sensor_data[sensor_data.SENSORTYPE == -1]\n",
    "    tag_time_calibration = tag_data[tag_data.TagName == 'TIME_CALIBRATION']\n",
    "    if len(sensor_time_calibration) == 0:\n",
    "        print(\"No time calibration on Watch! ********\")\n",
    "        return None\n",
    "    if len(sensor_time_calibration) != len(tag_time_calibration):\n",
    "        print('The number of times of time calibration on watch and phone is different! ********')\n",
    "        return None\n",
    "   \n",
    "    return np.mean(tag_time_calibration.TimeStamp - sensor_time_calibration.TIMESTAMP)\n"
   ]
  },
  {
   "cell_type": "code",
   "execution_count": 38,
   "metadata": {
    "collapsed": true
   },
   "outputs": [],
   "source": [
    "def check_tag_sequence(tags):\n",
    "    temp = [i for i in tags if i not in ['ACTION_FINISH', 'TIME_CALIBRATION', 'wear_start', 'wear_stop']]\n",
    "    tag_sequence = ['1','2','3','4','5','6','7','8','9','0']\n",
    "    if len(tag_sequence) > len(temp):\n",
    "        return False\n",
    "    for i in range(len(tag_sequence)):\n",
    "        if temp[i] != tag_sequence[i]:\n",
    "            return False\n",
    "    return True"
   ]
  },
  {
   "cell_type": "code",
   "execution_count": 33,
   "metadata": {
    "collapsed": true
   },
   "outputs": [],
   "source": [
    "def find_last_divide_sign(s):\n",
    "    res = None\n",
    "    for i in range(len(s)):\n",
    "        if s[i] == '/':\n",
    "            res = i\n",
    "            \n",
    "    return res"
   ]
  },
  {
   "cell_type": "code",
   "execution_count": 34,
   "metadata": {
    "collapsed": true
   },
   "outputs": [],
   "source": [
    "def move_to_processed_file_folder(directory):\n",
    "    file_name = directory[find_last_divide_sign(directory)+1:]\n",
    "    os.rename(directory, \"../../data/raw_data/processed_raw_data/\" + file_name)"
   ]
  },
  {
   "cell_type": "code",
   "execution_count": 35,
   "metadata": {
    "collapsed": true
   },
   "outputs": [],
   "source": [
    "def consecutive_repeated_tag(tags):\n",
    "    previous_tag = \"None\"\n",
    "    previous_index = -99\n",
    "    res = []\n",
    "    for i in range(len(tags)):\n",
    "        if tags[i] in ['ACTION_FINISH', 'TIME_CALIBRATION', 'wear_start', 'wear_stop']:\n",
    "            continue\n",
    "        if (previous_tag == tags[i]):\n",
    "            res.append(previous_index)\n",
    "        previous_tag = tags[i]\n",
    "        previous_index = i\n",
    "    return res"
   ]
  },
  {
   "cell_type": "code",
   "execution_count": 39,
   "metadata": {
    "collapsed": true
   },
   "outputs": [],
   "source": [
    "def main(sensordata_dir, tagdata_dir):\n",
    "# def main():\n",
    "#     sensor_data = read_sensor_data('../../data/raw_data/SENSORDATA_20171219-174424.txt')\n",
    "#     tag_data = read_tag_data('../../data/raw_data/Tags_20171219-174712.txt')\n",
    "    print(\"Processing file \" + sensordata_dir[find_last_divide_sign(sensordata_dir)+1:])\n",
    "    try:\n",
    "        sensor_data = read_sensor_data(sensordata_dir)\n",
    "        tag_data = read_tag_data(tagdata_dir)\n",
    "    except:\n",
    "        print(\"Processing file \" + sensordata_dir[find_last_divide_sign(sensordata_dir)+1:] + \" ERROR\")\n",
    "        return\n",
    "    \n",
    "    user_groups = list(set(tag_data['Tester_Name'].values.tolist()))\n",
    "\n",
    "    for user in user_groups:\n",
    "        cur_user_tag_df = tag_data[tag_data['Tester_Name'] == user]\n",
    "#         if (cur_user_tag_df.iloc[0]['TagName'] != 'wear_start'):\n",
    "#             logging.error(\"Cannot find wear_start tag! User: \" + str(user))\n",
    "#             sys.exit()\n",
    "#         if (len(cur_user_tag_df[cur_user_tag_df['TagName'] == 'wear_start']) > 1):\n",
    "#             logging.error(\"There are more than 1 wear_start tags! User: \" + str(user))\n",
    "#             sys.exit()\n",
    "\n",
    "        cur_user_id = get_new_tester_id()\n",
    "\n",
    "        time_different_between_wear_phone = time_difference(sensor_data, tag_data)\n",
    "        if time_different_between_wear_phone is None:\n",
    "            return\n",
    "        print(\"time_different_between_wear_phone \" + str(time_different_between_wear_phone))\n",
    "        sensor_data.TIMESTAMP = sensor_data.TIMESTAMP + time_different_between_wear_phone\n",
    "\n",
    "        tags = cur_user_tag_df.TagName.tolist()\n",
    "        # remove the consecutive repeated tag\n",
    "        # only the latest tag will be used\n",
    "        skip_tag_idx = consecutive_repeated_tag(tags)\n",
    "        useful_tags_idx = []\n",
    "        for i in range(len(cur_user_tag_df)):\n",
    "            if i not in skip_tag_idx:\n",
    "                useful_tags_idx.append(i)\n",
    "                \n",
    "        cur_user_tag_df = cur_user_tag_df.iloc[useful_tags_idx]\n",
    "        tags = cur_user_tag_df.TagName.tolist()\n",
    "        \n",
    "        if (check_tag_sequence(tags) is False):\n",
    "            print(\"Tag Sequence Wrong *********\")\n",
    "            return\n",
    "        for i in range(len(tags)): \n",
    "            cur_tag = tags[i]\n",
    "            if cur_tag in ['ACTION_FINISH', 'TIME_CALIBRATION', 'wear_start', 'wear_stop']:\n",
    "                continue \n",
    "            cur_tag_start_time = (cur_user_tag_df.iloc[i].TimeStamp + pd.Timedelta('3 seconds'))\n",
    "\n",
    "            if (i == (len(tags) - 1)):\n",
    "            # if i is the last index\n",
    "                cur_tag_end_time = (cur_tag_start_time + pd.Timedelta('5 seconds'))\n",
    "            else:\n",
    "                cur_tag_end_time = (cur_user_tag_df.iloc[i+1].TimeStamp)\n",
    "                if (cur_tag_end_time - cur_tag_start_time > pd.Timedelta('5 seconds')):\n",
    "                    cur_tag_end_time = (cur_tag_start_time + pd.Timedelta('5 seconds'))\n",
    "\n",
    "            if (len(sensor_data.loc[(sensor_data.TIMESTAMP < cur_tag_end_time) & (sensor_data.TIMESTAMP > cur_tag_start_time)]) < min_samples):\n",
    "                print(\"Something wrong with tag \" + cur_tag + \" for user \" + str(user) + \" id \" + str(cur_user_id) + \"**********\")\n",
    "                print(\"Number of samples is %d Less than threshold %d\" % (len(sensor_data.loc[(sensor_data.TIMESTAMP < cur_tag_end_time) & (sensor_data.TIMESTAMP > cur_tag_start_time)]), min_samples))\n",
    "                \n",
    "                return\n",
    "            sensor_data.loc[(sensor_data.TIMESTAMP < cur_tag_end_time) & (sensor_data.TIMESTAMP > cur_tag_start_time), 'TagName'] = cur_tag\n",
    "            sensor_data.loc[(sensor_data.TIMESTAMP < cur_tag_end_time) & (sensor_data.TIMESTAMP > cur_tag_start_time), 'tester_id'] = cur_user_id\n",
    "\n",
    "    save_sensor_data_into_database(sensor_data)\n",
    "    save_user_info_into_database(tag_data)\n",
    "    \n",
    "    move_to_processed_file_folder(sensordata_dir)\n",
    "    move_to_processed_file_folder(tagdata_dir)\n"
   ]
  },
  {
   "cell_type": "code",
   "execution_count": 41,
   "metadata": {
    "scrolled": true
   },
   "outputs": [
    {
     "name": "stdout",
     "output_type": "stream",
     "text": [
      "Processing file SENSORDATA_20180108-144348.txt\n",
      "Count per 1 second\n",
      "Counter({3: 188.0767015956072, 11: 188.07216733244763, 4: 187.78197449023546, 10: 181.5110885405567, 1: 181.50655427739716, 9: 181.50655427739716, 2: 98.18946872038559, 26: 0.040808368436087296})\n",
      "time_different_between_wear_phone 0 days 00:00:01.088666\n",
      "saved\n",
      "Processing file SENSORDATA_20180108-143759.txt\n",
      "Count per 1 second\n",
      "Counter({11: 190.7586201391356, 3: 190.7586201391356, 4: 190.54708298243443, 9: 182.49669722646848, 1: 182.49669722646848, 10: 182.49669722646848, 2: 98.8277648505071, 26: 0.015965068430274558})\n",
      "time_different_between_wear_phone 0 days 00:00:00.447000\n",
      "saved\n",
      "Processing file SENSORDATA_20180103-144428.txt\n",
      "Count per 1 second\n",
      "Counter({3: 188.70491248146288, 11: 188.70491248146288, 4: 188.47137402351734, 10: 181.6637279744042, 1: 181.6637279744042, 9: 181.6637279744042, 2: 98.60577540606499, 26: 0.04086923014047338})\n",
      "time_different_between_wear_phone 0 days 00:00:00.859333\n",
      "saved\n",
      "Processing file SENSORDATA_20180103-150059.txt\n",
      "Count per 1 second\n",
      "Counter({11: 188.8165435633534, 3: 188.8165435633534, 4: 188.55495893121275, 10: 181.73949024289323, 1: 181.73949024289323, 9: 181.73949024289323, 2: 98.62691848547254, 26: 0.038048673765915045})\n",
      "time_different_between_wear_phone 0 days 00:00:00.592666\n",
      "saved\n",
      "Processing file SENSORDATA_20180109-100119.txt\n",
      "Count per 1 second\n",
      "Counter({3: 189.99366687777072, 11: 189.99366687777072, 4: 189.791268126114, 10: 182.5375580264163, 9: 182.5375580264163, 1: 182.5375580264163, 2: 98.84240972036326, 26: 0.006528991988926829})\n",
      "time_different_between_wear_phone 0 days 00:00:00.918666\n",
      "saved\n",
      "Processing file SENSORDATA_20180103-172139.txt\n",
      "Count per 1 second\n",
      "Counter({11: 189.58226848194786, 3: 189.58226848194786, 4: 189.28488453138795, 1: 182.44040704428232, 10: 182.44040704428232, 9: 182.44040704428232, 2: 98.80581757353282, 26: 0.01858649690999489})\n",
      "time_different_between_wear_phone 0 days 00:00:00.853333\n",
      "saved\n",
      "Processing file SENSORDATA_20180109-100523.txt\n",
      "Count per 1 second\n",
      "Counter({3: 189.84509466437177, 11: 189.84509466437177, 4: 189.5582329317269, 1: 182.36119079492573, 10: 182.36119079492573, 9: 182.36119079492573, 2: 98.67406132466373, 26: 0.04462293618920125})\n",
      "time_different_between_wear_phone 0 days 00:00:00.859000\n",
      "saved\n"
     ]
    }
   ],
   "source": [
    "all_files = os.listdir('../../data/raw_data/')\n",
    "tag_files = [i for i in all_files if i.startswith('Tags_')]\n",
    "for tag_file in tag_files:\n",
    "    datetime = tag_file[5:]\n",
    "    sensor_file = 'SENSORDATA_' + datetime\n",
    "    if sensor_file in all_files:\n",
    "        main('../../data/raw_data/' + sensor_file, '../../data/raw_data/' + tag_file)\n"
   ]
  }
 ],
 "metadata": {
  "kernelspec": {
   "display_name": "Python 3",
   "language": "python",
   "name": "python3"
  },
  "language_info": {
   "codemirror_mode": {
    "name": "ipython",
    "version": 3
   },
   "file_extension": ".py",
   "mimetype": "text/x-python",
   "name": "python",
   "nbconvert_exporter": "python",
   "pygments_lexer": "ipython3",
   "version": "3.6.1"
  }
 },
 "nbformat": 4,
 "nbformat_minor": 2
}
