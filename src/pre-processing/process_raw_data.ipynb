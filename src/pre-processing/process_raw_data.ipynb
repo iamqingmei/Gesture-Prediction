{
 "cells": [
  {
   "cell_type": "code",
   "execution_count": 1,
   "metadata": {
    "collapsed": true
   },
   "outputs": [],
   "source": [
    "import pandas as pd\n",
    "import numpy as np\n",
    "import os\n",
    "import matplotlib.pyplot as plt\n",
    "from collections import Counter\n",
    "import datetime\n",
    "import sys\n",
    "import logging"
   ]
  },
  {
   "cell_type": "code",
   "execution_count": 2,
   "metadata": {
    "collapsed": true
   },
   "outputs": [],
   "source": [
    "useful_sensor = [1, 2, 3, 4, 11, 26, 17, 9, 10]\n",
    "min_samples = 100"
   ]
  },
  {
   "cell_type": "code",
   "execution_count": 3,
   "metadata": {
    "collapsed": true
   },
   "outputs": [],
   "source": [
    "def count_fequency(df):\n",
    "    # only select the useful information\n",
    "    df = df[df.SENSORTYPE.isin(useful_sensor)]\n",
    "    min_time = df.TIMESTAMP.min()\n",
    "    max_time = df.TIMESTAMP.max()\n",
    "    c = Counter(df.SENSORTYPE)\n",
    "    for i in c.keys():\n",
    "        c[i] = c[i] / (float(max_time - min_time) /1000.0)\n",
    "\n",
    "    print(c)"
   ]
  },
  {
   "cell_type": "code",
   "execution_count": 4,
   "metadata": {
    "collapsed": true
   },
   "outputs": [],
   "source": [
    "def save_user_info_into_database(tag_df):\n",
    "    if (os.path.exists('../../data/database') is not True):\n",
    "        os.mkdir('../../data/database')\n",
    "    files = os.listdir('../../data/database')\n",
    "\n",
    "    cur_user_info = pd.DataFrame([tag_df.iloc[0].tolist()[2:]], columns=tag_df.columns[2:].values.tolist(), index=[0])\n",
    "    cur_user_info['start_time'] = pd.Series([tag_df.TimeStamp.min()])\n",
    "    cur_user_info['end_time'] = pd.Series([tag_df.TimeStamp.max() + pd.Timedelta('9 seconds')])\n",
    "    if 'tester_info.csv' not in files:\n",
    "        cur_user_info.to_csv(\"../../data/database/tester_info.csv\")\n",
    "        return int(0)\n",
    "    else:\n",
    "        all_tester_info = pd.DataFrame.from_csv('../../data/database/tester_info.csv')\n",
    "        all_tester_info = all_tester_info.append(cur_user_info, ignore_index = True)\n",
    "        all_tester_info.to_csv('../../data/database/tester_info.csv')\n",
    "        return int(all_tester_info.index.max())"
   ]
  },
  {
   "cell_type": "code",
   "execution_count": 5,
   "metadata": {
    "collapsed": true
   },
   "outputs": [],
   "source": [
    "def save_sensor_data_into_database(sensor_df):\n",
    "    cur_sensor_df = sensor_df[~sensor_df.TagName.isnull()]\n",
    "    if (os.path.exists('../../data/database') is not True):\n",
    "        os.mkdir('../../data/database')\n",
    "    files = os.listdir('../../data/database')\n",
    "    if 'sensor_data.csv' not in files:\n",
    "        cur_sensor_df.to_csv('../../data/database/sensor_data.csv')\n",
    "    else:\n",
    "        all_sensor_df = pd.DataFrame.from_csv('../../data/database/sensor_data.csv')\n",
    "        all_sensor_df = all_sensor_df.append(cur_sensor_df, ignore_index = True)\n",
    "        all_sensor_df.to_csv('../../data/database/sensor_data.csv')\n",
    "        \n",
    "    print(\"saved\")"
   ]
  },
  {
   "cell_type": "code",
   "execution_count": 6,
   "metadata": {
    "collapsed": true
   },
   "outputs": [],
   "source": [
    "def read_tag_data(dir):\n",
    "    tag_data = pd.read_csv(dir, skipinitialspace= True)\n",
    "    tag_data.TimeStamp = pd.DataFrame(index = pd.to_datetime(tag_data.TimeStamp, utc = 'True')).tz_localize('Asia/Singapore').index\n",
    "    return tag_data\n",
    "\n",
    "def read_sensor_data(dir):\n",
    "    sensor_data = pd.read_csv(dir, skiprows=13, skipinitialspace= True, )\n",
    "    count_fequency(sensor_data)\n",
    "    sensor_data.TIMESTAMP = pd.DataFrame(index = pd.to_datetime(sensor_data.TIMESTAMP, unit='ms', utc = 'True')).tz_localize('utc').tz_convert('Asia/Singapore').index\n",
    "    return sensor_data"
   ]
  },
  {
   "cell_type": "code",
   "execution_count": 7,
   "metadata": {
    "collapsed": true
   },
   "outputs": [],
   "source": [
    "def time_difference(sensor_data, tag_data):\n",
    "    sensor_time_calibration = sensor_data[sensor_data.SENSORTYPE == -1]\n",
    "    tag_time_calibration = tag_data[tag_data.TagName == 'TIME_CALIBRATION']\n",
    "    if len(sensor_time_calibration) != len(tag_time_calibration):\n",
    "        print('The number of times of time calibration on watch and phone is different!')\n",
    "        return None\n",
    "    if len(sensor_time_calibration) == 0:\n",
    "        print(\"No time calibration!\")\n",
    "        return None\n",
    "    return np.mean(tag_time_calibration.TimeStamp - sensor_time_calibration.TIMESTAMP)\n"
   ]
  },
  {
   "cell_type": "code",
   "execution_count": 8,
   "metadata": {
    "collapsed": true
   },
   "outputs": [],
   "source": [
    "def consecutive_repeated_tag(tags):\n",
    "    previous_tag = \"None\"\n",
    "    previous_index = -99\n",
    "    res = []\n",
    "    for i in range(len(tags)):\n",
    "        if tags[i] in ['ACTION_FINISH', 'TIME_CALIBRATION', 'wear_start']:\n",
    "            continue\n",
    "        if (previous_tag == tags[i]):\n",
    "            res.append(previous_index)\n",
    "        previous_tag = tags[i]\n",
    "        previous_index = i\n",
    "    return res"
   ]
  },
  {
   "cell_type": "code",
   "execution_count": 9,
   "metadata": {},
   "outputs": [],
   "source": [
    "def main(sensordata_dir, tagdata_dir):\n",
    "# def main():\n",
    "#     sensor_data = read_sensor_data('../../data/raw_data/SENSORDATA_20171219-174424.txt')\n",
    "#     tag_data = read_tag_data('../../data/raw_data/Tags_20171219-174712.txt')\n",
    "    sensor_data = read_sensor_data(sensordata_dir)\n",
    "    tag_data = read_tag_data(tagdata_dir)\n",
    "    user_groups = list(set(tag_data['Tester_Name'].values.tolist()))\n",
    "\n",
    "    for user in user_groups:\n",
    "        cur_user_tag_df = tag_data[tag_data['Tester_Name'] == user]\n",
    "#         if (cur_user_tag_df.iloc[0]['TagName'] != 'wear_start'):\n",
    "#             logging.error(\"Cannot find wear_start tag! User: \" + str(user))\n",
    "#             sys.exit()\n",
    "#         if (len(cur_user_tag_df[cur_user_tag_df['TagName'] == 'wear_start']) > 1):\n",
    "#             logging.error(\"There are more than 1 wear_start tags! User: \" + str(user))\n",
    "#             sys.exit()\n",
    "\n",
    "        cur_user_id = save_user_info_into_database(cur_user_tag_df)\n",
    "\n",
    "        time_different_between_wear_phone = time_difference(sensor_data, tag_data)\n",
    "        if time_different_between_wear_phone is None:\n",
    "            return\n",
    "        \n",
    "        sensor_data.TIMESTAMP = sensor_data.TIMESTAMP + time_different_between_wear_phone\n",
    "\n",
    "        tags = cur_user_tag_df.TagName.tolist()\n",
    "        skip_tag_idx = consecutive_repeated_tag(tags)\n",
    "        \n",
    "        for i in range(len(tags)): \n",
    "            if i in skip_tag_idx:\n",
    "                continue\n",
    "            cur_tag = tags[i]\n",
    "            if cur_tag in ['ACTION_FINISH', 'TIME_CALIBRATION', 'wear_start', 'wear_stop']:\n",
    "                continue \n",
    "            cur_tag_start_time = (cur_user_tag_df.iloc[i].TimeStamp + pd.Timedelta('4 seconds'))\n",
    "            if ((i + 1 < len(tags)) and (tags[i + 1] == 'ACTION_FINISH')):\n",
    "                cur_tag_end_time = (cur_user_tag_df.iloc[i+1].TimeStamp)\n",
    "                if (cur_tag_end_time - cur_tag_start_time > pd.Timedelta('5 seconds')):\n",
    "                    cur_tag_end_time = (cur_tag_start_time + pd.Timedelta('5 seconds'))\n",
    "            else:\n",
    "                cur_tag_end_time = (cur_tag_start_time + pd.Timedelta('5 seconds'))\n",
    "            if (len(sensor_data.loc[(sensor_data.TIMESTAMP < cur_tag_end_time) & (sensor_data.TIMESTAMP > cur_tag_start_time)]) < min_samples):\n",
    "                print(\"Something wrong with tag \" + cur_tag + \" for user \" + str(user) + \" id \" + str(cur_user_id))\n",
    "                print(\"Number of samples is %d Less than threshold %d\" % (len(sensor_data.loc[(sensor_data.TIMESTAMP < cur_tag_end_time) & (sensor_data.TIMESTAMP > cur_tag_start_time)]), min_samples))\n",
    "                \n",
    "                return\n",
    "            sensor_data.loc[(sensor_data.TIMESTAMP < cur_tag_end_time) & (sensor_data.TIMESTAMP > cur_tag_start_time), 'TagName'] = cur_tag\n",
    "            sensor_data.loc[(sensor_data.TIMESTAMP < cur_tag_end_time) & (sensor_data.TIMESTAMP > cur_tag_start_time), 'tester_id'] = cur_user_id\n",
    "\n",
    "    save_sensor_data_into_database(sensor_data)\n"
   ]
  },
  {
   "cell_type": "code",
   "execution_count": null,
   "metadata": {},
   "outputs": [],
   "source": [
    "# main('../../data/raw_data/SENSORDATA_20171219-173432.txt', \"../../data/raw_data/Tags_20171219-173737.txt\")\n",
    "# main('../../data/raw_data/SENSORDATA_20171219-174127.txt', \"../../data/raw_data/Tags_20171219-174413.txt\")\n",
    "# main('../../data/raw_data/SENSORDATA_20171221-181909.txt', \"../../data/raw_data/Tags_20171221-181857.txt\")\n",
    "# main('../../data/raw_data/SENSORDATA_20171221-182254.txt', \"../../data/raw_data/Tags_20171221-182143.txt\")"
   ]
  },
  {
   "cell_type": "code",
   "execution_count": null,
   "metadata": {
    "collapsed": true
   },
   "outputs": [],
   "source": []
  }
 ],
 "metadata": {
  "kernelspec": {
   "display_name": "Python 3",
   "language": "python",
   "name": "python3"
  },
  "language_info": {
   "codemirror_mode": {
    "name": "ipython",
    "version": 3
   },
   "file_extension": ".py",
   "mimetype": "text/x-python",
   "name": "python",
   "nbconvert_exporter": "python",
   "pygments_lexer": "ipython3",
   "version": "3.6.1"
  }
 },
 "nbformat": 4,
 "nbformat_minor": 2
}
