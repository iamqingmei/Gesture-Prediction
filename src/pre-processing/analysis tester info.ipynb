{
 "cells": [
  {
   "cell_type": "code",
   "execution_count": 5,
   "metadata": {
    "collapsed": true
   },
   "outputs": [],
   "source": [
    "import pandas as pd\n",
    "import matplotlib.pyplot as plt\n",
    "from collections import Counter"
   ]
  },
  {
   "cell_type": "code",
   "execution_count": 7,
   "metadata": {
    "collapsed": true
   },
   "outputs": [],
   "source": [
    "tester = pd.DataFrame.from_csv(\"../../data/database/tester_info.csv\")"
   ]
  },
  {
   "cell_type": "code",
   "execution_count": 8,
   "metadata": {},
   "outputs": [
    {
     "data": {
      "text/html": [
       "<div>\n",
       "<style>\n",
       "    .dataframe thead tr:only-child th {\n",
       "        text-align: right;\n",
       "    }\n",
       "\n",
       "    .dataframe thead th {\n",
       "        text-align: left;\n",
       "    }\n",
       "\n",
       "    .dataframe tbody tr th {\n",
       "        vertical-align: top;\n",
       "    }\n",
       "</style>\n",
       "<table border=\"1\" class=\"dataframe\">\n",
       "  <thead>\n",
       "    <tr style=\"text-align: right;\">\n",
       "      <th></th>\n",
       "      <th>Tester_Name</th>\n",
       "      <th>Tester_Age</th>\n",
       "      <th>Tester_Height</th>\n",
       "      <th>Tester_Gender</th>\n",
       "      <th>Tester_Weight</th>\n",
       "      <th>Tester_hand</th>\n",
       "      <th>start_time</th>\n",
       "      <th>end_time</th>\n",
       "    </tr>\n",
       "  </thead>\n",
       "  <tbody>\n",
       "    <tr>\n",
       "      <th>0</th>\n",
       "      <td>wang</td>\n",
       "      <td>20</td>\n",
       "      <td>166</td>\n",
       "      <td>M</td>\n",
       "      <td>50</td>\n",
       "      <td>l</td>\n",
       "      <td>2018-01-08 15:47:33.030000+08:00</td>\n",
       "      <td>2018-01-08 15:50:02.274000+08:00</td>\n",
       "    </tr>\n",
       "    <tr>\n",
       "      <th>1</th>\n",
       "      <td>fu</td>\n",
       "      <td>21</td>\n",
       "      <td>175</td>\n",
       "      <td>M</td>\n",
       "      <td>85</td>\n",
       "      <td>l</td>\n",
       "      <td>2018-01-08 15:31:31.510000+08:00</td>\n",
       "      <td>2018-01-08 15:33:58.316000+08:00</td>\n",
       "    </tr>\n",
       "    <tr>\n",
       "      <th>2</th>\n",
       "      <td>qm</td>\n",
       "      <td>23</td>\n",
       "      <td>157</td>\n",
       "      <td>F</td>\n",
       "      <td>47</td>\n",
       "      <td>l</td>\n",
       "      <td>2017-12-21 18:19:27.438000+08:00</td>\n",
       "      <td>2017-12-21 18:21:45.834000+08:00</td>\n",
       "    </tr>\n",
       "    <tr>\n",
       "      <th>3</th>\n",
       "      <td>t</td>\n",
       "      <td>20</td>\n",
       "      <td>180</td>\n",
       "      <td>M</td>\n",
       "      <td>65</td>\n",
       "      <td>l</td>\n",
       "      <td>2018-01-08 15:13:19.542000+08:00</td>\n",
       "      <td>2018-01-08 15:15:50.974000+08:00</td>\n",
       "    </tr>\n",
       "    <tr>\n",
       "      <th>4</th>\n",
       "      <td>t</td>\n",
       "      <td>19</td>\n",
       "      <td>153</td>\n",
       "      <td>F</td>\n",
       "      <td>46</td>\n",
       "      <td>l</td>\n",
       "      <td>2018-01-08 17:01:40.780000+08:00</td>\n",
       "      <td>2018-01-08 17:03:30.726000+08:00</td>\n",
       "    </tr>\n",
       "  </tbody>\n",
       "</table>\n",
       "</div>"
      ],
      "text/plain": [
       "  Tester_Name  Tester_Age  Tester_Height Tester_Gender  Tester_Weight  \\\n",
       "0       wang           20            166             M             50   \n",
       "1          fu          21            175             M             85   \n",
       "2          qm          23            157             F             47   \n",
       "3           t          20            180             M             65   \n",
       "4           t          19            153             F             46   \n",
       "\n",
       "  Tester_hand                        start_time  \\\n",
       "0           l  2018-01-08 15:47:33.030000+08:00   \n",
       "1           l  2018-01-08 15:31:31.510000+08:00   \n",
       "2           l  2017-12-21 18:19:27.438000+08:00   \n",
       "3           l  2018-01-08 15:13:19.542000+08:00   \n",
       "4           l  2018-01-08 17:01:40.780000+08:00   \n",
       "\n",
       "                           end_time  \n",
       "0  2018-01-08 15:50:02.274000+08:00  \n",
       "1  2018-01-08 15:33:58.316000+08:00  \n",
       "2  2017-12-21 18:21:45.834000+08:00  \n",
       "3  2018-01-08 15:15:50.974000+08:00  \n",
       "4  2018-01-08 17:03:30.726000+08:00  "
      ]
     },
     "execution_count": 8,
     "metadata": {},
     "output_type": "execute_result"
    }
   ],
   "source": [
    "tester.head()"
   ]
  },
  {
   "cell_type": "code",
   "execution_count": 9,
   "metadata": {},
   "outputs": [
    {
     "data": {
      "text/plain": [
       "Counter({'F': 38, 'M': 54})"
      ]
     },
     "execution_count": 9,
     "metadata": {},
     "output_type": "execute_result"
    }
   ],
   "source": [
    "Counter(tester.Tester_Gender.tolist())"
   ]
  },
  {
   "cell_type": "code",
   "execution_count": 17,
   "metadata": {},
   "outputs": [
    {
     "data": {
      "image/png": "[encoded data removed]",
      "text/plain": [
       "<matplotlib.figure.Figure at 0x117837a58>"
      ]
     },
     "metadata": {},
     "output_type": "display_data"
    }
   ],
   "source": [
    "plt.hist(tester.Tester_Age.tolist(), bins='auto')  # arguments are passed to np.histogram\n",
    "plt.title(\"Distribution of Participants' Ages\")\n",
    "plt.savefig('/Users/Ageha/Desktop/age.png')\n",
    "plt.show()\n"
   ]
  },
  {
   "cell_type": "code",
   "execution_count": null,
   "metadata": {},
   "outputs": [],
   "source": []
  },
  {
   "cell_type": "code",
   "execution_count": null,
   "metadata": {
    "collapsed": true
   },
   "outputs": [],
   "source": []
  }
 ],
 "metadata": {
  "kernelspec": {
   "display_name": "Python 3",
   "language": "python",
   "name": "python3"
  },
  "language_info": {
   "codemirror_mode": {
    "name": "ipython",
    "version": 3
   },
   "file_extension": ".py",
   "mimetype": "text/x-python",
   "name": "python",
   "nbconvert_exporter": "python",
   "pygments_lexer": "ipython3",
   "version": "3.6.1"
  }
 },
 "nbformat": 4,
 "nbformat_minor": 2
}
