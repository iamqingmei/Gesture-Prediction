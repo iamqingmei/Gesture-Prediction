{
 "cells": [
  {
   "cell_type": "code",
   "execution_count": 2,
   "metadata": {
    "collapsed": true
   },
   "outputs": [],
   "source": [
    "import pandas as pd\n",
    "import numpy as np\n",
    "import os\n",
    "import matplotlib.pyplot as plt\n",
    "from collections import Counter\n",
    "import datetime\n",
    "import sys\n",
    "import logging"
   ]
  },
  {
   "cell_type": "code",
   "execution_count": 3,
   "metadata": {},
   "outputs": [
    {
     "name": "stderr",
     "output_type": "stream",
     "text": [
      "/Users/Ageha/anaconda/lib/python3.6/site-packages/IPython/core/interactiveshell.py:2821: DtypeWarning: Columns (8) have mixed types. Specify dtype option on import or set low_memory=False.\n",
      "  if self.run_code(code, result):\n"
     ]
    }
   ],
   "source": [
    "sensor_df = pd.DataFrame.from_csv(\"../../data/database/sensor_data.csv\")"
   ]
  },
  {
   "cell_type": "code",
   "execution_count": 3,
   "metadata": {},
   "outputs": [
    {
     "name": "stdout",
     "output_type": "stream",
     "text": [
      "user 0.0\n",
      "Counter({'Start2': 4315, 'Start1': 4269, '4': 4253, '3': 3802, '2': 3565, '5': 3370, '9': 3263, '8': 3162, '6': 2840, '0': 2553, '7': 2487, '1': 1137})\n",
      "user 1.0\n",
      "Counter({'Start1': 4326, 'Start2': 4293, '5': 3361, '4': 3352, '8': 3256, '3': 3179, '9': 3145, '6': 2824, '7': 2658, '0': 2523, '2': 2464, '1': 1807})\n",
      "user 2.0\n",
      "Counter({'Start2': 4279, 'Start1': 4245, '5': 3210, '8': 3165, '3': 2910, '4': 2797, '6': 2725, '9': 2598, '2': 2485, '0': 2452, '7': 2306, '1': 1814})\n",
      "user 3.0\n",
      "Counter({'Start2': 6185, 'Start1': 6070, '8': 5318, '4': 4775, '9': 4756, '2': 4517, '5': 4162, '6': 3955, '3': 3808, '7': 3783, '0': 2893, '1': 2634})\n",
      "user 4.0\n",
      "Counter({'Start2': 6273, 'Start1': 6078, '5': 4601, '4': 4596, '6': 4493, '8': 4241, '3': 4219, '2': 3964, '7': 3578, '0': 3477, '9': 3423, '1': 2792})\n",
      "user 5.0\n",
      "Counter({'Start1': 6129, 'Start2': 6093, '8': 4566, '4': 4509, '5': 4448, '3': 4259, '9': 4108, '2': 3936, '0': 3476, '7': 3349, '6': 2881, '1': 1804})\n",
      "user 6.0\n",
      "Counter({'Start1': 6050, 'Start2': 6029, '4': 4330, '5': 4111, '9': 4080, '8': 4070, '3': 3771, '0': 3579, '1': 3472, '6': 3455, '2': 3307, '7': 3066})\n"
     ]
    }
   ],
   "source": [
    "for i in set(sensor_df.tester_id.tolist()):\n",
    "    print('user ' + str(i))\n",
    "    print(Counter(sensor_df[sensor_df.tester_id == i].TagName))\n"
   ]
  },
  {
   "cell_type": "code",
   "execution_count": 4,
   "metadata": {},
   "outputs": [
    {
     "data": {
      "text/plain": [
       "Counter({0.0: 39016,\n",
       "         1.0: 37188,\n",
       "         2.0: 34986,\n",
       "         3.0: 52856,\n",
       "         4.0: 51735,\n",
       "         5.0: 49558,\n",
       "         6.0: 49320})"
      ]
     },
     "execution_count": 4,
     "metadata": {},
     "output_type": "execute_result"
    }
   ],
   "source": [
    "Counter(sensor_df.tester_id)"
   ]
  },
  {
   "cell_type": "code",
   "execution_count": 4,
   "metadata": {},
   "outputs": [
    {
     "data": {
      "text/plain": [
       "{0.0,\n",
       " 1.0,\n",
       " 2.0,\n",
       " 3.0,\n",
       " 4.0,\n",
       " 5.0,\n",
       " 6.0,\n",
       " 8.0,\n",
       " 10.0,\n",
       " 11.0,\n",
       " 14.0,\n",
       " 15.0,\n",
       " 16.0,\n",
       " 17.0,\n",
       " 18.0,\n",
       " 19.0,\n",
       " 20.0,\n",
       " 21.0,\n",
       " 22.0,\n",
       " 23.0,\n",
       " 36.0,\n",
       " 38.0,\n",
       " 40.0,\n",
       " 41.0,\n",
       " 43.0,\n",
       " 44.0,\n",
       " 46.0,\n",
       " 48.0,\n",
       " 55.0,\n",
       " 56.0,\n",
       " 57.0,\n",
       " 58.0,\n",
       " 66.0,\n",
       " 68.0,\n",
       " 72.0}"
      ]
     },
     "execution_count": 4,
     "metadata": {},
     "output_type": "execute_result"
    }
   ],
   "source": [
    "set(sensor_df.tester_id.tolist())"
   ]
  },
  {
   "cell_type": "code",
   "execution_count": null,
   "metadata": {
    "collapsed": true
   },
   "outputs": [],
   "source": []
  },
  {
   "cell_type": "code",
   "execution_count": 26,
   "metadata": {
    "collapsed": true
   },
   "outputs": [],
   "source": [
    "user0 = sensor_df[sensor_df.tester_id == 3]\n",
    "user0_action_1 = user0[user0.TagName == '2']"
   ]
  },
  {
   "cell_type": "code",
   "execution_count": 27,
   "metadata": {
    "collapsed": true
   },
   "outputs": [],
   "source": [
    "user0_action_1_acc = user0_action_1[user0_action_1.SENSORTYPE == 1]\n"
   ]
  },
  {
   "cell_type": "code",
   "execution_count": 28,
   "metadata": {},
   "outputs": [
    {
     "data": {
      "image/png": "[encoded data removed]",
      "text/plain": [
       "<matplotlib.figure.Figure at 0x11951bc18>"
      ]
     },
     "metadata": {},
     "output_type": "display_data"
    }
   ],
   "source": [
    "plt.plot(pd.to_datetime(user0_action_1_acc.TIMESTAMP), user0_action_1_acc.VALUES3)\n",
    "plt.show()"
   ]
  },
  {
   "cell_type": "code",
   "execution_count": 95,
   "metadata": {},
   "outputs": [
    {
     "data": {
      "image/png": "[encoded data removed]",
      "text/plain": [
       "<matplotlib.figure.Figure at 0x115b9d470>"
      ]
     },
     "metadata": {},
     "output_type": "display_data"
    }
   ],
   "source": [
    "plt.plot(pd.to_datetime(user0.TIMESTAMP)[:20], user0.VALUES1[0:20])\n",
    "plt.show()"
   ]
  },
  {
   "cell_type": "code",
   "execution_count": 99,
   "metadata": {},
   "outputs": [
    {
     "data": {
      "text/plain": [
       "76204     0.129034\n",
       "76205    85.081740\n",
       "76206    -0.387770\n",
       "76207    88.541504\n",
       "76208    -0.015980\n",
       "76209     0.128976\n",
       "76210    85.089780\n",
       "76211    -0.368621\n",
       "76212    88.541504\n",
       "76213    -0.013317\n",
       "76214     0.128920\n",
       "76215    85.097710\n",
       "76216    -0.330322\n",
       "76217    -0.010653\n",
       "76218     0.128868\n",
       "76219    85.105460\n",
       "76220    -0.320748\n",
       "76221    90.219000\n",
       "76222    -0.007990\n",
       "76223     0.128820\n",
       "76224    85.113205\n",
       "76225    -0.282450\n",
       "76226    -0.005327\n",
       "76227     0.128738\n",
       "76228    85.120430\n",
       "76229    -0.292024\n",
       "76230    90.768000\n",
       "76231     0.000000\n",
       "76232     0.128701\n",
       "76233    85.128370\n",
       "76234    -0.292024\n",
       "76235     0.002663\n",
       "76236     0.128674\n",
       "76237    85.136790\n",
       "76238    89.090500\n",
       "76239     0.007990\n",
       "76240     0.128660\n",
       "76241    85.145500\n",
       "76242    -0.292024\n",
       "76243     0.018644\n",
       "76244     0.128679\n",
       "76245    85.164070\n",
       "76246    -0.263300\n",
       "76247    89.090500\n",
       "76248     0.029297\n",
       "76249     0.128657\n",
       "76250    85.172670\n",
       "76251    -0.292024\n",
       "76252     0.037287\n",
       "76253     0.128700\n",
       "Name: VALUES1, dtype: float64"
      ]
     },
     "execution_count": 99,
     "metadata": {},
     "output_type": "execute_result"
    }
   ],
   "source": [
    "user0.VALUES1.head(50)"
   ]
  },
  {
   "cell_type": "code",
   "execution_count": 34,
   "metadata": {
    "collapsed": true
   },
   "outputs": [],
   "source": [
    "sensor_df = sensor_df[sensor_df.tester_id != 3]"
   ]
  },
  {
   "cell_type": "code",
   "execution_count": 35,
   "metadata": {},
   "outputs": [
    {
     "data": {
      "text/plain": [
       "101525"
      ]
     },
     "execution_count": 35,
     "metadata": {},
     "output_type": "execute_result"
    }
   ],
   "source": [
    "len(sensor_df)"
   ]
  },
  {
   "cell_type": "code",
   "execution_count": 36,
   "metadata": {
    "collapsed": true
   },
   "outputs": [],
   "source": [
    "sensor_df.to_csv(\"../../data/database/sensor_data.csv\")"
   ]
  },
  {
   "cell_type": "code",
   "execution_count": 42,
   "metadata": {
    "collapsed": true
   },
   "outputs": [],
   "source": [
    "t = pd.DataFrame.from_csv(\"../../data/database/tester_info.csv\")"
   ]
  },
  {
   "cell_type": "code",
   "execution_count": 47,
   "metadata": {
    "collapsed": true
   },
   "outputs": [],
   "source": [
    "t = t.loc[:4]"
   ]
  },
  {
   "cell_type": "code",
   "execution_count": 49,
   "metadata": {
    "collapsed": true
   },
   "outputs": [],
   "source": [
    "t.to_csv(\"../../data/database/tester_info.csv\")"
   ]
  },
  {
   "cell_type": "code",
   "execution_count": 48,
   "metadata": {},
   "outputs": [
    {
     "data": {
      "text/html": [
       "<div>\n",
       "<style>\n",
       "    .dataframe thead tr:only-child th {\n",
       "        text-align: right;\n",
       "    }\n",
       "\n",
       "    .dataframe thead th {\n",
       "        text-align: left;\n",
       "    }\n",
       "\n",
       "    .dataframe tbody tr th {\n",
       "        vertical-align: top;\n",
       "    }\n",
       "</style>\n",
       "<table border=\"1\" class=\"dataframe\">\n",
       "  <thead>\n",
       "    <tr style=\"text-align: right;\">\n",
       "      <th></th>\n",
       "      <th>Tester_Name</th>\n",
       "      <th>Tester_Age</th>\n",
       "      <th>Tester_Height</th>\n",
       "      <th>Tester_Gender</th>\n",
       "      <th>Tester_Weight</th>\n",
       "      <th>Tester_hand</th>\n",
       "      <th>start_time</th>\n",
       "      <th>end_time</th>\n",
       "    </tr>\n",
       "  </thead>\n",
       "  <tbody>\n",
       "    <tr>\n",
       "      <th>0</th>\n",
       "      <td>qm</td>\n",
       "      <td>23</td>\n",
       "      <td>157</td>\n",
       "      <td>F</td>\n",
       "      <td>47</td>\n",
       "      <td>l</td>\n",
       "      <td>2017-11-22 16:32:06.583000+08:00</td>\n",
       "      <td>2017-11-22 16:34:38.263000+08:00</td>\n",
       "    </tr>\n",
       "    <tr>\n",
       "      <th>1</th>\n",
       "      <td>qm</td>\n",
       "      <td>23</td>\n",
       "      <td>157</td>\n",
       "      <td>F</td>\n",
       "      <td>47</td>\n",
       "      <td>l</td>\n",
       "      <td>2017-12-19 17:34:49.638000+08:00</td>\n",
       "      <td>2017-12-19 17:37:41.407000+08:00</td>\n",
       "    </tr>\n",
       "    <tr>\n",
       "      <th>2</th>\n",
       "      <td>qm</td>\n",
       "      <td>23</td>\n",
       "      <td>157</td>\n",
       "      <td>F</td>\n",
       "      <td>47</td>\n",
       "      <td>l</td>\n",
       "      <td>2017-12-19 17:41:44.546000+08:00</td>\n",
       "      <td>2017-12-19 17:44:13.425000+08:00</td>\n",
       "    </tr>\n",
       "    <tr>\n",
       "      <th>3</th>\n",
       "      <td>qm</td>\n",
       "      <td>23</td>\n",
       "      <td>157</td>\n",
       "      <td>F</td>\n",
       "      <td>47</td>\n",
       "      <td>l</td>\n",
       "      <td>2017-12-21 18:16:32.230000+08:00</td>\n",
       "      <td>2017-12-21 18:18:59.680000+08:00</td>\n",
       "    </tr>\n",
       "    <tr>\n",
       "      <th>4</th>\n",
       "      <td>qm</td>\n",
       "      <td>23</td>\n",
       "      <td>157</td>\n",
       "      <td>F</td>\n",
       "      <td>47</td>\n",
       "      <td>l</td>\n",
       "      <td>2017-12-21 18:19:27.438000+08:00</td>\n",
       "      <td>2017-12-21 18:21:45.834000+08:00</td>\n",
       "    </tr>\n",
       "  </tbody>\n",
       "</table>\n",
       "</div>"
      ],
      "text/plain": [
       "  Tester_Name  Tester_Age  Tester_Height Tester_Gender  Tester_Weight  \\\n",
       "0          qm          23            157             F             47   \n",
       "1          qm          23            157             F             47   \n",
       "2          qm          23            157             F             47   \n",
       "3          qm          23            157             F             47   \n",
       "4          qm          23            157             F             47   \n",
       "\n",
       "  Tester_hand                        start_time  \\\n",
       "0           l  2017-11-22 16:32:06.583000+08:00   \n",
       "1           l  2017-12-19 17:34:49.638000+08:00   \n",
       "2           l  2017-12-19 17:41:44.546000+08:00   \n",
       "3           l  2017-12-21 18:16:32.230000+08:00   \n",
       "4           l  2017-12-21 18:19:27.438000+08:00   \n",
       "\n",
       "                           end_time  \n",
       "0  2017-11-22 16:34:38.263000+08:00  \n",
       "1  2017-12-19 17:37:41.407000+08:00  \n",
       "2  2017-12-19 17:44:13.425000+08:00  \n",
       "3  2017-12-21 18:18:59.680000+08:00  \n",
       "4  2017-12-21 18:21:45.834000+08:00  "
      ]
     },
     "execution_count": 48,
     "metadata": {},
     "output_type": "execute_result"
    }
   ],
   "source": [
    "t"
   ]
  },
  {
   "cell_type": "code",
   "execution_count": null,
   "metadata": {
    "collapsed": true
   },
   "outputs": [],
   "source": [
    "# check each user should only have 10 number gesture"
   ]
  }
 ],
 "metadata": {
  "celltoolbar": "Edit Metadata",
  "kernelspec": {
   "display_name": "Python 3",
   "language": "python",
   "name": "python3"
  },
  "language_info": {
   "codemirror_mode": {
    "name": "ipython",
    "version": 3
   },
   "file_extension": ".py",
   "mimetype": "text/x-python",
   "name": "python",
   "nbconvert_exporter": "python",
   "pygments_lexer": "ipython3",
   "version": "3.6.1"
  }
 },
 "nbformat": 4,
 "nbformat_minor": 2
}
