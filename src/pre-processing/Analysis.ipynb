{
 "cells": [
  {
   "cell_type": "code",
   "execution_count": 1,
   "metadata": {
    "collapsed": true
   },
   "outputs": [],
   "source": [
    "import pandas as pd\n",
    "import numpy as np\n",
    "import os\n",
    "import matplotlib.pyplot as plt\n",
    "from collections import Counter\n",
    "import datetime\n",
    "import sys\n",
    "import logging"
   ]
  },
  {
   "cell_type": "code",
   "execution_count": 44,
   "metadata": {
    "collapsed": true
   },
   "outputs": [],
   "source": [
    "sensor_df = pd.DataFrame.from_csv(\"../../data/database/sensor_data.csv\")"
   ]
  },
  {
   "cell_type": "code",
   "execution_count": 45,
   "metadata": {},
   "outputs": [
    {
     "data": {
      "text/plain": [
       "Counter({'0': 6954,\n",
       "         '1': 4688,\n",
       "         '2': 8866,\n",
       "         '3': 10925,\n",
       "         '4': 12501,\n",
       "         '5': 11377,\n",
       "         '6': 8355,\n",
       "         '7': 7247,\n",
       "         '8': 9797,\n",
       "         '9': 9426,\n",
       "         'Start1': 18920,\n",
       "         'Start2': 18936})"
      ]
     },
     "execution_count": 45,
     "metadata": {},
     "output_type": "execute_result"
    }
   ],
   "source": [
    "Counter(sensor_df.TagName)\n"
   ]
  },
  {
   "cell_type": "code",
   "execution_count": 46,
   "metadata": {},
   "outputs": [
    {
     "data": {
      "text/plain": [
       "Counter({0.0: 41582, 1.0: 31404, 2.0: 28539, 4.0: 26467})"
      ]
     },
     "execution_count": 46,
     "metadata": {},
     "output_type": "execute_result"
    }
   ],
   "source": [
    "Counter(sensor_df.tester_id)"
   ]
  },
  {
   "cell_type": "code",
   "execution_count": 34,
   "metadata": {
    "collapsed": true
   },
   "outputs": [],
   "source": [
    "sensor_df = sensor_df[sensor_df.tester_id != 3]"
   ]
  },
  {
   "cell_type": "code",
   "execution_count": 35,
   "metadata": {},
   "outputs": [
    {
     "data": {
      "text/plain": [
       "101525"
      ]
     },
     "execution_count": 35,
     "metadata": {},
     "output_type": "execute_result"
    }
   ],
   "source": [
    "len(sensor_df)"
   ]
  },
  {
   "cell_type": "code",
   "execution_count": 36,
   "metadata": {
    "collapsed": true
   },
   "outputs": [],
   "source": [
    "sensor_df.to_csv(\"../../data/database/sensor_data.csv\")"
   ]
  },
  {
   "cell_type": "code",
   "execution_count": 42,
   "metadata": {
    "collapsed": true
   },
   "outputs": [],
   "source": [
    "t = pd.DataFrame.from_csv(\"../../data/database/tester_info.csv\")"
   ]
  },
  {
   "cell_type": "code",
   "execution_count": 47,
   "metadata": {},
   "outputs": [],
   "source": [
    "t = t.loc[:4]"
   ]
  },
  {
   "cell_type": "code",
   "execution_count": 49,
   "metadata": {},
   "outputs": [],
   "source": [
    "t.to_csv(\"../../data/database/tester_info.csv\")"
   ]
  },
  {
   "cell_type": "code",
   "execution_count": 48,
   "metadata": {},
   "outputs": [
    {
     "data": {
      "text/html": [
       "<div>\n",
       "<style>\n",
       "    .dataframe thead tr:only-child th {\n",
       "        text-align: right;\n",
       "    }\n",
       "\n",
       "    .dataframe thead th {\n",
       "        text-align: left;\n",
       "    }\n",
       "\n",
       "    .dataframe tbody tr th {\n",
       "        vertical-align: top;\n",
       "    }\n",
       "</style>\n",
       "<table border=\"1\" class=\"dataframe\">\n",
       "  <thead>\n",
       "    <tr style=\"text-align: right;\">\n",
       "      <th></th>\n",
       "      <th>Tester_Name</th>\n",
       "      <th>Tester_Age</th>\n",
       "      <th>Tester_Height</th>\n",
       "      <th>Tester_Gender</th>\n",
       "      <th>Tester_Weight</th>\n",
       "      <th>Tester_hand</th>\n",
       "      <th>start_time</th>\n",
       "      <th>end_time</th>\n",
       "    </tr>\n",
       "  </thead>\n",
       "  <tbody>\n",
       "    <tr>\n",
       "      <th>0</th>\n",
       "      <td>qm</td>\n",
       "      <td>23</td>\n",
       "      <td>157</td>\n",
       "      <td>F</td>\n",
       "      <td>47</td>\n",
       "      <td>l</td>\n",
       "      <td>2017-11-22 16:32:06.583000+08:00</td>\n",
       "      <td>2017-11-22 16:34:38.263000+08:00</td>\n",
       "    </tr>\n",
       "    <tr>\n",
       "      <th>1</th>\n",
       "      <td>qm</td>\n",
       "      <td>23</td>\n",
       "      <td>157</td>\n",
       "      <td>F</td>\n",
       "      <td>47</td>\n",
       "      <td>l</td>\n",
       "      <td>2017-12-19 17:34:49.638000+08:00</td>\n",
       "      <td>2017-12-19 17:37:41.407000+08:00</td>\n",
       "    </tr>\n",
       "    <tr>\n",
       "      <th>2</th>\n",
       "      <td>qm</td>\n",
       "      <td>23</td>\n",
       "      <td>157</td>\n",
       "      <td>F</td>\n",
       "      <td>47</td>\n",
       "      <td>l</td>\n",
       "      <td>2017-12-19 17:41:44.546000+08:00</td>\n",
       "      <td>2017-12-19 17:44:13.425000+08:00</td>\n",
       "    </tr>\n",
       "    <tr>\n",
       "      <th>3</th>\n",
       "      <td>qm</td>\n",
       "      <td>23</td>\n",
       "      <td>157</td>\n",
       "      <td>F</td>\n",
       "      <td>47</td>\n",
       "      <td>l</td>\n",
       "      <td>2017-12-21 18:16:32.230000+08:00</td>\n",
       "      <td>2017-12-21 18:18:59.680000+08:00</td>\n",
       "    </tr>\n",
       "    <tr>\n",
       "      <th>4</th>\n",
       "      <td>qm</td>\n",
       "      <td>23</td>\n",
       "      <td>157</td>\n",
       "      <td>F</td>\n",
       "      <td>47</td>\n",
       "      <td>l</td>\n",
       "      <td>2017-12-21 18:19:27.438000+08:00</td>\n",
       "      <td>2017-12-21 18:21:45.834000+08:00</td>\n",
       "    </tr>\n",
       "  </tbody>\n",
       "</table>\n",
       "</div>"
      ],
      "text/plain": [
       "  Tester_Name  Tester_Age  Tester_Height Tester_Gender  Tester_Weight  \\\n",
       "0          qm          23            157             F             47   \n",
       "1          qm          23            157             F             47   \n",
       "2          qm          23            157             F             47   \n",
       "3          qm          23            157             F             47   \n",
       "4          qm          23            157             F             47   \n",
       "\n",
       "  Tester_hand                        start_time  \\\n",
       "0           l  2017-11-22 16:32:06.583000+08:00   \n",
       "1           l  2017-12-19 17:34:49.638000+08:00   \n",
       "2           l  2017-12-19 17:41:44.546000+08:00   \n",
       "3           l  2017-12-21 18:16:32.230000+08:00   \n",
       "4           l  2017-12-21 18:19:27.438000+08:00   \n",
       "\n",
       "                           end_time  \n",
       "0  2017-11-22 16:34:38.263000+08:00  \n",
       "1  2017-12-19 17:37:41.407000+08:00  \n",
       "2  2017-12-19 17:44:13.425000+08:00  \n",
       "3  2017-12-21 18:18:59.680000+08:00  \n",
       "4  2017-12-21 18:21:45.834000+08:00  "
      ]
     },
     "execution_count": 48,
     "metadata": {},
     "output_type": "execute_result"
    }
   ],
   "source": [
    "t"
   ]
  },
  {
   "cell_type": "code",
   "execution_count": null,
   "metadata": {
    "collapsed": true
   },
   "outputs": [],
   "source": []
  }
 ],
 "metadata": {
  "kernelspec": {
   "display_name": "Python 3",
   "language": "python",
   "name": "python3"
  },
  "language_info": {
   "codemirror_mode": {
    "name": "ipython",
    "version": 3
   },
   "file_extension": ".py",
   "mimetype": "text/x-python",
   "name": "python",
   "nbconvert_exporter": "python",
   "pygments_lexer": "ipython3",
   "version": "3.6.1"
  }
 },
 "nbformat": 4,
 "nbformat_minor": 2
}
