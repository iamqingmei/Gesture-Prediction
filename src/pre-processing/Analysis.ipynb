{
 "cells": [
  {
   "cell_type": "code",
   "execution_count": 2,
   "metadata": {
    "collapsed": true
   },
   "outputs": [],
   "source": [
    "import pandas as pd\n",
    "import numpy as np\n",
    "import os\n",
    "import matplotlib.pyplot as plt\n",
    "from collections import Counter\n",
    "import datetime\n",
    "import sys\n",
    "import logging"
   ]
  },
  {
   "cell_type": "code",
   "execution_count": 3,
   "metadata": {
    "collapsed": true
   },
   "outputs": [],
   "source": [
    "sensor_df = pd.DataFrame.from_csv(\"../../data/database/sensor_data.csv\")"
   ]
  },
  {
   "cell_type": "code",
   "execution_count": 4,
   "metadata": {},
   "outputs": [
    {
     "data": {
      "text/plain": [
       "Counter({'0': 11882,\n",
       "         '1': 6531,\n",
       "         '2': 11740,\n",
       "         '3': 12816,\n",
       "         '4': 13789,\n",
       "         '5': 13158,\n",
       "         '6': 10987,\n",
       "         '7': 10291,\n",
       "         '8': 12784,\n",
       "         '9': 11792,\n",
       "         'Start1': 17201,\n",
       "         'Start2': 13187})"
      ]
     },
     "execution_count": 4,
     "metadata": {},
     "output_type": "execute_result"
    }
   ],
   "source": [
    "Counter(sensor_df.TagName)\n"
   ]
  },
  {
   "cell_type": "code",
   "execution_count": 5,
   "metadata": {},
   "outputs": [
    {
     "data": {
      "text/plain": [
       "Counter({0.0: 39016, 1.0: 37188, 2.0: 34968, 3.0: 34986})"
      ]
     },
     "execution_count": 5,
     "metadata": {},
     "output_type": "execute_result"
    }
   ],
   "source": [
    "Counter(sensor_df.tester_id)"
   ]
  },
  {
   "cell_type": "code",
   "execution_count": 7,
   "metadata": {},
   "outputs": [
    {
     "data": {
      "text/html": [
       "<div>\n",
       "<style>\n",
       "    .dataframe thead tr:only-child th {\n",
       "        text-align: right;\n",
       "    }\n",
       "\n",
       "    .dataframe thead th {\n",
       "        text-align: left;\n",
       "    }\n",
       "\n",
       "    .dataframe tbody tr th {\n",
       "        vertical-align: top;\n",
       "    }\n",
       "</style>\n",
       "<table border=\"1\" class=\"dataframe\">\n",
       "  <thead>\n",
       "    <tr style=\"text-align: right;\">\n",
       "      <th></th>\n",
       "      <th>TIMESTAMP</th>\n",
       "      <th>SENSORTYPE</th>\n",
       "      <th>VALUES1</th>\n",
       "      <th>VALUES2</th>\n",
       "      <th>VALUES3</th>\n",
       "      <th>VALUES4</th>\n",
       "      <th>VALUES5</th>\n",
       "      <th>TagName</th>\n",
       "      <th>tester_id</th>\n",
       "    </tr>\n",
       "  </thead>\n",
       "  <tbody>\n",
       "    <tr>\n",
       "      <th>0</th>\n",
       "      <td>2017-12-19 17:35:13.018666667+08:00</td>\n",
       "      <td>11</td>\n",
       "      <td>-0.232643</td>\n",
       "      <td>-0.193970</td>\n",
       "      <td>0.029776</td>\n",
       "      <td>-0.952558</td>\n",
       "      <td>0.0</td>\n",
       "      <td>1</td>\n",
       "      <td>0.0</td>\n",
       "    </tr>\n",
       "    <tr>\n",
       "      <th>1</th>\n",
       "      <td>2017-12-19 17:35:13.018666667+08:00</td>\n",
       "      <td>3</td>\n",
       "      <td>357.919830</td>\n",
       "      <td>-27.863928</td>\n",
       "      <td>22.543772</td>\n",
       "      <td>NaN</td>\n",
       "      <td>NaN</td>\n",
       "      <td>1</td>\n",
       "      <td>0.0</td>\n",
       "    </tr>\n",
       "    <tr>\n",
       "      <th>2</th>\n",
       "      <td>2017-12-19 17:35:13.018666667+08:00</td>\n",
       "      <td>1</td>\n",
       "      <td>-3.451629</td>\n",
       "      <td>4.016528</td>\n",
       "      <td>7.386774</td>\n",
       "      <td>NaN</td>\n",
       "      <td>NaN</td>\n",
       "      <td>1</td>\n",
       "      <td>0.0</td>\n",
       "    </tr>\n",
       "    <tr>\n",
       "      <th>3</th>\n",
       "      <td>2017-12-19 17:35:13.018666667+08:00</td>\n",
       "      <td>2</td>\n",
       "      <td>107.878500</td>\n",
       "      <td>59.719000</td>\n",
       "      <td>-134.688000</td>\n",
       "      <td>NaN</td>\n",
       "      <td>NaN</td>\n",
       "      <td>1</td>\n",
       "      <td>0.0</td>\n",
       "    </tr>\n",
       "    <tr>\n",
       "      <th>4</th>\n",
       "      <td>2017-12-19 17:35:13.018666667+08:00</td>\n",
       "      <td>4</td>\n",
       "      <td>-0.002663</td>\n",
       "      <td>0.002663</td>\n",
       "      <td>-0.026634</td>\n",
       "      <td>NaN</td>\n",
       "      <td>NaN</td>\n",
       "      <td>1</td>\n",
       "      <td>0.0</td>\n",
       "    </tr>\n",
       "  </tbody>\n",
       "</table>\n",
       "</div>"
      ],
      "text/plain": [
       "                             TIMESTAMP  SENSORTYPE     VALUES1    VALUES2  \\\n",
       "0  2017-12-19 17:35:13.018666667+08:00          11   -0.232643  -0.193970   \n",
       "1  2017-12-19 17:35:13.018666667+08:00           3  357.919830 -27.863928   \n",
       "2  2017-12-19 17:35:13.018666667+08:00           1   -3.451629   4.016528   \n",
       "3  2017-12-19 17:35:13.018666667+08:00           2  107.878500  59.719000   \n",
       "4  2017-12-19 17:35:13.018666667+08:00           4   -0.002663   0.002663   \n",
       "\n",
       "      VALUES3   VALUES4  VALUES5  TagName  tester_id  \n",
       "0    0.029776 -0.952558       0.0       1        0.0  \n",
       "1   22.543772       NaN       NaN       1        0.0  \n",
       "2    7.386774       NaN       NaN       1        0.0  \n",
       "3 -134.688000       NaN       NaN       1        0.0  \n",
       "4   -0.026634       NaN       NaN       1        0.0  "
      ]
     },
     "execution_count": 7,
     "metadata": {},
     "output_type": "execute_result"
    }
   ],
   "source": [
    "sensor_df.head()"
   ]
  },
  {
   "cell_type": "code",
   "execution_count": null,
   "metadata": {
    "collapsed": true
   },
   "outputs": [],
   "source": []
  },
  {
   "cell_type": "code",
   "execution_count": 85,
   "metadata": {
    "collapsed": true
   },
   "outputs": [],
   "source": [
    "user0 = sensor_df[sensor_df.tester_id == 2]\n",
    "user0_action_1 = user0[user0.TagName == '1']"
   ]
  },
  {
   "cell_type": "code",
   "execution_count": 90,
   "metadata": {
    "collapsed": true
   },
   "outputs": [],
   "source": [
    "user0_action_1_acc = user0_action_1[user0_action_1.SENSORTYPE == 1]\n"
   ]
  },
  {
   "cell_type": "code",
   "execution_count": 104,
   "metadata": {},
   "outputs": [
    {
     "data": {
      "image/png": "[encoded data removed]",
      "text/plain": [
       "<matplotlib.figure.Figure at 0x117fbd240>"
      ]
     },
     "metadata": {},
     "output_type": "display_data"
    }
   ],
   "source": [
    "plt.plot(pd.to_datetime(user0_action_1_acc.TIMESTAMP), user0_action_1_acc.VALUES3)\n",
    "plt.show()"
   ]
  },
  {
   "cell_type": "code",
   "execution_count": 95,
   "metadata": {},
   "outputs": [
    {
     "data": {
      "image/png": "[encoded data removed]",
      "text/plain": [
       "<matplotlib.figure.Figure at 0x115b9d470>"
      ]
     },
     "metadata": {},
     "output_type": "display_data"
    }
   ],
   "source": [
    "plt.plot(pd.to_datetime(user0.TIMESTAMP)[:20], user0.VALUES1[0:20])\n",
    "plt.show()"
   ]
  },
  {
   "cell_type": "code",
   "execution_count": 99,
   "metadata": {},
   "outputs": [
    {
     "data": {
      "text/plain": [
       "76204     0.129034\n",
       "76205    85.081740\n",
       "76206    -0.387770\n",
       "76207    88.541504\n",
       "76208    -0.015980\n",
       "76209     0.128976\n",
       "76210    85.089780\n",
       "76211    -0.368621\n",
       "76212    88.541504\n",
       "76213    -0.013317\n",
       "76214     0.128920\n",
       "76215    85.097710\n",
       "76216    -0.330322\n",
       "76217    -0.010653\n",
       "76218     0.128868\n",
       "76219    85.105460\n",
       "76220    -0.320748\n",
       "76221    90.219000\n",
       "76222    -0.007990\n",
       "76223     0.128820\n",
       "76224    85.113205\n",
       "76225    -0.282450\n",
       "76226    -0.005327\n",
       "76227     0.128738\n",
       "76228    85.120430\n",
       "76229    -0.292024\n",
       "76230    90.768000\n",
       "76231     0.000000\n",
       "76232     0.128701\n",
       "76233    85.128370\n",
       "76234    -0.292024\n",
       "76235     0.002663\n",
       "76236     0.128674\n",
       "76237    85.136790\n",
       "76238    89.090500\n",
       "76239     0.007990\n",
       "76240     0.128660\n",
       "76241    85.145500\n",
       "76242    -0.292024\n",
       "76243     0.018644\n",
       "76244     0.128679\n",
       "76245    85.164070\n",
       "76246    -0.263300\n",
       "76247    89.090500\n",
       "76248     0.029297\n",
       "76249     0.128657\n",
       "76250    85.172670\n",
       "76251    -0.292024\n",
       "76252     0.037287\n",
       "76253     0.128700\n",
       "Name: VALUES1, dtype: float64"
      ]
     },
     "execution_count": 99,
     "metadata": {},
     "output_type": "execute_result"
    }
   ],
   "source": [
    "user0.VALUES1.head(50)"
   ]
  },
  {
   "cell_type": "code",
   "execution_count": 34,
   "metadata": {
    "collapsed": true
   },
   "outputs": [],
   "source": [
    "sensor_df = sensor_df[sensor_df.tester_id != 3]"
   ]
  },
  {
   "cell_type": "code",
   "execution_count": 35,
   "metadata": {},
   "outputs": [
    {
     "data": {
      "text/plain": [
       "101525"
      ]
     },
     "execution_count": 35,
     "metadata": {},
     "output_type": "execute_result"
    }
   ],
   "source": [
    "len(sensor_df)"
   ]
  },
  {
   "cell_type": "code",
   "execution_count": 36,
   "metadata": {
    "collapsed": true
   },
   "outputs": [],
   "source": [
    "sensor_df.to_csv(\"../../data/database/sensor_data.csv\")"
   ]
  },
  {
   "cell_type": "code",
   "execution_count": 42,
   "metadata": {
    "collapsed": true
   },
   "outputs": [],
   "source": [
    "t = pd.DataFrame.from_csv(\"../../data/database/tester_info.csv\")"
   ]
  },
  {
   "cell_type": "code",
   "execution_count": 47,
   "metadata": {
    "collapsed": true
   },
   "outputs": [],
   "source": [
    "t = t.loc[:4]"
   ]
  },
  {
   "cell_type": "code",
   "execution_count": 49,
   "metadata": {
    "collapsed": true
   },
   "outputs": [],
   "source": [
    "t.to_csv(\"../../data/database/tester_info.csv\")"
   ]
  },
  {
   "cell_type": "code",
   "execution_count": 48,
   "metadata": {},
   "outputs": [
    {
     "data": {
      "text/html": [
       "<div>\n",
       "<style>\n",
       "    .dataframe thead tr:only-child th {\n",
       "        text-align: right;\n",
       "    }\n",
       "\n",
       "    .dataframe thead th {\n",
       "        text-align: left;\n",
       "    }\n",
       "\n",
       "    .dataframe tbody tr th {\n",
       "        vertical-align: top;\n",
       "    }\n",
       "</style>\n",
       "<table border=\"1\" class=\"dataframe\">\n",
       "  <thead>\n",
       "    <tr style=\"text-align: right;\">\n",
       "      <th></th>\n",
       "      <th>Tester_Name</th>\n",
       "      <th>Tester_Age</th>\n",
       "      <th>Tester_Height</th>\n",
       "      <th>Tester_Gender</th>\n",
       "      <th>Tester_Weight</th>\n",
       "      <th>Tester_hand</th>\n",
       "      <th>start_time</th>\n",
       "      <th>end_time</th>\n",
       "    </tr>\n",
       "  </thead>\n",
       "  <tbody>\n",
       "    <tr>\n",
       "      <th>0</th>\n",
       "      <td>qm</td>\n",
       "      <td>23</td>\n",
       "      <td>157</td>\n",
       "      <td>F</td>\n",
       "      <td>47</td>\n",
       "      <td>l</td>\n",
       "      <td>2017-11-22 16:32:06.583000+08:00</td>\n",
       "      <td>2017-11-22 16:34:38.263000+08:00</td>\n",
       "    </tr>\n",
       "    <tr>\n",
       "      <th>1</th>\n",
       "      <td>qm</td>\n",
       "      <td>23</td>\n",
       "      <td>157</td>\n",
       "      <td>F</td>\n",
       "      <td>47</td>\n",
       "      <td>l</td>\n",
       "      <td>2017-12-19 17:34:49.638000+08:00</td>\n",
       "      <td>2017-12-19 17:37:41.407000+08:00</td>\n",
       "    </tr>\n",
       "    <tr>\n",
       "      <th>2</th>\n",
       "      <td>qm</td>\n",
       "      <td>23</td>\n",
       "      <td>157</td>\n",
       "      <td>F</td>\n",
       "      <td>47</td>\n",
       "      <td>l</td>\n",
       "      <td>2017-12-19 17:41:44.546000+08:00</td>\n",
       "      <td>2017-12-19 17:44:13.425000+08:00</td>\n",
       "    </tr>\n",
       "    <tr>\n",
       "      <th>3</th>\n",
       "      <td>qm</td>\n",
       "      <td>23</td>\n",
       "      <td>157</td>\n",
       "      <td>F</td>\n",
       "      <td>47</td>\n",
       "      <td>l</td>\n",
       "      <td>2017-12-21 18:16:32.230000+08:00</td>\n",
       "      <td>2017-12-21 18:18:59.680000+08:00</td>\n",
       "    </tr>\n",
       "    <tr>\n",
       "      <th>4</th>\n",
       "      <td>qm</td>\n",
       "      <td>23</td>\n",
       "      <td>157</td>\n",
       "      <td>F</td>\n",
       "      <td>47</td>\n",
       "      <td>l</td>\n",
       "      <td>2017-12-21 18:19:27.438000+08:00</td>\n",
       "      <td>2017-12-21 18:21:45.834000+08:00</td>\n",
       "    </tr>\n",
       "  </tbody>\n",
       "</table>\n",
       "</div>"
      ],
      "text/plain": [
       "  Tester_Name  Tester_Age  Tester_Height Tester_Gender  Tester_Weight  \\\n",
       "0          qm          23            157             F             47   \n",
       "1          qm          23            157             F             47   \n",
       "2          qm          23            157             F             47   \n",
       "3          qm          23            157             F             47   \n",
       "4          qm          23            157             F             47   \n",
       "\n",
       "  Tester_hand                        start_time  \\\n",
       "0           l  2017-11-22 16:32:06.583000+08:00   \n",
       "1           l  2017-12-19 17:34:49.638000+08:00   \n",
       "2           l  2017-12-19 17:41:44.546000+08:00   \n",
       "3           l  2017-12-21 18:16:32.230000+08:00   \n",
       "4           l  2017-12-21 18:19:27.438000+08:00   \n",
       "\n",
       "                           end_time  \n",
       "0  2017-11-22 16:34:38.263000+08:00  \n",
       "1  2017-12-19 17:37:41.407000+08:00  \n",
       "2  2017-12-19 17:44:13.425000+08:00  \n",
       "3  2017-12-21 18:18:59.680000+08:00  \n",
       "4  2017-12-21 18:21:45.834000+08:00  "
      ]
     },
     "execution_count": 48,
     "metadata": {},
     "output_type": "execute_result"
    }
   ],
   "source": [
    "t"
   ]
  },
  {
   "cell_type": "code",
   "execution_count": null,
   "metadata": {
    "collapsed": true
   },
   "outputs": [],
   "source": []
  }
 ],
 "metadata": {
  "celltoolbar": "Edit Metadata",
  "kernelspec": {
   "display_name": "Python 3",
   "language": "python",
   "name": "python3"
  },
  "language_info": {
   "codemirror_mode": {
    "name": "ipython",
    "version": 3
   },
   "file_extension": ".py",
   "mimetype": "text/x-python",
   "name": "python",
   "nbconvert_exporter": "python",
   "pygments_lexer": "ipython3",
   "version": "3.6.1"
  }
 },
 "nbformat": 4,
 "nbformat_minor": 2
}
