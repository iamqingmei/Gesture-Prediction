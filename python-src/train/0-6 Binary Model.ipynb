{
 "cells": [
  {
   "cell_type": "code",
   "execution_count": null,
   "metadata": {},
   "outputs": [],
   "source": [
    "import pandas as pd\n",
    "import numpy as np\n",
    "import matplotlib.pyplot as plt\n",
    "from sklearn.metrics import accuracy_score,confusion_matrix,classification_report\n",
    "from scipy.stats import linregress\n",
    "from sklearn.tree import DecisionTreeClassifier"
   ]
  },
  {
   "cell_type": "markdown",
   "metadata": {},
   "source": [
    "## Load Data"
   ]
  },
  {
   "cell_type": "code",
   "execution_count": null,
   "metadata": {},
   "outputs": [],
   "source": [
    "gesture_features = pd.DataFrame.from_csv(\"../../data/gesture_feature_df.csv\") # get the displacement in z axis\n",
    "train_data = pd.DataFrame.from_csv(\"../../data/database/train_data.csv\")\n",
    "gesture_features = gesture_features[(gesture_features.TagName == 'Tag0') | (gesture_features.TagName == 'Tag6')] # only use\n",
    "train_data = train_data[(train_data.TagName == 'Tag0') | (train_data.TagName == 'Tag6')]"
   ]
  },
  {
   "cell_type": "markdown",
   "metadata": {},
   "source": [
    "## Get training features and labels"
   ]
  },
  {
   "cell_type": "code",
   "execution_count": null,
   "metadata": {},
   "outputs": [],
   "source": [
    "all_data = train_data.groupby(['TagName','tester_id'])\n",
    "all_keys = all_data.groups.keys()\n",
    "X = []\n",
    "y = []\n",
    "displacement_groups = gesture_features.groupby(['TagName','tester_id'])\n",
    "for i in all_keys:\n",
    "    y.append(i[0])\n",
    "    X.append(displacement_groups.get_group(i).d_change.values[0])\n",
    "X = np.array(X).reshape(-1,1)\n",
    "y = np.array(y)\n"
   ]
  },
  {
   "cell_type": "markdown",
   "metadata": {},
   "source": [
    "## Validation"
   ]
  },
  {
   "cell_type": "code",
   "execution_count": null,
   "metadata": {},
   "outputs": [],
   "source": [
    "from sklearn.model_selection import cross_val_score\n",
    "clf = DecisionTreeClassifier(max_depth=2)\n",
    "np.mean(cross_val_score(clf,X,y,cv=10))"
   ]
  },
  {
   "cell_type": "markdown",
   "metadata": {},
   "source": [
    "## Train and Save Model"
   ]
  },
  {
   "cell_type": "code",
   "execution_count": null,
   "metadata": {},
   "outputs": [],
   "source": [
    "clf.fit(X,y)\n",
    "from sklearn.externals import joblib\n",
    "joblib.dump(clf, './binary_model.pkl')"
   ]
  },
  {
   "cell_type": "code",
   "execution_count": null,
   "metadata": {
    "collapsed": true
   },
   "outputs": [],
   "source": []
  }
 ],
 "metadata": {
  "kernelspec": {
   "display_name": "Python 3",
   "language": "python",
   "name": "python3"
  },
  "language_info": {
   "codemirror_mode": {
    "name": "ipython",
    "version": 3
   },
   "file_extension": ".py",
   "mimetype": "text/x-python",
   "name": "python",
   "nbconvert_exporter": "python",
   "pygments_lexer": "ipython3",
   "version": "3.6.1"
  }
 },
 "nbformat": 4,
 "nbformat_minor": 2
}
