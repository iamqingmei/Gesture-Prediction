{
 "cells": [
  {
   "cell_type": "code",
   "execution_count": 1,
   "metadata": {},
   "outputs": [
    {
     "name": "stderr",
     "output_type": "stream",
     "text": [
      "Using TensorFlow backend.\n"
     ]
    }
   ],
   "source": [
    "import pandas as pd\n",
    "import numpy as np\n",
    "import math\n",
    "import matplotlib.pyplot as plt\n",
    "from sklearn.svm import SVC\n",
    "from sklearn.metrics import accuracy_score,confusion_matrix,classification_report\n",
    "from sklearn.preprocessing import MinMaxScaler\n",
    "from scipy.stats import linregress\n",
    "from sklearn.ensemble import RandomForestClassifier\n",
    "from sklearn.tree import DecisionTreeClassifier\n",
    "\n",
    "from keras.layers import Input, Dense, Conv1D, MaxPooling1D, Flatten, concatenate, Conv2D\n",
    "from keras.models import Model\n",
    "from keras.utils import to_categorical\n",
    "from keras.callbacks import ModelCheckpoint\n",
    "from keras.models import model_from_json"
   ]
  },
  {
   "cell_type": "code",
   "execution_count": 2,
   "metadata": {
    "collapsed": true
   },
   "outputs": [],
   "source": [
    "gesture_features = pd.DataFrame.from_csv(\"../../data/gesture_feature_df.csv\")\n",
    "train_data = pd.DataFrame.from_csv(\"../../data/database/special/train_data.csv\")\n",
    "gesture_features = gesture_features[(gesture_features.TagName == 'Tag0') | (gesture_features.TagName == 'Tag6')]\n",
    "train_data = train_data[(train_data.TagName == 'Tag0') | (train_data.TagName == 'Tag6')]"
   ]
  },
  {
   "cell_type": "code",
   "execution_count": 3,
   "metadata": {
    "collapsed": true
   },
   "outputs": [],
   "source": [
    "# all_data = train_data.groupby(['TagName','tester_id'])\n",
    "# all_keys = all_data.groups.keys()\n",
    "# all_keys = list(all_keys)\n",
    "# np.random.shuffle(all_keys)\n",
    "# test_keys = all_keys[:int(len(all_keys)/4)]\n",
    "# test_gesture = []\n",
    "# train_gesture = []\n",
    "\n",
    "# for i in range(len(gesture_features)):\n",
    "#     cur_key = (gesture_features.iloc[i]['TagName'],gesture_features.iloc[i]['tester_id'])\n",
    "#     if cur_key in test_keys:\n",
    "#         test_gesture.append(gesture_features.iloc[i].values)\n",
    "#     else:\n",
    "#         train_gesture.append(gesture_features.iloc[i].values)\n",
    "        \n",
    "# test_gesture = pd.DataFrame(test_gesture,columns=gesture_features.columns)\n",
    "# train_gesture = pd.DataFrame(train_gesture,columns=gesture_features.columns)\n",
    "\n",
    "all_data = train_data.groupby(['TagName','tester_id'])\n",
    "all_keys = all_data.groups.keys()\n",
    "X = []\n",
    "y = []\n",
    "\n",
    "for i in all_keys:\n",
    "    y.append(i[0])\n",
    "    X.append(gesture_features[((gesture_features.TagName == i[0]) & (gesture_features.tester_id == i[1]))]['d_change'].values[0])\n",
    "\n",
    "\n",
    "X = np.array(X).reshape(-1,1)\n",
    "y = np.array(y)"
   ]
  },
  {
   "cell_type": "code",
   "execution_count": 4,
   "metadata": {
    "collapsed": true
   },
   "outputs": [],
   "source": [
    "from sklearn.model_selection import cross_val_score, cross_val_predict"
   ]
  },
  {
   "cell_type": "code",
   "execution_count": 17,
   "metadata": {},
   "outputs": [
    {
     "data": {
      "text/plain": [
       "0.82499999999999996"
      ]
     },
     "execution_count": 17,
     "metadata": {},
     "output_type": "execute_result"
    }
   ],
   "source": [
    "# clf = RandomForestClassifier(n_estimators=30,criterion='gini',max_depth=10)\n",
    "clf = DecisionTreeClassifier(max_depth=2)\n",
    "np.mean(cross_val_score(clf,X,y,cv=10))"
   ]
  },
  {
   "cell_type": "code",
   "execution_count": 21,
   "metadata": {
    "collapsed": true
   },
   "outputs": [],
   "source": [
    "# res = cross_val_predict(clf,X,y,cv=10)\n",
    "res = clf.predict(X)"
   ]
  },
  {
   "cell_type": "code",
   "execution_count": 22,
   "metadata": {},
   "outputs": [
    {
     "name": "stdout",
     "output_type": "stream",
     "text": [
      "             precision    recall  f1-score   support\n",
      "\n",
      "       Tag0       0.93      0.78      0.85        83\n",
      "       Tag6       0.81      0.94      0.87        83\n",
      "\n",
      "avg / total       0.87      0.86      0.86       166\n",
      "\n",
      "[[65 18]\n",
      " [ 5 78]]\n"
     ]
    }
   ],
   "source": [
    "print(classification_report(y, res))\n",
    "print(confusion_matrix(y, res)) "
   ]
  },
  {
   "cell_type": "code",
   "execution_count": 20,
   "metadata": {},
   "outputs": [
    {
     "data": {
      "text/plain": [
       "['./binary_model.pkl']"
      ]
     },
     "execution_count": 20,
     "metadata": {},
     "output_type": "execute_result"
    }
   ],
   "source": [
    "clf.fit(X,y)\n",
    "from sklearn.externals import joblib\n",
    "joblib.dump(clf, './binary_model.pkl')"
   ]
  },
  {
   "cell_type": "code",
   "execution_count": 63,
   "metadata": {},
   "outputs": [
    {
     "data": {
      "text/plain": [
       "0.7831325301204819"
      ]
     },
     "execution_count": 63,
     "metadata": {},
     "output_type": "execute_result"
    }
   ],
   "source": [
    "(66+64)/166"
   ]
  },
  {
   "cell_type": "code",
   "execution_count": 65,
   "metadata": {},
   "outputs": [
    {
     "data": {
      "text/plain": [
       "208"
      ]
     },
     "execution_count": 65,
     "metadata": {},
     "output_type": "execute_result"
    }
   ],
   "source": [
    "len(gesture_features)"
   ]
  },
  {
   "cell_type": "code",
   "execution_count": 66,
   "metadata": {},
   "outputs": [
    {
     "data": {
      "text/plain": [
       "42"
      ]
     },
     "execution_count": 66,
     "metadata": {},
     "output_type": "execute_result"
    }
   ],
   "source": [
    "208-166"
   ]
  },
  {
   "cell_type": "code",
   "execution_count": 67,
   "metadata": {},
   "outputs": [
    {
     "data": {
      "text/plain": [
       "830"
      ]
     },
     "execution_count": 67,
     "metadata": {},
     "output_type": "execute_result"
    }
   ],
   "source": [
    "166*5"
   ]
  },
  {
   "cell_type": "code",
   "execution_count": 68,
   "metadata": {},
   "outputs": [
    {
     "data": {
      "text/plain": [
       "210"
      ]
     },
     "execution_count": 68,
     "metadata": {},
     "output_type": "execute_result"
    }
   ],
   "source": [
    "1040-830"
   ]
  },
  {
   "cell_type": "code",
   "execution_count": null,
   "metadata": {
    "collapsed": true
   },
   "outputs": [],
   "source": []
  }
 ],
 "metadata": {
  "kernelspec": {
   "display_name": "Python 3",
   "language": "python",
   "name": "python3"
  },
  "language_info": {
   "codemirror_mode": {
    "name": "ipython",
    "version": 3
   },
   "file_extension": ".py",
   "mimetype": "text/x-python",
   "name": "python",
   "nbconvert_exporter": "python",
   "pygments_lexer": "ipython3",
   "version": "3.6.1"
  }
 },
 "nbformat": 4,
 "nbformat_minor": 2
}
