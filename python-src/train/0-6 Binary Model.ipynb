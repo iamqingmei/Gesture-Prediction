{
 "cells": [
  {
   "cell_type": "code",
   "execution_count": 2,
   "metadata": {},
   "outputs": [],
   "source": [
    "import pandas as pd\n",
    "import numpy as np\n",
    "import math\n",
    "import matplotlib.pyplot as plt\n",
    "from sklearn.svm import SVC\n",
    "from sklearn.metrics import accuracy_score,confusion_matrix,classification_report\n",
    "from sklearn.preprocessing import MinMaxScaler\n",
    "from scipy.stats import linregress\n",
    "from sklearn.ensemble import RandomForestClassifier\n",
    "\n",
    "from keras.layers import Input, Dense, Conv1D, MaxPooling1D, Flatten, concatenate, Conv2D\n",
    "from keras.models import Model\n",
    "from keras.utils import to_categorical\n",
    "from keras.callbacks import ModelCheckpoint\n",
    "from keras.models import model_from_json"
   ]
  },
  {
   "cell_type": "code",
   "execution_count": 3,
   "metadata": {
    "collapsed": true
   },
   "outputs": [],
   "source": [
    "def load_5models_from_disk():\n",
    "    models = []\n",
    "    for i in range(5):\n",
    "        json_file = open(\"./model\" + str(i) +\".json\", 'r')\n",
    "        loaded_model_json = json_file.read()\n",
    "        json_file.close()\n",
    "        loaded_model = model_from_json(loaded_model_json)\n",
    "        # load weights into new model\n",
    "        loaded_model.load_weights(\"temp\" + str(i) +\".hdf5\")\n",
    "        print(\"Loaded model from disk\")\n",
    "\n",
    "        # evaluate loaded model on test data\n",
    "        loaded_model.compile(optimizer='rmsprop',\n",
    "                          loss='categorical_crossentropy',\n",
    "                          metrics=['accuracy'])\n",
    "        models.append(loaded_model)\n",
    "    return models"
   ]
  },
  {
   "cell_type": "code",
   "execution_count": 4,
   "metadata": {
    "collapsed": true
   },
   "outputs": [],
   "source": [
    "def shrink_array(array,size):\n",
    "    \n",
    "    ratio = float(len(array)) / float(size+1)\n",
    "    res = []\n",
    "    for i in range(size):\n",
    "        res.append(np.mean(array[math.floor(i*ratio):math.ceil((i+2.0)*ratio)], axis = 0))\n",
    "    return np.array(res)"
   ]
  },
  {
   "cell_type": "code",
   "execution_count": null,
   "metadata": {
    "collapsed": true
   },
   "outputs": [],
   "source": [
    "gesture_features = pd.DataFrame.from_csv(\"../../data/gesture_feature_df.csv\")\n",
    "test_data = pd.DataFrame.from_csv(\"../../data/database/test_data.csv\")\n",
    "gesture_features = gesture_features[(gesture_features.TagName == 'Tag0') | (gesture_features.TagName == 'Tag6')]\n",
    "\n",
    "groups = test_data.groupby(['TagName','tester_id'])\n",
    "keys = groups.groups.keys()\n",
    "test = []\n",
    "train = []\n",
    "\n",
    "for i in range(len(gesture_features)):\n",
    "    if (gesture_features.iloc[i]['TagName'],gesture_features.iloc[i]['tester_id']) in keys:\n",
    "#     t = gesture_features.loc[(gesture_features.TagName == k[0]) & (gesture_features.tester_id == k[1])]\n",
    "#     if (len(t) > 0):\n",
    "        test.append(gesture_features.iloc[i].values)\n",
    "    else:\n",
    "        train.append(gesture_features.iloc[i].values)\n",
    "test = pd.DataFrame(test,columns=gesture_features.columns)\n",
    "train = pd.DataFrame(train,columns=gesture_features.columns)\n",
    "\n",
    "test.to_csv(\"../../data/database/test_gesture_features.csv\")\n",
    "train.to_csv(\"../../data/database/train_gesture_features.csv\")"
   ]
  },
  {
   "cell_type": "code",
   "execution_count": 5,
   "metadata": {
    "collapsed": true
   },
   "outputs": [],
   "source": [
    "test = pd.DataFrame.from_csv(\"../../data/database/test_gesture_features.csv\")\n",
    "train = pd.DataFrame.from_csv(\"../../data/database/train_gesture_features.csv\")"
   ]
  },
  {
   "cell_type": "code",
   "execution_count": 6,
   "metadata": {},
   "outputs": [
    {
     "data": {
      "text/plain": [
       "RandomForestClassifier(bootstrap=True, class_weight=None, criterion='gini',\n",
       "            max_depth=None, max_features='auto', max_leaf_nodes=None,\n",
       "            min_impurity_split=1e-07, min_samples_leaf=1,\n",
       "            min_samples_split=2, min_weight_fraction_leaf=0.0,\n",
       "            n_estimators=30, n_jobs=1, oob_score=False, random_state=None,\n",
       "            verbose=0, warm_start=False)"
      ]
     },
     "execution_count": 6,
     "metadata": {},
     "output_type": "execute_result"
    }
   ],
   "source": [
    "clf = RandomForestClassifier(n_estimators=30)\n",
    "clf.fit(train.d_change.values.reshape(len(train),1),train.TagName.values)"
   ]
  },
  {
   "cell_type": "code",
   "execution_count": 7,
   "metadata": {
    "collapsed": true
   },
   "outputs": [],
   "source": [
    "res = clf.predict(test.d_change.values.reshape(len(test),1))"
   ]
  },
  {
   "cell_type": "code",
   "execution_count": 8,
   "metadata": {},
   "outputs": [
    {
     "name": "stdout",
     "output_type": "stream",
     "text": [
      "             precision    recall  f1-score   support\n",
      "\n",
      "       Tag0       0.91      0.95      0.93        21\n",
      "       Tag6       0.95      0.90      0.93        21\n",
      "\n",
      "avg / total       0.93      0.93      0.93        42\n",
      "\n",
      "[[20  1]\n",
      " [ 2 19]]\n"
     ]
    }
   ],
   "source": [
    "print(classification_report(test.TagName, res))\n",
    "print(confusion_matrix(test.TagName, res))  "
   ]
  },
  {
   "cell_type": "code",
   "execution_count": 9,
   "metadata": {},
   "outputs": [
    {
     "data": {
      "text/plain": [
       "['./binary_model.pkl']"
      ]
     },
     "execution_count": 9,
     "metadata": {},
     "output_type": "execute_result"
    }
   ],
   "source": [
    "from sklearn.externals import joblib\n",
    "joblib.dump(clf, './binary_model.pkl') "
   ]
  },
  {
   "cell_type": "code",
   "execution_count": null,
   "metadata": {
    "collapsed": true
   },
   "outputs": [],
   "source": []
  }
 ],
 "metadata": {
  "kernelspec": {
   "display_name": "Python 3",
   "language": "python",
   "name": "python3"
  },
  "language_info": {
   "codemirror_mode": {
    "name": "ipython",
    "version": 3
   },
   "file_extension": ".py",
   "mimetype": "text/x-python",
   "name": "python",
   "nbconvert_exporter": "python",
   "pygments_lexer": "ipython3",
   "version": "3.6.1"
  }
 },
 "nbformat": 4,
 "nbformat_minor": 2
}
