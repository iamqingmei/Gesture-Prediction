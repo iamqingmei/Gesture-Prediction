{
 "cells": [
  {
   "cell_type": "code",
   "execution_count": 179,
   "metadata": {},
   "outputs": [],
   "source": [
    "import pandas as pd\n",
    "import numpy as np\n",
    "import math\n",
    "import matplotlib.pyplot as plt\n",
    "from sklearn.svm import SVC\n",
    "from sklearn.metrics import accuracy_score,confusion_matrix,classification_report\n",
    "from sklearn.preprocessing import MinMaxScaler\n",
    "from scipy.stats import linregress\n",
    "\n",
    "from keras.layers import Input, Dense, Conv1D, MaxPooling1D, Flatten, concatenate, Conv2D\n",
    "from keras.models import Model\n",
    "from keras.utils import to_categorical\n",
    "from keras.callbacks import ModelCheckpoint\n",
    "from keras.models import model_from_json"
   ]
  },
  {
   "cell_type": "code",
   "execution_count": null,
   "metadata": {
    "collapsed": true
   },
   "outputs": [],
   "source": [
    "def load_5models_from_disk():\n",
    "    models = []\n",
    "    for i in range(5):\n",
    "        json_file = open(\"./model\" + str(i) +\".json\", 'r')\n",
    "        loaded_model_json = json_file.read()\n",
    "        json_file.close()\n",
    "        loaded_model = model_from_json(loaded_model_json)\n",
    "        # load weights into new model\n",
    "        loaded_model.load_weights(\"temp\" + str(i) +\".hdf5\")\n",
    "        print(\"Loaded model from disk\")\n",
    "\n",
    "        # evaluate loaded model on test data\n",
    "        loaded_model.compile(optimizer='rmsprop',\n",
    "                          loss='categorical_crossentropy',\n",
    "                          metrics=['accuracy'])\n",
    "        models.append(loaded_model)\n",
    "    return models"
   ]
  },
  {
   "cell_type": "code",
   "execution_count": null,
   "metadata": {
    "collapsed": true
   },
   "outputs": [],
   "source": [
    "def shrink_array(array,size):\n",
    "    \n",
    "    ratio = float(len(array)) / float(size+1)\n",
    "    res = []\n",
    "    for i in range(size):\n",
    "        res.append(np.mean(array[math.floor(i*ratio):math.ceil((i+1.0)*ratio)], axis = 0))\n",
    "    return np.array(res)"
   ]
  },
  {
   "cell_type": "code",
   "execution_count": 146,
   "metadata": {},
   "outputs": [],
   "source": [
    "train_data = pd.DataFrame.from_csv(\"../../data/database/train_data.csv\")\n",
    "test_data = pd.DataFrame.from_csv(\"../../data/database/test_data.csv\")\n",
    "\n",
    "if 'SENSORTYPE' in train_data.columns:\n",
    "    train_data = train_data[train_data.SENSORTYPE == 1]\n",
    "    test_data = test_data[test_data.SENSORTYPE == 1]"
   ]
  },
  {
   "cell_type": "code",
   "execution_count": 79,
   "metadata": {
    "collapsed": true
   },
   "outputs": [],
   "source": []
  },
  {
   "cell_type": "code",
   "execution_count": 159,
   "metadata": {},
   "outputs": [
    {
     "data": {
      "text/plain": [
       "Index(['unix_timestamp', 'TagName', 'tester_id', 'v_1', 'v_2', 'v_3', 'd_1',\n",
       "       'd_2', 'd_3', 'global_acc1', 'global_acc2', 'global_acc3'],\n",
       "      dtype='object')"
      ]
     },
     "execution_count": 159,
     "metadata": {},
     "output_type": "execute_result"
    }
   ],
   "source": [
    "feature_cols = ['d_1','d_2', 'd_3']\n",
    "train_data.columns"
   ]
  },
  {
   "cell_type": "code",
   "execution_count": 147,
   "metadata": {},
   "outputs": [],
   "source": [
    "\n",
    "global_acc_min = np.min(train_data[['global_acc1', 'global_acc2', 'global_acc3']].values)\n",
    "global_acc_max = np.max(train_data[['global_acc1', 'global_acc2', 'global_acc3']].values)\n",
    "v_min = np.min(train_data[['v_1', 'v_2', 'v_3']].values)\n",
    "v_max = np.max(train_data[['v_1', 'v_2', 'v_3']].values)\n",
    "d_min = np.min(train_data[['d_1','d_2', 'd_3']].values)\n",
    "d_max = np.max(train_data[['d_1','d_2', 'd_3']].values)"
   ]
  },
  {
   "cell_type": "code",
   "execution_count": 7,
   "metadata": {
    "collapsed": true
   },
   "outputs": [],
   "source": []
  },
  {
   "cell_type": "code",
   "execution_count": 160,
   "metadata": {
    "collapsed": true
   },
   "outputs": [],
   "source": [
    "def get_feature_label(data):\n",
    "    groups = data.groupby(['TagName','tester_id'])\n",
    "    keys = groups.groups.keys()\n",
    "    y = []\n",
    "    X = []\n",
    "\n",
    "    for k in keys:\n",
    "        frame_feature = shrink_array(groups.get_group(k)[feature_cols].values, 50)\n",
    "        X.append(frame_feature)\n",
    "        y.append(k[0])\n",
    "    X = np.array(X)\n",
    "    y = np.array(y)\n",
    "    return X,y"
   ]
  },
  {
   "cell_type": "code",
   "execution_count": 187,
   "metadata": {
    "collapsed": true
   },
   "outputs": [],
   "source": [
    "def SVC_training(X_train, y_train,x_test, y_test):\n",
    "    if len(X_train.shape) > 2:\n",
    "        X_train = X_train.reshape(list(X_train.shape)[0],-1)\n",
    "        x_test = x_test.reshape(list(x_test.shape)[0],-1)\n",
    "    \n",
    "    max_score = 0\n",
    "    max_i = 0\n",
    "    max_res = []\n",
    "    for i in range(1,21):\n",
    "        i = i/2\n",
    "        clf4 = SVC(kernel='linear', C=i, degree=3, verbose = True)\n",
    "\n",
    "        clf4.fit(X_train, y_train) \n",
    "        # joblib.dump(clf4, '../../Results/baseline SVC 0.80 raw data acc with gyro 200 chunk.pkl') \n",
    "        res = clf4.predict(x_test)\n",
    "        score = accuracy_score(y_test, res)\n",
    "        if score>max_score:\n",
    "            max_score = score\n",
    "            max_i = i\n",
    "            max_res = res\n",
    "    print(\"max score: \" + str(max_score) + \"C = \" + str(max_i))\n",
    "    print(classification_report(y_test, max_res))\n",
    "    print(confusion_matrix(y_test, max_res))\n",
    "\n",
    "def DL_training(X_train, y_train,x_test, y_test):\n",
    "\n",
    "    y = np.concatenate([y_train,y_test])\n",
    "    tag_list = []\n",
    "    for i in range(10):\n",
    "        tag_list.append(['Tag'+str(i),i])\n",
    "    for i in tag_list:\n",
    "        tag_str = i[0]\n",
    "        tag_int = i[1]\n",
    "        y[y==tag_str] = tag_int\n",
    "    y_categorical = to_categorical(y)\n",
    "    \n",
    "    y_train_cate = y_categorical[:len(y_train)]\n",
    "    y_test_cate = y_categorical[len(y_train):]\n",
    "\n",
    "    X_train = X_train.reshape(list(X_train.shape)[0],-1)\n",
    "    x_test = x_test.reshape(list(x_test.shape)[0],-1)\n",
    "    \n",
    "    for i in range(5):\n",
    "        # This returns a tensor\n",
    "        inputs = Input(shape=(X_train.shape[1:]))\n",
    "\n",
    "        # a layer instance is callable on a tensor, and returns a tensor\n",
    "        layer1 = Dense(64, activation='relu')(inputs)\n",
    "        layer2 = Dense(128, activation='relu')(layer1)\n",
    "        layer3 = Dense(64, activation='relu')(layer2)\n",
    "        layer4 = Dense(32, activation='relu')(layer3)\n",
    "        predictions = Dense(10, activation='softmax')(layer4)\n",
    "\n",
    "        mcp = ModelCheckpoint(\"./temp\" + str(i) + \".hdf5\", monitor='val_acc', verbose=0, save_best_only=True, save_weights_only=False, mode='auto', period=1)\n",
    "        model = Model(inputs=inputs, outputs=predictions)\n",
    "#         print(model.summary())\n",
    "        model.compile(optimizer='rmsprop',\n",
    "                      loss='categorical_crossentropy',\n",
    "                      metrics=['accuracy'])\n",
    "        model_his = model.fit(X_train, y_train_cate, batch_size=32, epochs=40, verbose = 0,\n",
    "                              validation_data=(x_test, y_test_cate), callbacks = [mcp]\n",
    "                             )  # starts training\n",
    "\n",
    "        model_json = model.to_json()\n",
    "        with open(\"./model\" + str(i) +\".json\", \"w\") as json_file:\n",
    "            json_file.write(model_json)\n",
    "            \n",
    "    models = load_5models_from_disk()\n",
    "    scores = []\n",
    "    tests = []\n",
    "    predicts = []\n",
    "    \n",
    "    for model in models:\n",
    "        res = model.predict(x_test)\n",
    "        scores.append(accuracy_score(np.argmax(y_test_cate,1), np.argmax(res, 1)))\n",
    "        tests += np.argmax(y_test_cate,1).tolist()\n",
    "        predicts += np.argmax(res, 1).tolist()\n",
    "    print(classification_report(tests, predicts))\n",
    "    print(confusion_matrix(tests, predicts))\n",
    "    \n",
    "def CONV1d_training(X_train, y_train,x_test, y_test):\n",
    "    y = np.concatenate([y_train,y_test])\n",
    "    tag_list = []\n",
    "    for i in range(10):\n",
    "        tag_list.append(['Tag'+str(i),i])\n",
    "    for i in tag_list:\n",
    "        tag_str = i[0]\n",
    "        tag_int = i[1]\n",
    "        y[y==tag_str] = tag_int\n",
    "    y_categorical = to_categorical(y)\n",
    "    \n",
    "    y_train_cate = y_categorical[:len(y_train)]\n",
    "    y_test_cate = y_categorical[len(y_train):]\n",
    "\n",
    "    \n",
    "    for i in range(5):\n",
    "        input_val1 = Input(shape=X_train.shape[1:])\n",
    "\n",
    "        con1 = Conv1D(filters=30,kernel_size=10)(input_val1)\n",
    "        max_pooling_1d_1 = MaxPooling1D(pool_size=2, strides=None, padding='valid')(con1)\n",
    "        flat_1 = Flatten()(max_pooling_1d_1)\n",
    "        layer2 = Dense(128, activation='relu')(flat_1)\n",
    "        layer4 = Dense(32, activation='relu')(layer2)\n",
    "        predictions = Dense(y_categorical.shape[-1], activation='softmax')(layer4)\n",
    "\n",
    "        model = Model(inputs = input_val1, outputs=predictions)\n",
    "#         print(model.summary())\n",
    "        mcp = ModelCheckpoint(\"./temp\" + str(i) + \".hdf5\", monitor='val_acc', verbose=0, save_best_only=True, save_weights_only=False, mode='auto', period=1)\n",
    "    \n",
    "        model.compile(optimizer='rmsprop',\n",
    "                      loss='categorical_crossentropy',\n",
    "                      metrics=['accuracy'])\n",
    "    \n",
    "        model_his = model.fit(X_train, y_train_cate, batch_size=32, epochs=40, verbose = 0,\n",
    "                              validation_data=(x_test, y_test_cate), callbacks = [mcp]\n",
    "                             )  # starts training\n",
    "\n",
    "        model_json = model.to_json()\n",
    "        with open(\"./model\" + str(i) +\".json\", \"w\") as json_file:\n",
    "            json_file.write(model_json)\n",
    "            \n",
    "    models = load_5models_from_disk()\n",
    "    scores = []\n",
    "    tests = []\n",
    "    predicts = []\n",
    "    \n",
    "    for model in models:\n",
    "        res = model.predict(x_test)\n",
    "        scores.append(accuracy_score(np.argmax(y_test_cate,1), np.argmax(res, 1)))\n",
    "        tests += np.argmax(y_test_cate,1).tolist()\n",
    "        predicts += np.argmax(res, 1).tolist()\n",
    "    print(classification_report(tests, predicts))\n",
    "    print(confusion_matrix(tests, predicts))"
   ]
  },
  {
   "cell_type": "code",
   "execution_count": 90,
   "metadata": {
    "collapsed": true
   },
   "outputs": [],
   "source": [
    "import matplotlib.pyplot as plt\n",
    "def plot_gesture(gesture):\n",
    "    for i in range(gesture.shape[1]):\n",
    "        plt.plot(gesture[:,i])\n",
    "    plt.show()"
   ]
  },
  {
   "cell_type": "code",
   "execution_count": null,
   "metadata": {},
   "outputs": [],
   "source": []
  },
  {
   "cell_type": "code",
   "execution_count": 162,
   "metadata": {},
   "outputs": [],
   "source": [
    "X_train, y_train = get_feature_label(train_data)\n",
    "x_test, y_test = get_feature_label(test_data)\n"
   ]
  },
  {
   "cell_type": "code",
   "execution_count": 167,
   "metadata": {},
   "outputs": [
    {
     "name": "stdout",
     "output_type": "stream",
     "text": [
      "[LibSVM][LibSVM][LibSVM][LibSVM][LibSVM][LibSVM][LibSVM][LibSVM][LibSVM][LibSVM][LibSVM][LibSVM][LibSVM][LibSVM][LibSVM][LibSVM][LibSVM][LibSVM][LibSVM][LibSVM]max score: 0.571428571429C = 8.0\n",
      "             precision    recall  f1-score   support\n",
      "\n",
      "       Tag0       0.52      0.62      0.57        21\n",
      "       Tag1       0.37      0.71      0.48        21\n",
      "       Tag2       0.62      0.38      0.47        21\n",
      "       Tag3       0.76      0.62      0.68        21\n",
      "       Tag4       0.80      0.95      0.87        21\n",
      "       Tag5       0.53      0.38      0.44        21\n",
      "       Tag6       0.62      0.62      0.62        21\n",
      "       Tag7       0.47      0.38      0.42        21\n",
      "       Tag8       0.53      0.38      0.44        21\n",
      "       Tag9       0.67      0.67      0.67        21\n",
      "\n",
      "avg / total       0.59      0.57      0.57       210\n",
      "\n",
      "[[13  1  0  0  2  0  2  1  2  0]\n",
      " [ 0 15  1  1  0  1  0  3  0  0]\n",
      " [ 0  7  8  1  0  1  1  1  1  1]\n",
      " [ 0  5  0 13  0  2  0  0  0  1]\n",
      " [ 1  0  0  0 20  0  0  0  0  0]\n",
      " [ 2  2  0  0  2  8  3  0  3  1]\n",
      " [ 5  0  0  0  1  1 13  0  1  0]\n",
      " [ 1  5  2  1  0  0  0  8  0  4]\n",
      " [ 3  4  2  0  0  2  2  0  8  0]\n",
      " [ 0  2  0  1  0  0  0  4  0 14]]\n"
     ]
    }
   ],
   "source": [
    "SVC_training(X_train, y_train, x_test, y_test)"
   ]
  },
  {
   "cell_type": "code",
   "execution_count": null,
   "metadata": {},
   "outputs": [
    {
     "name": "stdout",
     "output_type": "stream",
     "text": [
      "Loaded model from disk\n",
      "Loaded model from disk\n",
      "Loaded model from disk\n",
      "Loaded model from disk\n",
      "Loaded model from disk\n",
      "             precision    recall  f1-score   support\n",
      "\n",
      "          0       0.39      0.33      0.36       105\n",
      "          1       0.59      0.77      0.67       105\n",
      "          2       0.48      0.42      0.45       105\n",
      "          3       0.54      0.61      0.57       105\n",
      "          4       0.79      0.80      0.80       105\n",
      "          5       0.60      0.36      0.45       105\n",
      "          6       0.42      0.47      0.44       105\n",
      "          7       0.61      0.57      0.59       105\n",
      "          8       0.49      0.40      0.44       105\n",
      "          9       0.56      0.77      0.65       105\n",
      "\n",
      "avg / total       0.55      0.55      0.54      1050\n",
      "\n",
      "[[35  3  3  5  7  0 32  4  8  8]\n",
      " [ 0 81  2  1  0 10  0 10  1  0]\n",
      " [ 8 14 44 16  0  4  6  7  5  1]\n",
      " [ 4 12  5 64  0  1  1  2  4 12]\n",
      " [ 4  0  0  4 84  0  1  0  0 12]\n",
      " [ 2  3  3 17  7 38 11  0 17  7]\n",
      " [29  1  9  2  6  4 49  0  4  1]\n",
      " [ 0  9 10  3  0  0  0 60  2 21]\n",
      " [ 6 14 14  4  1  6 17  0 42  1]\n",
      " [ 2  0  1  2  1  0  0 16  2 81]]\n"
     ]
    }
   ],
   "source": [
    "DL_training(X_train, y_train, x_test, y_test)"
   ]
  },
  {
   "cell_type": "code",
   "execution_count": null,
   "metadata": {},
   "outputs": [],
   "source": [
    "CONV1d_training(X_train, y_train, x_test, y_test)"
   ]
  },
  {
   "cell_type": "code",
   "execution_count": 183,
   "metadata": {},
   "outputs": [],
   "source": []
  },
  {
   "cell_type": "code",
   "execution_count": 184,
   "metadata": {},
   "outputs": [
    {
     "name": "stdout",
     "output_type": "stream",
     "text": [
      "Loaded model from disk\n",
      "Loaded model from disk\n",
      "Loaded model from disk\n",
      "Loaded model from disk\n",
      "Loaded model from disk\n"
     ]
    }
   ],
   "source": []
  },
  {
   "cell_type": "code",
   "execution_count": null,
   "metadata": {
    "collapsed": true
   },
   "outputs": [],
   "source": [
    "m"
   ]
  }
 ],
 "metadata": {
  "kernelspec": {
   "display_name": "Python 3",
   "language": "python",
   "name": "python3"
  },
  "language_info": {
   "codemirror_mode": {
    "name": "ipython",
    "version": 3
   },
   "file_extension": ".py",
   "mimetype": "text/x-python",
   "name": "python",
   "nbconvert_exporter": "python",
   "pygments_lexer": "ipython3",
   "version": "3.6.1"
  }
 },
 "nbformat": 4,
 "nbformat_minor": 2
}
