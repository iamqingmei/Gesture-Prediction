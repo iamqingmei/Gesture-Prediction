{
 "cells": [
  {
   "cell_type": "code",
   "execution_count": 23,
   "metadata": {
    "collapsed": true
   },
   "outputs": [],
   "source": [
    "log = \"\"\"03-16 08:14:30.709 17360-17360/ageha.stationaryacceleration I/MainActivity: -0.7448175, 0.5082895, 0.13130605\n",
    "03-16 08:14:30.709 17360-17360/ageha.stationaryacceleration I/MainActivity: -0.7448175, 0.5082895, 0.13130605\n",
    "03-16 08:14:30.738 17360-17360/ageha.stationaryacceleration I/MainActivity: -0.8729586, 0.0872968, 0.19329327\n",
    "03-16 08:14:30.738 17360-17360/ageha.stationaryacceleration I/MainActivity: -0.7883728, 0.25971374, 0.11453039\n",
    "03-16 08:14:30.739 17360-17360/ageha.stationaryacceleration I/MainActivity: -0.70482415, 0.2505019, 0.06496404\n",
    "03-16 08:14:30.739 17360-17360/ageha.stationaryacceleration I/MainActivity: -0.6339736, 0.27079302, 0.052295342\n",
    "03-16 08:14:30.739 17360-17360/ageha.stationaryacceleration I/MainActivity: -0.61511266, 0.28452006, 0.00613153\n",
    "03-16 08:14:30.739 17360-17360/ageha.stationaryacceleration I/MainActivity: -0.3987571, 0.37629166, -0.17965153\n",
    "03-16 08:14:30.768 17360-17360/ageha.stationaryacceleration I/MainActivity: -0.4064126, 0.020906534, -0.1764789\n",
    "03-16 08:14:30.768 17360-17360/ageha.stationaryacceleration I/MainActivity: -0.4064126, 0.020906534, -0.1764789\n",
    "03-16 08:14:30.769 17360-17360/ageha.stationaryacceleration I/MainActivity: -0.2258575, 0.269431, -0.109580174\n",
    "03-16 08:14:30.769 17360-17360/ageha.stationaryacceleration I/MainActivity: -0.20423718, 0.17280619, -0.10730452\n",
    "03-16 08:14:30.769 17360-17360/ageha.stationaryacceleration I/MainActivity: -0.27092034, 0.2653023, -0.14452769\n",
    "03-16 08:14:30.769 17360-17360/ageha.stationaryacceleration I/MainActivity: -0.27092034, 0.2653023, -0.14452769\n",
    "03-16 08:14:30.798 17360-17360/ageha.stationaryacceleration I/MainActivity: -0.45176655, -0.14152618, -0.042034693\n",
    "03-16 08:14:30.798 17360-17360/ageha.stationaryacceleration I/MainActivity: -0.5423649, -0.48427552, -0.27772683\n",
    "03-16 08:14:30.798 17360-17360/ageha.stationaryacceleration I/MainActivity: -0.65210176, -0.6389383, -0.23169294\n",
    "03-16 08:14:30.799 17360-17360/ageha.stationaryacceleration I/MainActivity: -0.65210176, -0.6389383, -0.23169294\n",
    "03-16 08:14:30.799 17360-17360/ageha.stationaryacceleration I/MainActivity: -0.457245, -0.7594537, -0.08483288\n",
    "03-16 08:14:30.799 17360-17360/ageha.stationaryacceleration I/MainActivity: -0.2697009, -0.85566443, 0.15971161\n",
    "03-16 08:14:30.828 17360-17360/ageha.stationaryacceleration I/MainActivity: -0.23903643, -0.9756735, 0.04213041\n",
    "03-16 08:14:30.828 17360-17360/ageha.stationaryacceleration I/MainActivity: -0.23903643, -0.9756735, 0.04213041\n",
    "03-16 08:14:30.829 17360-17360/ageha.stationaryacceleration I/MainActivity: -0.08229166, -0.77637416, 0.046877578\n",
    "03-16 08:14:30.829 17360-17360/ageha.stationaryacceleration I/MainActivity: 0.013395697, -0.6444792, 0.052589566\n",
    "03-16 08:14:30.829 17360-17360/ageha.stationaryacceleration I/MainActivity: 0.07032731, -0.5046527, 0.103850864\n",
    "03-16 08:14:30.829 17360-17360/ageha.stationaryacceleration I/MainActivity: 0.04510452, -0.43750134, 0.08065128\n",
    "03-16 08:14:30.858 17360-17360/ageha.stationaryacceleration I/MainActivity: 0.04481124, -0.70702606, -0.034144297\n",
    "03-16 08:14:30.858 17360-17360/ageha.stationaryacceleration I/MainActivity: -0.19711457, -0.5394229, -0.14124334\n",
    "03-16 08:14:30.859 17360-17360/ageha.stationaryacceleration I/MainActivity: -0.3709023, -0.3269032, -0.19040558\n",
    "03-16 08:14:30.859 17360-17360/ageha.stationaryacceleration I/MainActivity: -0.3709023, -0.3269032, -0.19040558\n",
    "03-16 08:14:30.859 17360-17360/ageha.stationaryacceleration I/MainActivity: -0.5138219, -0.1547024, -0.014530815\n",
    "03-16 08:14:30.859 17360-17360/ageha.stationaryacceleration I/MainActivity: -0.588989, -0.45213082, 0.020471305\n",
    "03-16 08:14:30.888 17360-17360/ageha.stationaryacceleration I/MainActivity: -0.45272225, 0.6737125, 0.4278586\n",
    "03-16 08:14:30.889 17360-17360/ageha.stationaryacceleration I/MainActivity: -0.45272225, 0.6737125, 0.4278586\n",
    "03-16 08:14:30.889 17360-17360/ageha.stationaryacceleration I/MainActivity: -0.38352057, 0.26560262, 0.95840234\n",
    "03-16 08:14:30.889 17360-17360/ageha.stationaryacceleration I/MainActivity: -0.31049892, 0.31574312, 0.82979983\n",
    "03-16 08:14:30.889 17360-17360/ageha.stationaryacceleration I/MainActivity: -0.32357812, 0.5299221, 0.7082353\n",
    "03-16 08:14:30.889 17360-17360/ageha.stationaryacceleration I/MainActivity: -0.32357812, 0.5299221, 0.7082353\n",
    "03-16 08:14:30.918 17360-17360/ageha.stationaryacceleration I/MainActivity: -0.113574736, 0.2093693, 0.5264245\n",
    "03-16 08:14:30.918 17360-17360/ageha.stationaryacceleration I/MainActivity: -0.0774193, 0.075516194, 0.0692165\n",
    "03-16 08:14:30.919 17360-17360/ageha.stationaryacceleration I/MainActivity: -0.14482683, -0.060684137, -0.09457298\n",
    "03-16 08:14:30.919 17360-17360/ageha.stationaryacceleration I/MainActivity: -0.16358685, 0.022744287, -0.08993292\n",
    "03-16 08:14:30.919 17360-17360/ageha.stationaryacceleration I/MainActivity: -0.20797573, 0.14976084, -0.10269172\n",
    "03-16 08:14:30.919 17360-17360/ageha.stationaryacceleration I/MainActivity: -0.2512489, 0.63950664, -0.043533064\n",
    "03-16 08:14:30.948 17360-17360/ageha.stationaryacceleration I/MainActivity: -0.37198916, 0.3158115, 0.1586018\n",
    "03-16 08:14:30.948 17360-17360/ageha.stationaryacceleration I/MainActivity: -0.37198916, 0.3158115, 0.1586018\n",
    "03-16 08:14:30.948 17360-17360/ageha.stationaryacceleration I/MainActivity: -0.46450573, 0.7641654, 0.37339592\n",
    "03-16 08:14:30.949 17360-17360/ageha.stationaryacceleration I/MainActivity: -0.84228575, 0.9837178, 0.49981916\n",
    "03-16 08:14:30.949 17360-17360/ageha.stationaryacceleration I/MainActivity: -0.8372567, 1.1417434, 0.45781463\n",
    "03-16 08:14:30.949 17360-17360/ageha.stationaryacceleration I/MainActivity: -0.8372567, 1.1417434, 0.45781463\n",
    "03-16 08:14:30.978 17360-17360/ageha.stationaryacceleration I/MainActivity: -0.43707776, 1.4322777, 0.12973754\n",
    "03-16 08:14:30.978 17360-17360/ageha.stationaryacceleration I/MainActivity: 0.15835364, 1.0512301, 0.3038427\n",
    "03-16 08:14:30.979 17360-17360/ageha.stationaryacceleration I/MainActivity: -0.25847846, -0.9010711, 1.5433804\n",
    "03-16 08:14:30.979 17360-17360/ageha.stationaryacceleration I/MainActivity: -0.25847846, -0.9010711, 1.5433804\n",
    "03-16 08:14:30.979 17360-17360/ageha.stationaryacceleration I/MainActivity: -0.2977271, -0.88887495, 1.5433804\n",
    "03-16 08:14:30.979 17360-17360/ageha.stationaryacceleration I/MainActivity: -1.2153231, -1.3970935, 1.4837462\n",
    "03-16 08:14:31.009 17360-17360/ageha.stationaryacceleration I/MainActivity: -0.7065388, -1.4021935, 0.7090149\n",
    "03-16 08:14:31.009 17360-17360/ageha.stationaryacceleration I/MainActivity: -0.7065388, -1.4021935, 0.7090149\n",
    "03-16 08:14:31.010 17360-17360/ageha.stationaryacceleration I/MainActivity: -0.718094, -1.8009651, -0.26851147\n",
    "03-16 08:14:31.010 17360-17360/ageha.stationaryacceleration I/MainActivity: -0.14783095, -0.95583785, -1.630401\n",
    "03-16 08:14:31.010 17360-17360/ageha.stationaryacceleration I/MainActivity: -0.049758554, -1.1632533, -1.072652\n",
    "03-16 08:14:31.010 17360-17360/ageha.stationaryacceleration I/MainActivity: 0.20549013, -1.201047, -1.1618105\n",
    "03-16 08:14:31.038 17360-17360/ageha.stationaryacceleration I/MainActivity: 0.64473474, -1.2014832, -1.1719756\n",
    "03-16 08:14:31.038 17360-17360/ageha.stationaryacceleration I/MainActivity: 0.72528094, -1.2305396, -0.27203867\n",
    "03-16 08:14:31.038 17360-17360/ageha.stationaryacceleration I/MainActivity: 0.6000541, -1.0733904, -0.22041336\n",
    "03-16 08:14:31.038 17360-17360/ageha.stationaryacceleration I/MainActivity: 0.51544297, -0.45089266, 0.013258927\n",
    "03-16 08:14:31.069 17360-17360/ageha.stationaryacceleration I/MainActivity: 0.7659869, -0.03790766, -0.0028413478\n",
    "03-16 08:14:31.069 17360-17360/ageha.stationaryacceleration I/MainActivity: 0.7170864, 0.21600246, 0.10948943\n",
    "03-16 08:14:31.069 17360-17360/ageha.stationaryacceleration I/MainActivity: 0.73470235, 0.431701, 0.12333274\n",
    "03-16 08:14:31.069 17360-17360/ageha.stationaryacceleration I/MainActivity: 0.7256682, 0.29779777, 0.2313462\n",
    "03-16 08:14:31.069 17360-17360/ageha.stationaryacceleration I/MainActivity: 0.7372409, 0.44753242, 0.340173\n",
    "03-16 08:14:31.069 17360-17360/ageha.stationaryacceleration I/MainActivity: 0.736408, 0.43825334, 0.41915798\"\"\""
   ]
  },
  {
   "cell_type": "code",
   "execution_count": 24,
   "metadata": {
    "collapsed": true
   },
   "outputs": [],
   "source": [
    "lines = log.split(\"\\n\")"
   ]
  },
  {
   "cell_type": "code",
   "execution_count": 25,
   "metadata": {
    "collapsed": true
   },
   "outputs": [],
   "source": [
    "records = []\n",
    "for line in lines:\n",
    "    values = line.split(\":\")[-1]\n",
    "    values = values.split(\",\")\n",
    "    values = [float(i) for i in values]\n",
    "    records.append(values)"
   ]
  },
  {
   "cell_type": "code",
   "execution_count": 26,
   "metadata": {
    "collapsed": true
   },
   "outputs": [],
   "source": [
    "import numpy as np\n",
    "records = np.array(records)"
   ]
  },
  {
   "cell_type": "code",
   "execution_count": 27,
   "metadata": {},
   "outputs": [
    {
     "data": {
      "text/plain": [
       "array([-0.23891755, -0.13590399,  0.11941584])"
      ]
     },
     "execution_count": 27,
     "metadata": {},
     "output_type": "execute_result"
    }
   ],
   "source": [
    "np.mean(records, axis=0)"
   ]
  },
  {
   "cell_type": "code",
   "execution_count": null,
   "metadata": {
    "collapsed": true
   },
   "outputs": [],
   "source": [
    "\n",
    "b = pd.DataFrame.from_csv(\"../../data/global_acc_df.csv\")\n",
    "sg_features = pd.DataFrame(columns=['unix_timestamp','TagName','tester_id',\n",
    "                                 'v_1','v_2','v_3','d_1',\n",
    "                                          'd_2','d_3', 'sg_acc1','sg_acc2','sg_acc3','acc_12_square'])\n",
    "b_groups = b.groupby(['TagName','tester_id'])\n",
    "\n",
    "count = 0\n",
    "for key in b_groups.groups.keys():\n",
    "    cur_group = b_groups.get_group(key)\n",
    "    t = cur_group.unix_timestamp.values\n",
    "    v_1 = []\n",
    "    d_1 = []\n",
    "    v_2 = []\n",
    "    d_2 = []\n",
    "    v_3 = []\n",
    "    d_3 = []\n",
    "    acc1 = cur_group.global_acc1.values + 0.47947308\n",
    "    acc2 = cur_group.global_acc2.values + 0.00588626\n",
    "    acc3 = cur_group.global_acc3.values + 0.00072254\n",
    "    for i in range(len(t)):\n",
    "        v_1.append(simps(0.8*acc1[:i+1], x=t[:i+1]))\n",
    "    for i in range(len(t)):\n",
    "        d_1.append(simps(v_1[:i+1], x=t[:i+1]))\n",
    "    for i in range(len(t)):\n",
    "        v_2.append(simps(0.8*acc2[:i+1], x=t[:i+1]))\n",
    "    for i in range(len(t)):\n",
    "        d_2.append(simps(v_2[:i+1], x=t[:i+1]))\n",
    "    for i in range(len(t)):\n",
    "        v_3.append(simps(0.8*acc3[:i+1], x=t[:i+1]))\n",
    "    for i in range(len(t)):\n",
    "        d_3.append(simps(v_3[:i+1], x=t[:i+1]))\n",
    "    \n",
    "    v_1 = np.array(v_1)\n",
    "    d_1 = np.array(d_1)\n",
    "    v_2 = np.array(v_2)\n",
    "    d_2 = np.array(d_2)\n",
    "    v_3 = np.array(v_3)\n",
    "    d_3 = np.array(d_3)\n",
    "    acc12 = np.sqrt(acc1*acc1 + acc2*acc2)\n",
    "\n",
    "    temp_df = pd.DataFrame()\n",
    "    temp_df['unix_timestamp'] = t\n",
    "    temp_df['TagName'] = np.array([key[0]]*len(t))\n",
    "    temp_df['tester_id'] = np.array([key[1]]*len(t))\n",
    "                                                           \n",
    "        \n",
    "    temp_df['v_1'] = v_1\n",
    "    temp_df['v_2'] = v_2\n",
    "    temp_df['v_3'] = v_3\n",
    "    \n",
    "    temp_df['d_1'] = d_1                                       \n",
    "    temp_df['d_2'] = d_2\n",
    "    temp_df['d_3'] = d_3\n",
    "    temp_df['sg_acc1'] = acc1\n",
    "    temp_df['sg_acc2'] = acc2\n",
    "    temp_df['sg_acc3'] = acc3\n",
    "    temp_df['acc_12_square'] = acc12\n",
    "    \n",
    "    sg_features = sg_features.append(temp_df, ignore_index=True)\n",
    "    count+=1\n",
    "    if (count%50==0):\n",
    "        print(count)\n",
    "\n",
    "sg_features.to_csv(\"../../data/sg_features.csv\")"
   ]
  }
 ],
 "metadata": {
  "kernelspec": {
   "display_name": "Python 3",
   "language": "python",
   "name": "python3"
  },
  "language_info": {
   "codemirror_mode": {
    "name": "ipython",
    "version": 3
   },
   "file_extension": ".py",
   "mimetype": "text/x-python",
   "name": "python",
   "nbconvert_exporter": "python",
   "pygments_lexer": "ipython3",
   "version": "3.6.1"
  }
 },
 "nbformat": 4,
 "nbformat_minor": 2
}
