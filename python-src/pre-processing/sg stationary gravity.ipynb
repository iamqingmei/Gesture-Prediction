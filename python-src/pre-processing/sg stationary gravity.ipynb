{
 "cells": [
  {
   "cell_type": "code",
   "execution_count": 15,
   "metadata": {
    "collapsed": true
   },
   "outputs": [],
   "source": [
    "log = \"\"\"03-16 08:01:22.518 17090-17090/ageha.stationaryacceleration I/MainActivity: 0.0072023077, 0.03273624, 0.46900034\n",
    "03-16 08:01:22.518 17090-17090/ageha.stationaryacceleration I/MainActivity: 0.009051994, 0.04209785, 0.46828675\n",
    "03-16 08:01:22.518 17090-17090/ageha.stationaryacceleration I/MainActivity: -0.020409994, -0.04064048, 0.46516287\n",
    "03-16 08:01:22.518 17090-17090/ageha.stationaryacceleration I/MainActivity: 0.014790538, -0.0065193623, 0.49094826\n",
    "03-16 08:01:22.547 17090-17090/ageha.stationaryacceleration I/MainActivity: -0.0060918094, -0.012770209, 0.47257107\n",
    "03-16 08:01:22.548 17090-17090/ageha.stationaryacceleration I/MainActivity: 0.015233531, -0.004657142, 0.5100462\n",
    "03-16 08:01:22.548 17090-17090/ageha.stationaryacceleration I/MainActivity: -0.013674529, -0.0056412145, 0.5585037\n",
    "03-16 08:01:22.548 17090-17090/ageha.stationaryacceleration I/MainActivity: -0.005377621, -0.016064953, 0.4343791\n",
    "03-16 08:01:22.548 17090-17090/ageha.stationaryacceleration I/MainActivity: -0.0066852993, -0.026243225, 0.42554587\n",
    "03-16 08:01:22.577 17090-17090/ageha.stationaryacceleration I/MainActivity: 0.003196611, -0.015819743, 0.44392726\n",
    "03-16 08:01:22.577 17090-17090/ageha.stationaryacceleration I/MainActivity: 0.008030668, 0.036204018, 0.49764028\n",
    "03-16 08:01:22.578 17090-17090/ageha.stationaryacceleration I/MainActivity: -0.015158938, -0.012045186, 0.45347777\n",
    "03-16 08:01:22.578 17090-17090/ageha.stationaryacceleration I/MainActivity: 0.01810887, 0.014619451, 0.48952022\n",
    "03-16 08:01:22.578 17090-17090/ageha.stationaryacceleration I/MainActivity: 0.018523185, 0.014090816, 0.4895202\n",
    "03-16 08:01:22.578 17090-17090/ageha.stationaryacceleration I/MainActivity: -0.011597451, 0.009276072, 0.48069143\n",
    "03-16 08:01:22.607 17090-17090/ageha.stationaryacceleration I/MainActivity: -1.7064624E-5, 0.015063139, 0.45133057\n",
    "03-16 08:01:22.607 17090-17090/ageha.stationaryacceleration I/MainActivity: -0.020643841, 0.0106830485, 0.46159562\n",
    "03-16 08:01:22.608 17090-17090/ageha.stationaryacceleration I/MainActivity: -0.022525715, 0.0019021519, 0.48140708\n",
    "03-16 08:01:22.608 17090-17090/ageha.stationaryacceleration I/MainActivity: 0.005975351, -0.00196293, 0.50049835\n",
    "03-16 08:01:22.608 17090-17090/ageha.stationaryacceleration I/MainActivity: 0.024541324, -0.006856961, 0.48140034\n",
    "03-16 08:01:22.608 17090-17090/ageha.stationaryacceleration I/MainActivity: -0.016861908, -0.020049263, 0.4637398\n",
    "03-16 08:01:22.637 17090-17090/ageha.stationaryacceleration I/MainActivity: -0.0138585195, 0.032210395, 0.48880884\n",
    "03-16 08:01:22.637 17090-17090/ageha.stationaryacceleration I/MainActivity: -0.006991712, 0.021699877, 0.50861883\n",
    "03-16 08:01:22.638 17090-17090/ageha.stationaryacceleration I/MainActivity: 0.015050033, -0.0058375224, 0.47185314\n",
    "03-16 08:01:22.638 17090-17090/ageha.stationaryacceleration I/MainActivity: 0.009294752, 0.016737796, 0.4990679\n",
    "03-16 08:01:22.638 17090-17090/ageha.stationaryacceleration I/MainActivity: -9.746691E-4, -0.03238725, 0.47399965\n",
    "03-16 08:01:22.639 17090-17090/ageha.stationaryacceleration I/MainActivity: 0.0053039305, 0.01661358, 0.48952046\n",
    "03-16 08:01:22.667 17090-17090/ageha.stationaryacceleration I/MainActivity: 0.011182215, 0.07150838, 0.46614194\n",
    "03-16 08:01:22.667 17090-17090/ageha.stationaryacceleration I/MainActivity: 0.02041045, 0.033132475, 0.48809248\n",
    "03-16 08:01:22.667 17090-17090/ageha.stationaryacceleration I/MainActivity: 0.004666224, 0.01589017, 0.48952287\n",
    "03-16 08:01:22.668 17090-17090/ageha.stationaryacceleration I/MainActivity: 0.00815317, 0.056357175, 0.5153102\n",
    "03-16 08:01:22.668 17090-17090/ageha.stationaryacceleration I/MainActivity: -9.541167E-4, 0.008352259, 0.4997859\n",
    "03-16 08:01:22.668 17090-17090/ageha.stationaryacceleration I/MainActivity: -0.0054893587, -0.021758564, 0.4828325\n",
    "03-16 08:01:22.697 17090-17090/ageha.stationaryacceleration I/MainActivity: 0.008684607, 0.013934065, 0.47042385\n",
    "03-16 08:01:22.697 17090-17090/ageha.stationaryacceleration I/MainActivity: -0.0010076677, -0.011942498, 0.49166316\n",
    "03-16 08:01:22.698 17090-17090/ageha.stationaryacceleration I/MainActivity: 0.013200321, -0.014494073, 0.49166146\n",
    "03-16 08:01:22.698 17090-17090/ageha.stationaryacceleration I/MainActivity: -0.007721029, -0.02260546, 0.46373448\n",
    "03-16 08:01:22.698 17090-17090/ageha.stationaryacceleration I/MainActivity: 0.0021538455, 0.004697401, 0.46159062\n",
    "03-16 08:01:22.698 17090-17090/ageha.stationaryacceleration I/MainActivity: -0.002260019, 0.0070332885, 0.48068756\n",
    "03-16 08:01:22.727 17090-17090/ageha.stationaryacceleration I/MainActivity: 0.011325301, 0.023277111, 0.47925892\n",
    "03-16 08:01:22.727 17090-17090/ageha.stationaryacceleration I/MainActivity: -2.1710992E-5, 0.01591018, 0.47997513\n",
    "03-16 08:01:22.728 17090-17090/ageha.stationaryacceleration I/MainActivity: 0.0069429786, 0.03470889, 0.4880937\n",
    "03-16 08:01:22.728 17090-17090/ageha.stationaryacceleration I/MainActivity: -0.011894533, 0.0067981463, 0.46159402\n",
    "03-16 08:01:22.728 17090-17090/ageha.stationaryacceleration I/MainActivity: -0.016334375, -0.017879244, 0.5114763\n",
    "03-16 08:01:22.728 17090-17090/ageha.stationaryacceleration I/MainActivity: -0.01454648, 0.037388682, 0.45945334\n",
    "03-16 08:01:22.757 17090-17090/ageha.stationaryacceleration I/MainActivity: 0.003066421, 0.0066429004, 0.49978498\n",
    "03-16 08:01:22.757 17090-17090/ageha.stationaryacceleration I/MainActivity: 0.013615438, 0.03142139, 0.46899918\n",
    "03-16 08:01:22.757 17090-17090/ageha.stationaryacceleration I/MainActivity: -0.020475622, -0.039637633, 0.47471207\n",
    "03-16 08:01:22.758 17090-17090/ageha.stationaryacceleration I/MainActivity: 5.2055204E-4, -0.0054328963, 0.46230668\n",
    "03-16 08:01:22.758 17090-17090/ageha.stationaryacceleration I/MainActivity: 0.006453477, 1.463443E-4, 0.42340112\n",
    "03-16 08:01:22.758 17090-17090/ageha.stationaryacceleration I/MainActivity: -0.0074203294, 0.027610276, 0.4888113\n",
    "03-16 08:01:22.787 17090-17090/ageha.stationaryacceleration I/MainActivity: 0.012734726, -0.017982269, 0.4534694\n",
    "03-16 08:01:22.787 17090-17090/ageha.stationaryacceleration I/MainActivity: -0.0028704833, -0.023325976, 0.47328112\n",
    "03-16 08:01:22.787 17090-17090/ageha.stationaryacceleration I/MainActivity: 5.1219855E-4, -0.0045680143, 0.47185332\n",
    "03-16 08:01:22.788 17090-17090/ageha.stationaryacceleration I/MainActivity: -0.011685503, 0.007081615, 0.46159324\n",
    "03-16 08:01:22.788 17090-17090/ageha.stationaryacceleration I/MainActivity: -8.933097E-4, -0.01111326, 0.51075923\n",
    "03-16 08:01:22.788 17090-17090/ageha.stationaryacceleration I/MainActivity: 0.010752421, 0.01185007, 0.4704248\n",
    "03-16 08:01:22.817 17090-17090/ageha.stationaryacceleration I/MainActivity: 0.009245606, 0.022382233, 0.46971262\n",
    "03-16 08:01:22.817 17090-17090/ageha.stationaryacceleration I/MainActivity: -0.0067533916, -0.023358937, 0.4637337\n",
    "03-16 08:01:22.817 17090-17090/ageha.stationaryacceleration I/MainActivity: 0.006068212, 0.021963105, 0.45061737\n",
    "03-16 08:01:22.818 17090-17090/ageha.stationaryacceleration I/MainActivity: 0.0035039978, -0.012895633, 0.50121135\n",
    "03-16 08:01:22.818 17090-17090/ageha.stationaryacceleration I/MainActivity: -3.2019336E-4, -0.03297145, 0.48354343\n",
    "03-16 08:01:22.818 17090-17090/ageha.stationaryacceleration I/MainActivity: 0.0075591286, 0.03342983, 0.46899843\n",
    "03-16 08:01:22.847 17090-17090/ageha.stationaryacceleration I/MainActivity: 0.0020733746, 0.016189069, 0.48952284\n",
    "03-16 08:01:22.847 17090-17090/ageha.stationaryacceleration I/MainActivity: -0.011616371, 0.03232496, 0.44035727\n",
    "03-16 08:01:22.847 17090-17090/ageha.stationaryacceleration I/MainActivity: -0.008429672, -0.032712, 0.46444958\n",
    "03-16 08:01:22.848 17090-17090/ageha.stationaryacceleration I/MainActivity: 0.00998541, 0.024598394, 0.48880795\n",
    "03-16 08:01:22.848 17090-17090/ageha.stationaryacceleration I/MainActivity: -0.010691466, 0.015936628, 0.46088082\n",
    "03-16 08:01:22.848 17090-17090/ageha.stationaryacceleration I/MainActivity: 0.014243825, -0.008336423, 0.46230495\n",
    "03-16 08:01:22.877 17090-17090/ageha.stationaryacceleration I/MainActivity: -0.004784205, 0.03725787, 0.4880938\n",
    "03-16 08:01:22.877 17090-17090/ageha.stationaryacceleration I/MainActivity: 0.0094863465, 0.013684604, 0.47997203\n",
    "03-16 08:01:22.877 17090-17090/ageha.stationaryacceleration I/MainActivity: -4.8783934E-4, -0.0125516355, 0.4916618\n",
    "03-16 08:01:22.878 17090-17090/ageha.stationaryacceleration I/MainActivity: 0.01482831, -0.007412359, 0.46230212\n",
    "03-16 08:01:22.878 17090-17090/ageha.stationaryacceleration I/MainActivity: -0.009947407, -0.021507014, 0.4732808\n",
    "03-16 08:01:22.878 17090-17090/ageha.stationaryacceleration I/MainActivity: -0.006426185, 0.026755568, 0.46971256\n",
    "03-16 08:01:22.907 17090-17090/ageha.stationaryacceleration I/MainActivity: 0.016436456, 0.0018304046, 0.48068583\n",
    "03-16 08:01:22.907 17090-17090/ageha.stationaryacceleration I/MainActivity: 0.0028654328, 0.02581823, 0.48880777\n",
    "03-16 08:01:22.908 17090-17090/ageha.stationaryacceleration I/MainActivity: 0.018407827, 0.010788811, 0.47042418\n",
    "03-16 08:01:22.908 17090-17090/ageha.stationaryacceleration I/MainActivity: 2.0369794E-4, -0.0037965588, 0.48140174\n",
    "03-16 08:01:22.908 17090-17090/ageha.stationaryacceleration I/MainActivity: 0.031624917, 0.029468628, 0.48809087\n",
    "03-16 08:01:22.908 17090-17090/ageha.stationaryacceleration I/MainActivity: 0.007865534, 0.03292014, 0.46899778\n",
    "03-16 08:01:22.937 17090-17090/ageha.stationaryacceleration I/MainActivity: -0.004588344, -0.003096182, 0.48140335\n",
    "03-16 08:01:22.937 17090-17090/ageha.stationaryacceleration I/MainActivity: 0.0047788154, -0.005039409, 0.48140234\n",
    "03-16 08:01:22.937 17090-17090/ageha.stationaryacceleration I/MainActivity: 0.012620101, -0.0160233, 0.48211512\n",
    "03-16 08:01:22.938 17090-17090/ageha.stationaryacceleration I/MainActivity: -0.009356674, 0.023864046, 0.44107112\n",
    "03-16 08:01:22.938 17090-17090/ageha.stationaryacceleration I/MainActivity: 0.01462402, 0.033773843, 0.5071917\n",
    "03-16 08:01:22.938 17090-17090/ageha.stationaryacceleration I/MainActivity: 0.020308254, 0.030714462, 0.46899876\n",
    "03-16 08:01:22.967 17090-17090/ageha.stationaryacceleration I/MainActivity: -0.01511132, -0.0117710605, 0.48211586\n",
    "03-16 08:01:22.967 17090-17090/ageha.stationaryacceleration I/MainActivity: 0.011257887, 0.032374687, 0.47854754\n",
    "03-16 08:01:22.967 17090-17090/ageha.stationaryacceleration I/MainActivity: -0.0026661132, 0.005571069, 0.4806882\n",
    "03-16 08:01:22.968 17090-17090/ageha.stationaryacceleration I/MainActivity: -0.024771335, -0.011729151, 0.46302035\n",
    "03-16 08:01:22.968 17090-17090/ageha.stationaryacceleration I/MainActivity: -0.021155393, 0.00888261, 0.46159402\n",
    "03-16 08:01:22.968 17090-17090/ageha.stationaryacceleration I/MainActivity: -0.0025061294, 0.0069570523, 0.49978384\n",
    "03-16 08:01:22.997 17090-17090/ageha.stationaryacceleration I/MainActivity: -0.0150191225, -0.011971369, 0.48211622\n",
    "03-16 08:01:22.997 17090-17090/ageha.stationaryacceleration I/MainActivity: -0.0029685, 0.0041077267, 0.4615921\n",
    "03-16 08:01:22.997 17090-17090/ageha.stationaryacceleration I/MainActivity: 0.010377057, 0.02414655, 0.4983569\n",
    "03-16 08:01:22.998 17090-17090/ageha.stationaryacceleration I/MainActivity: 0.009878833, 0.021337844, 0.46016467\n",
    "03-16 08:01:22.998 17090-17090/ageha.stationaryacceleration I/MainActivity: 0.019252276, -0.028056419, 0.49237192\n",
    "03-16 08:01:22.998 17090-17090/ageha.stationaryacceleration I/MainActivity: -0.018622216, -0.021233097, 0.4637327\n",
    "03-16 08:01:23.028 17090-17090/ageha.stationaryacceleration I/MainActivity: -7.348508E-5, -0.0063286982, 0.46230507\n",
    "03-16 08:01:23.028 17090-17090/ageha.stationaryacceleration I/MainActivity: 6.032684E-4, 0.01682077, 0.5086205\n",
    "03-16 08:01:23.029 17090-17090/ageha.stationaryacceleration I/MainActivity: -0.024957128, -0.009404462, 0.4821179\n",
    "03-16 08:01:23.029 17090-17090/ageha.stationaryacceleration I/MainActivity: -3.7514232E-4, 0.014738409, 0.4799766\n",
    "03-16 08:01:23.030 17090-17090/ageha.stationaryacceleration I/MainActivity: -0.0040819068, -0.0049462505, 0.47185406\n",
    "03-16 08:01:23.030 17090-17090/ageha.stationaryacceleration I/MainActivity: -0.0026838048, 0.005218992, 0.48068947\n",
    "03-16 08:01:23.057 17090-17090/ageha.stationaryacceleration I/MainActivity: -0.011608621, 0.008618081, 0.4997867\n",
    "03-16 08:01:23.058 17090-17090/ageha.stationaryacceleration I/MainActivity: 0.010431801, -0.03378368, 0.5026355\n",
    "03-16 08:01:23.058 17090-17090/ageha.stationaryacceleration I/MainActivity: -0.0014798581, 0.007871989, 0.50933367\n",
    "03-16 08:01:23.058 17090-17090/ageha.stationaryacceleration I/MainActivity: 0.002664127, 0.0046651214, 0.48068905\n",
    "03-16 08:01:23.058 17090-17090/ageha.stationaryacceleration I/MainActivity: -0.0012383908, -0.01395883, 0.48211545\n",
    "03-16 08:01:23.058 17090-17090/ageha.stationaryacceleration I/MainActivity: -0.016759276, -0.018444967, 0.51147467\n",
    "03-16 08:01:23.098 17090-17090/ageha.stationaryacceleration I/MainActivity: -0.024704184, -0.007816531, 0.5012153\n",
    "03-16 08:01:23.098 17090-17090/ageha.stationaryacceleration I/MainActivity: 0.011626297, 0.021523893, 0.47926408\n",
    "03-16 08:01:23.098 17090-17090/ageha.stationaryacceleration I/MainActivity: -0.01560532, -0.010566022, 0.49166498\n",
    "03-16 08:01:23.098 17090-17090/ageha.stationaryacceleration I/MainActivity: -0.008944637, 0.025978625, 0.48881444\n",
    "03-16 08:01:23.098 17090-17090/ageha.stationaryacceleration I/MainActivity: 0.015012831, -0.0073805638, 0.4814005\n",
    "03-16 08:01:23.099 17090-17090/ageha.stationaryacceleration I/MainActivity: 0.0057045436, -0.004072208, 0.51004606\n",
    "03-16 08:01:23.099 17090-17090/ageha.stationaryacceleration I/MainActivity: 0.0072753867, 0.0038971752, 0.49023673\n",
    "03-16 08:01:23.099 17090-17090/ageha.stationaryacceleration I/MainActivity: 0.0031876827, 0.012337577, 0.46088076\n",
    "03-16 08:01:23.127 17090-17090/ageha.stationaryacceleration I/MainActivity: 3.9755716E-5, 0.024957556, 0.49835992\n",
    "03-16 08:01:23.127 17090-17090/ageha.stationaryacceleration I/MainActivity: 0.0057786736, 0.01568742, 0.5181673\n",
    "03-16 08:01:23.127 17090-17090/ageha.stationaryacceleration I/MainActivity: 0.0024610579, 0.021997215, 0.46016747\n",
    "03-16 08:01:23.128 17090-17090/ageha.stationaryacceleration I/MainActivity: 8.434045E-4, 0.03302169, 0.47855178\n",
    "03-16 08:01:23.157 17090-17090/ageha.stationaryacceleration I/MainActivity: 0.021049473, 0.019144129, 0.48881054\n",
    "03-16 08:01:23.157 17090-17090/ageha.stationaryacceleration I/MainActivity: 0.008977505, 0.05076375, 0.47713172\n",
    "03-16 08:01:23.158 17090-17090/ageha.stationaryacceleration I/MainActivity: 0.005253941, -0.006881632, 0.48140153\n",
    "03-16 08:01:23.158 17090-17090/ageha.stationaryacceleration I/MainActivity: -0.00393611, 0.034556363, 0.47855696\n",
    "03-16 08:01:23.158 17090-17090/ageha.stationaryacceleration I/MainActivity: 0.0025158823, 0.003169559, 0.4806904\"\"\""
   ]
  },
  {
   "cell_type": "code",
   "execution_count": 16,
   "metadata": {},
   "outputs": [],
   "source": [
    "lines = log.split(\"\\n\")"
   ]
  },
  {
   "cell_type": "code",
   "execution_count": 17,
   "metadata": {},
   "outputs": [],
   "source": [
    "records = []\n",
    "for line in lines:\n",
    "    values = line.split(\":\")[-1]\n",
    "    values = values.split(\",\")\n",
    "    values = [float(i) for i in values]\n",
    "    records.append(values)"
   ]
  },
  {
   "cell_type": "code",
   "execution_count": 19,
   "metadata": {},
   "outputs": [],
   "source": [
    "import numpy as np\n",
    "records = np.array(records)"
   ]
  },
  {
   "cell_type": "code",
   "execution_count": 22,
   "metadata": {},
   "outputs": [
    {
     "data": {
      "text/plain": [
       "array([ 0.00072254,  0.00588626,  0.47947308])"
      ]
     },
     "execution_count": 22,
     "metadata": {},
     "output_type": "execute_result"
    }
   ],
   "source": [
    "np.mean(records, axis=0)"
   ]
  }
 ],
 "metadata": {
  "kernelspec": {
   "display_name": "Python 3",
   "language": "python",
   "name": "python3"
  },
  "language_info": {
   "codemirror_mode": {
    "name": "ipython",
    "version": 3
   },
   "file_extension": ".py",
   "mimetype": "text/x-python",
   "name": "python",
   "nbconvert_exporter": "python",
   "pygments_lexer": "ipython3",
   "version": "3.6.1"
  }
 },
 "nbformat": 4,
 "nbformat_minor": 2
}
