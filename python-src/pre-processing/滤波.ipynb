{
 "cells": [
  {
   "cell_type": "code",
   "execution_count": 7,
   "metadata": {},
   "outputs": [],
   "source": [
    "import numpy as np\n",
    "from scipy.signal import butter, lfilter, freqz\n",
    "import matplotlib.pyplot as plt\n",
    "import pandas as pd"
   ]
  },
  {
   "cell_type": "code",
   "execution_count": 3,
   "metadata": {
    "collapsed": true
   },
   "outputs": [],
   "source": [
    "\n",
    "\n",
    "def butter_lowpass(cutoff, fs, order=5):\n",
    "    nyq = 0.5 * fs\n",
    "    normal_cutoff = cutoff / nyq\n",
    "    b, a = butter(order, normal_cutoff, btype='low', analog=False)\n",
    "    return b, a\n",
    "\n",
    "def butter_lowpass_filter(data, cutoff, fs, order=5):\n",
    "    b, a = butter_lowpass(cutoff, fs, order=order)\n",
    "    y = lfilter(b, a, data)\n",
    "    return y\n",
    "\n"
   ]
  },
  {
   "cell_type": "code",
   "execution_count": 9,
   "metadata": {},
   "outputs": [],
   "source": [
    "features = pd.DataFrame.from_csv(\"../../data/global_acc_features_df.csv\")\n"
   ]
  },
  {
   "cell_type": "code",
   "execution_count": 38,
   "metadata": {
    "collapsed": true
   },
   "outputs": [],
   "source": []
  },
  {
   "cell_type": "code",
   "execution_count": 36,
   "metadata": {},
   "outputs": [],
   "source": [
    "groups = features.groupby(['TagName','tester_id'])"
   ]
  },
  {
   "cell_type": "code",
   "execution_count": 41,
   "metadata": {},
   "outputs": [
    {
     "data": {
      "text/html": [
       "<div>\n",
       "<style>\n",
       "    .dataframe thead tr:only-child th {\n",
       "        text-align: right;\n",
       "    }\n",
       "\n",
       "    .dataframe thead th {\n",
       "        text-align: left;\n",
       "    }\n",
       "\n",
       "    .dataframe tbody tr th {\n",
       "        vertical-align: top;\n",
       "    }\n",
       "</style>\n",
       "<table border=\"1\" class=\"dataframe\">\n",
       "  <thead>\n",
       "    <tr style=\"text-align: right;\">\n",
       "      <th></th>\n",
       "      <th>unix_timestamp</th>\n",
       "      <th>TagName</th>\n",
       "      <th>tester_id</th>\n",
       "      <th>v_1</th>\n",
       "      <th>v_2</th>\n",
       "      <th>v_3</th>\n",
       "      <th>d_1</th>\n",
       "      <th>d_2</th>\n",
       "      <th>d_3</th>\n",
       "      <th>global_acc1</th>\n",
       "      <th>global_acc2</th>\n",
       "      <th>global_acc3</th>\n",
       "    </tr>\n",
       "  </thead>\n",
       "  <tbody>\n",
       "    <tr>\n",
       "      <th>0</th>\n",
       "      <td>1.515398e+09</td>\n",
       "      <td>Tag0</td>\n",
       "      <td>0.0</td>\n",
       "      <td>0.000000</td>\n",
       "      <td>0.000000</td>\n",
       "      <td>0.000000</td>\n",
       "      <td>0.000000e+00</td>\n",
       "      <td>0.000000e+00</td>\n",
       "      <td>0.000000</td>\n",
       "      <td>-0.058561</td>\n",
       "      <td>-0.130082</td>\n",
       "      <td>-0.520824</td>\n",
       "    </tr>\n",
       "    <tr>\n",
       "      <th>1</th>\n",
       "      <td>1.515398e+09</td>\n",
       "      <td>Tag0</td>\n",
       "      <td>0.0</td>\n",
       "      <td>-0.000073</td>\n",
       "      <td>-0.000388</td>\n",
       "      <td>-0.002020</td>\n",
       "      <td>-1.834992e-07</td>\n",
       "      <td>-9.703653e-07</td>\n",
       "      <td>-0.000005</td>\n",
       "      <td>0.021859</td>\n",
       "      <td>-0.064001</td>\n",
       "      <td>-0.489335</td>\n",
       "    </tr>\n",
       "    <tr>\n",
       "      <th>2</th>\n",
       "      <td>1.515398e+09</td>\n",
       "      <td>Tag0</td>\n",
       "      <td>0.0</td>\n",
       "      <td>0.000035</td>\n",
       "      <td>-0.000564</td>\n",
       "      <td>-0.004001</td>\n",
       "      <td>-4.303650e-07</td>\n",
       "      <td>-3.528084e-06</td>\n",
       "      <td>-0.000020</td>\n",
       "      <td>-0.002340</td>\n",
       "      <td>-0.037200</td>\n",
       "      <td>-0.522459</td>\n",
       "    </tr>\n",
       "    <tr>\n",
       "      <th>3</th>\n",
       "      <td>1.515398e+09</td>\n",
       "      <td>Tag0</td>\n",
       "      <td>0.0</td>\n",
       "      <td>-0.000160</td>\n",
       "      <td>-0.000652</td>\n",
       "      <td>-0.006500</td>\n",
       "      <td>-5.877165e-07</td>\n",
       "      <td>-7.142123e-06</td>\n",
       "      <td>-0.000052</td>\n",
       "      <td>-0.070036</td>\n",
       "      <td>0.008021</td>\n",
       "      <td>-0.501289</td>\n",
       "    </tr>\n",
       "    <tr>\n",
       "      <th>4</th>\n",
       "      <td>1.515398e+09</td>\n",
       "      <td>Tag0</td>\n",
       "      <td>0.0</td>\n",
       "      <td>-0.000465</td>\n",
       "      <td>-0.000570</td>\n",
       "      <td>-0.008448</td>\n",
       "      <td>-2.219124e-06</td>\n",
       "      <td>-1.039287e-05</td>\n",
       "      <td>-0.000089</td>\n",
       "      <td>-0.069951</td>\n",
       "      <td>0.008737</td>\n",
       "      <td>-0.501289</td>\n",
       "    </tr>\n",
       "  </tbody>\n",
       "</table>\n",
       "</div>"
      ],
      "text/plain": [
       "   unix_timestamp TagName  tester_id       v_1       v_2       v_3  \\\n",
       "0    1.515398e+09    Tag0        0.0  0.000000  0.000000  0.000000   \n",
       "1    1.515398e+09    Tag0        0.0 -0.000073 -0.000388 -0.002020   \n",
       "2    1.515398e+09    Tag0        0.0  0.000035 -0.000564 -0.004001   \n",
       "3    1.515398e+09    Tag0        0.0 -0.000160 -0.000652 -0.006500   \n",
       "4    1.515398e+09    Tag0        0.0 -0.000465 -0.000570 -0.008448   \n",
       "\n",
       "            d_1           d_2       d_3  global_acc1  global_acc2  global_acc3  \n",
       "0  0.000000e+00  0.000000e+00  0.000000    -0.058561    -0.130082    -0.520824  \n",
       "1 -1.834992e-07 -9.703653e-07 -0.000005     0.021859    -0.064001    -0.489335  \n",
       "2 -4.303650e-07 -3.528084e-06 -0.000020    -0.002340    -0.037200    -0.522459  \n",
       "3 -5.877165e-07 -7.142123e-06 -0.000052    -0.070036     0.008021    -0.501289  \n",
       "4 -2.219124e-06 -1.039287e-05 -0.000089    -0.069951     0.008737    -0.501289  "
      ]
     },
     "execution_count": 41,
     "metadata": {},
     "output_type": "execute_result"
    }
   ],
   "source": [
    "features.head()"
   ]
  },
  {
   "cell_type": "code",
   "execution_count": 35,
   "metadata": {},
   "outputs": [],
   "source": [
    "def lowpassfilter(data):\n",
    "    fc = 0.1\n",
    "    b = 0.08\n",
    "    N = int(np.ceil((4 / b)))\n",
    "    if not N % 2: N += 1\n",
    "    n = np.arange(N)\n",
    "\n",
    "    sinc_func = np.sinc(2 * fc * (n - (N - 1) / 2.))\n",
    "    window = 0.42 - 0.5 * np.cos(2 * np.pi * n / (N - 1)) + 0.08 * np.cos(4 * np.pi * n / (N - 1))\n",
    "    sinc_func = sinc_func * window\n",
    "    sinc_func = sinc_func / np.sum(sinc_func)\n",
    "\n",
    "    new_signal = np.convolve(data, sinc_func)\n",
    "    return new_signal"
   ]
  },
  {
   "cell_type": "code",
   "execution_count": 48,
   "metadata": {},
   "outputs": [],
   "source": [
    "filterred_feature = pd.DataFrame(columns=['TagName','tester_id','filtered_global_acc_1',\n",
    "                                          'filtered_global_acc_2','filtered_global_acc_3'])\n",
    "for key in groups.groups.keys():\n",
    "    \n",
    "    cur_group = groups.get_group(key)\n",
    "    temp = pd.DataFrame(columns=['TagName','tester_id','filtered_global_acc_1','filtered_global_acc_2',\n",
    "                                 'filtered_global_acc_3'])\n",
    "    temp['filtered_global_acc_1'] = lowpassfilter(cur_group.global_acc1.values)\n",
    "    temp['filtered_global_acc_2'] = lowpassfilter(cur_group.global_acc2.values)\n",
    "    temp['filtered_global_acc_3'] = lowpassfilter(cur_group.global_acc3.values)\n",
    "    temp['TagName'] = key[0]\n",
    "    temp['tester_id'] = key[1]\n",
    "    filterred_feature = filterred_feature.append(temp, ignore_index=True)\n",
    "filterred_feature.to_csv(\"../../data/filterred_feature.csv\")"
   ]
  },
  {
   "cell_type": "code",
   "execution_count": null,
   "metadata": {
    "collapsed": true
   },
   "outputs": [],
   "source": []
  },
  {
   "cell_type": "code",
   "execution_count": null,
   "metadata": {
    "collapsed": true
   },
   "outputs": [],
   "source": []
  }
 ],
 "metadata": {
  "kernelspec": {
   "display_name": "Python 3",
   "language": "python",
   "name": "python3"
  },
  "language_info": {
   "codemirror_mode": {
    "name": "ipython",
    "version": 3
   },
   "file_extension": ".py",
   "mimetype": "text/x-python",
   "name": "python",
   "nbconvert_exporter": "python",
   "pygments_lexer": "ipython3",
   "version": "3.6.1"
  }
 },
 "nbformat": 4,
 "nbformat_minor": 2
}
