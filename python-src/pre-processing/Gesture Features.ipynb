{
 "cells": [
  {
   "cell_type": "code",
   "execution_count": 1,
   "metadata": {
    "collapsed": true
   },
   "outputs": [],
   "source": [
    "import pandas as pd\n",
    "import numpy as np\n",
    "import matplotlib.pyplot as plt"
   ]
  },
  {
   "cell_type": "code",
   "execution_count": 2,
   "metadata": {
    "collapsed": true
   },
   "outputs": [],
   "source": [
    "data = pd.DataFrame.from_csv(\"../../data/global_acc_features_df.csv\")"
   ]
  },
  {
   "cell_type": "code",
   "execution_count": 3,
   "metadata": {
    "collapsed": true
   },
   "outputs": [],
   "source": [
    "data_groups = data.groupby(['TagName','tester_id'])\n",
    "keys = data_groups.groups.keys()"
   ]
  },
  {
   "cell_type": "code",
   "execution_count": 4,
   "metadata": {
    "collapsed": true
   },
   "outputs": [],
   "source": [
    "gesture_feature = pd.DataFrame(columns=['TagName','tester_id','d_change'])\n",
    "tags = []\n",
    "tester = []\n",
    "change = []\n",
    "for key in keys:\n",
    "    cur_group = data_groups.get_group(key)\n",
    "    d_3 = cur_group.d_3.values\n",
    "    \n",
    "    change.append(d_3[-1] - d_3[0])\n",
    "    tags.append(key[0])\n",
    "    tester.append(key[1])\n",
    "\n",
    "gesture_feature['TagName'] = tags\n",
    "gesture_feature['tester_id'] = tester\n",
    "gesture_feature['d_change'] = change\n"
   ]
  },
  {
   "cell_type": "code",
   "execution_count": 5,
   "metadata": {
    "collapsed": true
   },
   "outputs": [],
   "source": [
    "gesture_feature.to_csv(\"../../data/gesture_feature_df.csv\")"
   ]
  },
  {
   "cell_type": "code",
   "execution_count": 3,
   "metadata": {
    "collapsed": true
   },
   "outputs": [],
   "source": [
    "gesture_feature = pd.DataFrame.from_csv(\"../../data/gesture_feature_df.csv\")"
   ]
  },
  {
   "cell_type": "code",
   "execution_count": 4,
   "metadata": {
    "collapsed": true
   },
   "outputs": [],
   "source": [
    "tag6 = gesture_feature[gesture_feature.TagName == 'Tag6']['d_change']\n",
    "tag0 = gesture_feature[gesture_feature.TagName == 'Tag0']['d_change']"
   ]
  },
  {
   "cell_type": "code",
   "execution_count": 5,
   "metadata": {},
   "outputs": [
    {
     "data": {
      "image/png": "[encoded data removed]",
      "text/plain": [
       "<matplotlib.figure.Figure at 0x115d48080>"
      ]
     },
     "metadata": {},
     "output_type": "display_data"
    }
   ],
   "source": [
    "x, = plt.plot(sorted(tag6.values), label = \"Tag6\")\n",
    "y, = plt.plot(sorted(tag0.values), label = \"Tag0\")\n",
    "plt.legend(handles=[x,y])\n",
    "plt.xlabel(\"Activity\")\n",
    "plt.ylabel(\"Displacement in Z-Axiz\")\n",
    "plt.savefig(\"/Users/Ageha/Desktop/displacement_0_6.png\")\n",
    "plt.show()"
   ]
  },
  {
   "cell_type": "code",
   "execution_count": null,
   "metadata": {
    "collapsed": true
   },
   "outputs": [],
   "source": []
  }
 ],
 "metadata": {
  "kernelspec": {
   "display_name": "Python 3",
   "language": "python",
   "name": "python3"
  },
  "language_info": {
   "codemirror_mode": {
    "name": "ipython",
    "version": 3
   },
   "file_extension": ".py",
   "mimetype": "text/x-python",
   "name": "python",
   "nbconvert_exporter": "python",
   "pygments_lexer": "ipython3",
   "version": "3.6.1"
  }
 },
 "nbformat": 4,
 "nbformat_minor": 2
}
