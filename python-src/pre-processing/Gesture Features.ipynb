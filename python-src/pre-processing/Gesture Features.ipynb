{
 "cells": [
  {
   "cell_type": "code",
   "execution_count": null,
   "metadata": {
    "collapsed": true
   },
   "outputs": [],
   "source": [
    "import pandas as pd\n",
    "import numpy as np\n",
    "import matplotlib.pyplot as plt"
   ]
  },
  {
   "cell_type": "code",
   "execution_count": null,
   "metadata": {
    "collapsed": true
   },
   "outputs": [],
   "source": [
    "data = pd.DataFrame.from_csv(\"../../data/global_acc_features_df.csv\")"
   ]
  },
  {
   "cell_type": "code",
   "execution_count": null,
   "metadata": {
    "collapsed": true
   },
   "outputs": [],
   "source": [
    "data_groups = data.groupby(['TagName','tester_id'])\n",
    "keys = data_groups.groups.keys()"
   ]
  },
  {
   "cell_type": "code",
   "execution_count": 4,
   "metadata": {
    "collapsed": true
   },
   "outputs": [],
   "source": [
    "gesture_feature = pd.DataFrame(columns=['TagName','tester_id','d_change'])\n",
    "tags = []\n",
    "tester = []\n",
    "change = []\n",
    "for key in keys:\n",
    "    cur_group = data_groups.get_group(key)\n",
    "    d_3 = cur_group.d_3.values\n",
    "    \n",
    "    change.append(d_3[-1] - d_3[0])\n",
    "    tags.append(key[0])\n",
    "    tester.append(key[1])\n",
    "\n",
    "gesture_feature['TagName'] = tags\n",
    "gesture_feature['tester_id'] = tester\n",
    "gesture_feature['d_change'] = change\n"
   ]
  },
  {
   "cell_type": "code",
   "execution_count": 5,
   "metadata": {
    "collapsed": true
   },
   "outputs": [],
   "source": [
    "gesture_feature.to_csv(\"../../data/gesture_feature_df.csv\")"
   ]
  },
  {
   "cell_type": "code",
   "execution_count": 7,
   "metadata": {},
   "outputs": [],
   "source": [
    "tag6 = gesture_feature[gesture_feature.TagName == 'Tag6']['d_change']\n",
    "tag0 = gesture_feature[gesture_feature.TagName == 'Tag0']['d_change']"
   ]
  },
  {
   "cell_type": "code",
   "execution_count": 8,
   "metadata": {},
   "outputs": [
    {
     "data": {
      "image/png": "[encoded data removed]",
      "text/plain": [
       "<matplotlib.figure.Figure at 0x10bd7d128>"
      ]
     },
     "metadata": {},
     "output_type": "display_data"
    }
   ],
   "source": [
    "plt.plot(sorted(tag6.values))\n",
    "plt.plot(sorted(tag0.values))\n",
    "plt.show()"
   ]
  },
  {
   "cell_type": "code",
   "execution_count": null,
   "metadata": {
    "collapsed": true
   },
   "outputs": [],
   "source": []
  }
 ],
 "metadata": {
  "kernelspec": {
   "display_name": "Python 3",
   "language": "python",
   "name": "python3"
  },
  "language_info": {
   "codemirror_mode": {
    "name": "ipython",
    "version": 3
   },
   "file_extension": ".py",
   "mimetype": "text/x-python",
   "name": "python",
   "nbconvert_exporter": "python",
   "pygments_lexer": "ipython3",
   "version": "3.6.1"
  }
 },
 "nbformat": 4,
 "nbformat_minor": 2
}
