{
 "cells": [
  {
   "cell_type": "code",
   "execution_count": null,
   "metadata": {
    "collapsed": true
   },
   "outputs": [],
   "source": [
    "import pandas as pd\n",
    "import numpy as np\n",
    "import os\n",
    "import matplotlib.pyplot as plt\n",
    "from collections import Counter\n",
    "import datetime\n",
    "import sys\n",
    "import logging\n",
    "import math\n",
    "from scipy.interpolate import InterpolatedUnivariateSpline\n",
    "from scipy.integrate import simps"
   ]
  },
  {
   "cell_type": "code",
   "execution_count": null,
   "metadata": {},
   "outputs": [],
   "source": [
    "sensor_df = pd.DataFrame.from_csv(\"../../data/database/sensor_data.csv\")\n",
    "sensor_df = sensor_df[~((sensor_df.TagName == 'Start1') | (sensor_df.TagName == 'Start2'))]\n",
    "Counter(sensor_df.TagName)"
   ]
  },
  {
   "cell_type": "code",
   "execution_count": null,
   "metadata": {
    "collapsed": true
   },
   "outputs": [],
   "source": [
    "tag_tester_groupby = sensor_df.groupby(['tester_id','TagName'])"
   ]
  },
  {
   "cell_type": "code",
   "execution_count": null,
   "metadata": {
    "collapsed": true
   },
   "outputs": [],
   "source": [
    "acceleration_data = pd.DataFrame(columns=['tester_id','TagName','Time','acc_val1','acc_val2','acc_val3',\n",
    "                                          'acc_val4','gravity1','gravity2','gravity3','mag_val1',\n",
    "                                          'mag_val2','mag_val3'])"
   ]
  },
  {
   "cell_type": "code",
   "execution_count": null,
   "metadata": {
    "collapsed": true
   },
   "outputs": [],
   "source": [
    "for key in tag_tester_groupby.groups.keys():\n",
    "    cur_res = []\n",
    "    prev_mag = None\n",
    "    prev_grav = None\n",
    "\n",
    "    for cur_sensor in tag_tester_groupby.get_group(key).values:\n",
    "        if cur_sensor[1] == 9:\n",
    "            prev_grav = cur_sensor[2:5].tolist()\n",
    "        elif cur_sensor[1] == 2:\n",
    "            prev_mag = cur_sensor[2:5].tolist()\n",
    "        elif cur_sensor[1] == 10:\n",
    "            if ((prev_grav is not None) and (prev_mag is not None)):\n",
    "                cur_line = [key[0],key[1],cur_sensor[0]] + cur_sensor[2:5].tolist() + [0] + prev_grav + prev_mag\n",
    "                cur_res.append(cur_line)\n",
    "    acceleration_data = acceleration_data.append(pd.DataFrame(cur_res,columns=['tester_id','TagName','Time','acc_val1','acc_val2','acc_val3',\n",
    "                                          'acc_val4','gravity1','gravity2','gravity3','mag_val1',\n",
    "                                          'mag_val2','mag_val3']), ignore_index = True)\n",
    "    "
   ]
  },
  {
   "cell_type": "code",
   "execution_count": null,
   "metadata": {
    "collapsed": true
   },
   "outputs": [],
   "source": [
    "acceleration_data.to_csv(\"../../data/linear_acceleration_grav_mag.csv\")"
   ]
  },
  {
   "cell_type": "code",
   "execution_count": null,
   "metadata": {},
   "outputs": [],
   "source": [
    "sensor_df[sensor_df.SENSORTYPE == 10].groupby(['tester_id', 'TagName']).count().head()"
   ]
  },
  {
   "cell_type": "code",
   "execution_count": null,
   "metadata": {
    "collapsed": true
   },
   "outputs": [],
   "source": [
    "acceleration_data.groupby(['tester_id', 'TagName']).groups.keys()"
   ]
  },
  {
   "cell_type": "code",
   "execution_count": null,
   "metadata": {},
   "outputs": [],
   "source": [
    "acceleration_data.groupby(['tester_id', 'TagName']).count().head()"
   ]
  },
  {
   "cell_type": "code",
   "execution_count": null,
   "metadata": {
    "scrolled": true
   },
   "outputs": [],
   "source": [
    "linear_acc_df = pd.DataFrame(columns=col_names)\n",
    "count = 0\n",
    "for key in linear_acc_groups.groups.keys():\n",
    "    cur_group = linear_acc_groups.get_group(key)\n",
    "    t = cur_group.unix_timestamp.values\n",
    "    v_1 = []\n",
    "    d_1 = []\n",
    "    v_2 = []\n",
    "    d_2 = []\n",
    "    v_3 = []\n",
    "    d_3 = []\n",
    "    for i in range(len(t)):\n",
    "        v_1.append(simps(0.8*cur_group.VALUES1.values[:i+1], x=t[:i+1]))\n",
    "    for i in range(len(t)):\n",
    "        d_1.append(simps(v_1[:i+1], x=t[:i+1]))\n",
    "    for i in range(len(t)):\n",
    "        v_2.append(simps(0.8*cur_group.VALUES2.values[:i+1], x=t[:i+1]))\n",
    "    for i in range(len(t)):\n",
    "        d_2.append(simps(v_2[:i+1], x=t[:i+1]))\n",
    "    for i in range(len(t)):\n",
    "        v_3.append(simps(0.8*cur_group.VALUES3.values[:i+1], x=t[:i+1]))\n",
    "    for i in range(len(t)):\n",
    "        d_3.append(simps(v_3[:i+1], x=t[:i+1]))\n",
    "    \n",
    "    v_1 = np.array(v_1)\n",
    "    d_1 = np.array(d_1)\n",
    "    v_2 = np.array(v_2)\n",
    "    d_2 = np.array(d_2)\n",
    "    v_3 = np.array(v_3)\n",
    "    d_3 = np.array(d_3)\n",
    "\n",
    "    temp = np.concatenate((t.reshape(-1,1),np.array([key[0]]*len(t)).reshape(-1,1),np.array([key[1]]*len(t)).reshape(-1,1),d_1.reshape(-1,1),d_2.reshape(-1,1),d_3.reshape(-1,1),v_1.reshape(-1,1),v_2.reshape(-1,1),v_3.reshape(-1,1)), axis = 1)\n",
    "\n",
    "    linear_acc_df = linear_acc_df.append(pd.DataFrame(temp, columns=col_names), ignore_index=True)\n",
    "    count+=1\n",
    "    if (count%50==0):\n",
    "        print(count)\n",
    "\n",
    "    "
   ]
  },
  {
   "cell_type": "code",
   "execution_count": null,
   "metadata": {},
   "outputs": [],
   "source": [
    "linear_acc_df.head()"
   ]
  },
  {
   "cell_type": "code",
   "execution_count": null,
   "metadata": {
    "collapsed": true
   },
   "outputs": [],
   "source": [
    "linear_acc_df.to_csv(\"../../data/linear_accuracy_features_df.csv\")"
   ]
  },
  {
   "cell_type": "code",
   "execution_count": null,
   "metadata": {
    "collapsed": true
   },
   "outputs": [],
   "source": [
    "[0]*10"
   ]
  },
  {
   "cell_type": "code",
   "execution_count": null,
   "metadata": {
    "collapsed": true
   },
   "outputs": [],
   "source": []
  }
 ],
 "metadata": {
  "kernelspec": {
   "display_name": "Python 3",
   "language": "python",
   "name": "python3"
  },
  "language_info": {
   "codemirror_mode": {
    "name": "ipython",
    "version": 3
   },
   "file_extension": ".py",
   "mimetype": "text/x-python",
   "name": "python",
   "nbconvert_exporter": "python",
   "pygments_lexer": "ipython3",
   "version": "3.6.1"
  }
 },
 "nbformat": 4,
 "nbformat_minor": 2
}
