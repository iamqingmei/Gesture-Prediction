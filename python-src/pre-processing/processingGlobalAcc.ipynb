{
 "cells": [
  {
   "cell_type": "code",
   "execution_count": null,
   "metadata": {
    "collapsed": true
   },
   "outputs": [],
   "source": [
    "import pandas as pd\n",
    "import numpy as np\n",
    "import matplotlib.pyplot as plt"
   ]
  },
  {
   "cell_type": "markdown",
   "metadata": {},
   "source": [
    "## Read the acceleration file in earth's coordinate system which are converted by the watch"
   ]
  },
  {
   "cell_type": "code",
   "execution_count": null,
   "metadata": {
    "collapsed": true
   },
   "outputs": [],
   "source": [
    "df = pd.DataFrame()\n",
    "count = 50000\n",
    "\n",
    "while(True):\n",
    "    cur = pd.read_csv(\"../../data/global acc/result\" + str(count) + \".csv\", skipinitialspace=True, header=None)\n",
    "    df = df.append(cur, ignore_index=True)\n",
    "    if count == 500000:\n",
    "        break\n",
    "    count += 50000\n",
    "cur = pd.read_csv(\"../../data/global acc/result_final.csv\", skipinitialspace=True, header=None)\n",
    "df = df.append(cur, ignore_index=True)"
   ]
  },
  {
   "cell_type": "code",
   "execution_count": null,
   "metadata": {
    "collapsed": true
   },
   "outputs": [],
   "source": [
    "len(df)"
   ]
  },
  {
   "cell_type": "code",
   "execution_count": null,
   "metadata": {
    "collapsed": true
   },
   "outputs": [],
   "source": [
    "df.columns = ['global_acc1','global_acc2','global_acc3']"
   ]
  },
  {
   "cell_type": "markdown",
   "metadata": {},
   "source": [
    "## Add the time, tagname and tester_id into the df"
   ]
  },
  {
   "cell_type": "code",
   "execution_count": null,
   "metadata": {
    "collapsed": true
   },
   "outputs": [],
   "source": [
    "t = pd.DataFrame.from_csv(\"../../data/linear_acceleration_grav_mag.csv\")\n",
    "t.columns"
   ]
  },
  {
   "cell_type": "code",
   "execution_count": null,
   "metadata": {
    "collapsed": true
   },
   "outputs": [],
   "source": [
    "b = t[['tester_id', 'TagName', 'Time']].copy()\n",
    "for col in ['global_acc1','global_acc2','global_acc3']:\n",
    "    b[col] = 0\n",
    "\n",
    "b[['global_acc1','global_acc2','global_acc3']] = df[['global_acc1','global_acc2','global_acc3']].values\n",
    "b['unix_timestamp'] = pd.to_datetime(b['Time']).values.astype(\"uint64\") / 1000000000\n",
    "b.to_csv(\"../../data/global_acc_df.csv\")"
   ]
  },
  {
   "cell_type": "markdown",
   "metadata": {},
   "source": [
    "## Calculate distance and velocity"
   ]
  },
  {
   "cell_type": "code",
   "execution_count": null,
   "metadata": {
    "collapsed": true
   },
   "outputs": [],
   "source": [
    "from scipy.integrate import simps"
   ]
  },
  {
   "cell_type": "code",
   "execution_count": null,
   "metadata": {
    "collapsed": true
   },
   "outputs": [],
   "source": [
    "b = pd.DataFrame.from_csv(\"../../data/global_acc_df.csv\")\n",
    "b.head()"
   ]
  },
  {
   "cell_type": "code",
   "execution_count": null,
   "metadata": {
    "collapsed": true
   },
   "outputs": [],
   "source": [
    "def correct_velocity_drift(v_0):\n",
    "    # function to correct velocity drift\n",
    "    d = v_0[-1] / (len(v_0)-1)\n",
    "    for i in range(len(v_0)):\n",
    "        v_0[i] = v_0[i] - d*i\n",
    "    return v_0"
   ]
  },
  {
   "cell_type": "code",
   "execution_count": null,
   "metadata": {
    "collapsed": true,
    "scrolled": true
   },
   "outputs": [],
   "source": [
    "features = pd.DataFrame(columns=['unix_timestamp','TagName','tester_id',\n",
    "                                 'v_1','v_2','v_3','d_1','d_2','d_3', 'global_acc1',\n",
    "                                 'global_acc2','global_acc3','v_12_square','acc_12_square','d_12_square'])\n",
    "\n",
    "\n",
    "b_groups = b.groupby(['TagName','tester_id'])\n",
    "count = 0\n",
    "for key in b_groups.groups.keys():\n",
    "    \n",
    "    cur_group = b_groups.get_group(key)\n",
    "    t = cur_group.unix_timestamp.values\n",
    "    v_1 = []\n",
    "    d_1 = []\n",
    "    v_2 = []\n",
    "    d_2 = []\n",
    "    v_3 = []\n",
    "    d_3 = []\n",
    "    acc1 = cur_group.global_acc1.values\n",
    "    acc2 = cur_group.global_acc2.values\n",
    "    acc3 = cur_group.global_acc3.values\n",
    "#     Calculate velocity through acceleration\n",
    "    for i in range(len(t)):\n",
    "        v_1.append(simps(acc1[:i+1], x=t[:i+1]))\n",
    "    for i in range(len(t)):\n",
    "        v_2.append(simps(acc2[:i+1], x=t[:i+1]))\n",
    "    for i in range(len(t)):\n",
    "        v_3.append(simps(acc3[:i+1], x=t[:i+1]))\n",
    "#         correct velocity drift\n",
    "    v_1 = correct_velocity_drift(v_1)\n",
    "    v_2 = correct_velocity_drift(v_2)\n",
    "    v_3 = correct_velocity_drift(v_3)\n",
    "#     calculate displacement through velocity\n",
    "    for i in range(len(t)):\n",
    "        d_1.append(simps(v_1[:i+1], x=t[:i+1]))\n",
    "    for i in range(len(t)):\n",
    "        d_2.append(simps(v_2[:i+1], x=t[:i+1]))\n",
    "    for i in range(len(t)):\n",
    "        d_3.append(simps(v_3[:i+1], x=t[:i+1]))\n",
    "    \n",
    "    v_1 = np.array(v_1)\n",
    "    d_1 = np.array(d_1)\n",
    "    v_2 = np.array(v_2)\n",
    "    d_2 = np.array(d_2)\n",
    "    v_3 = np.array(v_3)\n",
    "    d_3 = np.array(d_3)\n",
    "\n",
    "    \n",
    "    \n",
    "    temp_df = pd.DataFrame()\n",
    "    \n",
    "    temp_df['unix_timestamp'] = t\n",
    "    temp_df['TagName'] = np.array([key[0]]*len(t))\n",
    "    temp_df['tester_id'] = np.array([key[1]]*len(t))\n",
    "                                                           \n",
    "        \n",
    "    temp_df['v_1'] = v_1\n",
    "    temp_df['v_2'] = v_2\n",
    "    temp_df['v_3'] = v_3\n",
    "    \n",
    "    temp_df['d_1'] = d_1                                       \n",
    "    temp_df['d_2'] = d_2\n",
    "    temp_df['d_3'] = d_3\n",
    "    temp_df['global_acc1'] = acc1\n",
    "    temp_df['global_acc2'] = acc2\n",
    "    temp_df['global_acc3'] = acc3\n",
    "    \n",
    "    temp_df['v_12_square'] = np.sqrt(v_1*v_1 + v_2*v_2)\n",
    "    temp_df['acc_12_square'] = np.sqrt(acc1*acc1 + acc2*acc2)\n",
    "    temp_df['d_12_square'] = np.sqrt(d_1*d_1 + d_2*d_2)\n",
    "\n",
    "    features = features.append(temp_df, ignore_index=True)\n",
    "    count+=1\n",
    "    if (count%50==0):\n",
    "        print(count)\n",
    "\n",
    "    "
   ]
  },
  {
   "cell_type": "code",
   "execution_count": null,
   "metadata": {
    "collapsed": true
   },
   "outputs": [],
   "source": [
    "features.head()"
   ]
  },
  {
   "cell_type": "code",
   "execution_count": null,
   "metadata": {
    "collapsed": true
   },
   "outputs": [],
   "source": [
    "features.to_csv(\"../../data/global_acc_features_df.csv\")"
   ]
  }
 ],
 "metadata": {
  "kernelspec": {
   "display_name": "Python 3",
   "language": "python",
   "name": "python3"
  },
  "language_info": {
   "codemirror_mode": {
    "name": "ipython",
    "version": 3
   },
   "file_extension": ".py",
   "mimetype": "text/x-python",
   "name": "python",
   "nbconvert_exporter": "python",
   "pygments_lexer": "ipython3",
   "version": "3.6.1"
  }
 },
 "nbformat": 4,
 "nbformat_minor": 2
}
