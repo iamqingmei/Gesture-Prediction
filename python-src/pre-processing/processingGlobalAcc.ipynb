{
 "cells": [
  {
   "cell_type": "code",
   "execution_count": 1,
   "metadata": {
    "collapsed": true
   },
   "outputs": [],
   "source": [
    "import pandas as pd\n",
    "import numpy as np\n",
    "import matplotlib.pyplot as plt"
   ]
  },
  {
   "cell_type": "markdown",
   "metadata": {},
   "source": [
    "## Read the results which are obtained from watch"
   ]
  },
  {
   "cell_type": "code",
   "execution_count": null,
   "metadata": {
    "collapsed": true
   },
   "outputs": [],
   "source": [
    "df = pd.DataFrame()\n",
    "count = 50000\n",
    "\n",
    "while(True):\n",
    "    cur = pd.read_csv(\"../../data/global acc/result\" + str(count) + \".csv\", skipinitialspace=True, header=None)\n",
    "    df = df.append(cur, ignore_index=True)\n",
    "    if count == 500000:\n",
    "        break\n",
    "    count += 50000\n",
    "cur = pd.read_csv(\"../../data/global acc/result_final.csv\", skipinitialspace=True, header=None)\n",
    "df = df.append(cur, ignore_index=True)"
   ]
  },
  {
   "cell_type": "code",
   "execution_count": null,
   "metadata": {
    "collapsed": true
   },
   "outputs": [],
   "source": [
    "len(df)"
   ]
  },
  {
   "cell_type": "code",
   "execution_count": null,
   "metadata": {
    "collapsed": true
   },
   "outputs": [],
   "source": [
    "df.columns = ['global_acc1','global_acc2','global_acc3']"
   ]
  },
  {
   "cell_type": "markdown",
   "metadata": {},
   "source": [
    "## Add the time, tagname and tester_id into the df"
   ]
  },
  {
   "cell_type": "code",
   "execution_count": null,
   "metadata": {
    "collapsed": true
   },
   "outputs": [],
   "source": [
    "t = pd.DataFrame.from_csv(\"../../data/linear_acceleration_grav_mag.csv\")\n",
    "t.columns"
   ]
  },
  {
   "cell_type": "code",
   "execution_count": null,
   "metadata": {
    "collapsed": true
   },
   "outputs": [],
   "source": [
    "b = t[['tester_id', 'TagName', 'Time']].copy()\n",
    "for col in ['global_acc1','global_acc2','global_acc3']:\n",
    "    b[col] = 0\n",
    "\n",
    "b[['global_acc1','global_acc2','global_acc3']] = df[['global_acc1','global_acc2','global_acc3']].values\n",
    "b['unix_timestamp'] = pd.to_datetime(b['Time']).values.astype(\"uint64\") / 1000000000\n",
    "b.to_csv(\"../../data/global_acc_df.csv\")"
   ]
  },
  {
   "cell_type": "markdown",
   "metadata": {},
   "source": [
    "## Calculate distance and velocity"
   ]
  },
  {
   "cell_type": "code",
   "execution_count": 3,
   "metadata": {
    "collapsed": true
   },
   "outputs": [],
   "source": [
    "from scipy.integrate import simps"
   ]
  },
  {
   "cell_type": "code",
   "execution_count": null,
   "metadata": {
    "collapsed": true
   },
   "outputs": [],
   "source": [
    "b = pd.DataFrame.from_csv(\"../../data/global_acc_df.csv\")\n",
    "b.head()"
   ]
  },
  {
   "cell_type": "code",
   "execution_count": 4,
   "metadata": {
    "scrolled": true
   },
   "outputs": [
    {
     "name": "stdout",
     "output_type": "stream",
     "text": [
      "50\n",
      "100\n",
      "150\n",
      "200\n",
      "250\n",
      "300\n",
      "350\n",
      "400\n",
      "450\n",
      "500\n",
      "550\n",
      "600\n",
      "650\n",
      "700\n",
      "750\n",
      "800\n",
      "850\n",
      "900\n",
      "950\n",
      "1000\n"
     ]
    }
   ],
   "source": [
    "features = pd.DataFrame(columns=['unix_timestamp','TagName','tester_id',\n",
    "                                 'v_1','v_2','v_3','d_1',\n",
    "                                          'd_2','d_3', 'global_acc1','global_acc2','global_acc3'])\n",
    "b_groups = b.groupby(['TagName','tester_id'])\n",
    "count = 0\n",
    "for key in b_groups.groups.keys():\n",
    "    cur_group = b_groups.get_group(key)\n",
    "    t = cur_group.unix_timestamp.values\n",
    "    v_1 = []\n",
    "    d_1 = []\n",
    "    v_2 = []\n",
    "    d_2 = []\n",
    "    v_3 = []\n",
    "    d_3 = []\n",
    "    acc1 = cur_group.global_acc1.values\n",
    "    acc2 = cur_group.global_acc2.values\n",
    "    acc3 = cur_group.global_acc3.values\n",
    "    for i in range(len(t)):\n",
    "        v_1.append(simps(0.8*acc1[:i+1], x=t[:i+1]))\n",
    "    for i in range(len(t)):\n",
    "        d_1.append(simps(v_1[:i+1], x=t[:i+1]))\n",
    "    for i in range(len(t)):\n",
    "        v_2.append(simps(0.8*acc2[:i+1], x=t[:i+1]))\n",
    "    for i in range(len(t)):\n",
    "        d_2.append(simps(v_2[:i+1], x=t[:i+1]))\n",
    "    for i in range(len(t)):\n",
    "        v_3.append(simps(0.8*acc3[:i+1], x=t[:i+1]))\n",
    "    for i in range(len(t)):\n",
    "        d_3.append(simps(v_3[:i+1], x=t[:i+1]))\n",
    "    \n",
    "    v_1 = np.array(v_1)\n",
    "    d_1 = np.array(d_1)\n",
    "    v_2 = np.array(v_2)\n",
    "    d_2 = np.array(d_2)\n",
    "    v_3 = np.array(v_3)\n",
    "    d_3 = np.array(d_3)\n",
    "\n",
    "    temp_df = pd.DataFrame()\n",
    "    temp_df['unix_timestamp'] = t\n",
    "    temp_df['TagName'] = np.array([key[0]]*len(t))\n",
    "    temp_df['tester_id'] = np.array([key[1]]*len(t))\n",
    "                                                           \n",
    "        \n",
    "    temp_df['v_1'] = v_1\n",
    "    temp_df['v_2'] = v_2\n",
    "    temp_df['v_3'] = v_3\n",
    "    \n",
    "    temp_df['d_1'] = d_1                                       \n",
    "    temp_df['d_2'] = d_2\n",
    "    temp_df['d_3'] = d_3\n",
    "    temp_df['global_acc1'] = acc1\n",
    "    temp_df['global_acc2'] = acc2\n",
    "    temp_df['global_acc3'] = acc3\n",
    "\n",
    "    features = features.append(temp_df, ignore_index=True)\n",
    "    count+=1\n",
    "    if (count%50==0):\n",
    "        print(count)\n",
    "\n",
    "    "
   ]
  },
  {
   "cell_type": "code",
   "execution_count": 5,
   "metadata": {},
   "outputs": [
    {
     "data": {
      "text/html": [
       "<div>\n",
       "<style>\n",
       "    .dataframe thead tr:only-child th {\n",
       "        text-align: right;\n",
       "    }\n",
       "\n",
       "    .dataframe thead th {\n",
       "        text-align: left;\n",
       "    }\n",
       "\n",
       "    .dataframe tbody tr th {\n",
       "        vertical-align: top;\n",
       "    }\n",
       "</style>\n",
       "<table border=\"1\" class=\"dataframe\">\n",
       "  <thead>\n",
       "    <tr style=\"text-align: right;\">\n",
       "      <th></th>\n",
       "      <th>unix_timestamp</th>\n",
       "      <th>TagName</th>\n",
       "      <th>tester_id</th>\n",
       "      <th>v_1</th>\n",
       "      <th>v_2</th>\n",
       "      <th>v_3</th>\n",
       "      <th>d_1</th>\n",
       "      <th>d_2</th>\n",
       "      <th>d_3</th>\n",
       "      <th>global_acc1</th>\n",
       "      <th>global_acc2</th>\n",
       "      <th>global_acc3</th>\n",
       "    </tr>\n",
       "  </thead>\n",
       "  <tbody>\n",
       "    <tr>\n",
       "      <th>0</th>\n",
       "      <td>1.515398e+09</td>\n",
       "      <td>Tag0</td>\n",
       "      <td>0.0</td>\n",
       "      <td>0.000000</td>\n",
       "      <td>0.000000</td>\n",
       "      <td>0.000000</td>\n",
       "      <td>0.000000e+00</td>\n",
       "      <td>0.000000e+00</td>\n",
       "      <td>0.000000</td>\n",
       "      <td>-0.058561</td>\n",
       "      <td>-0.130082</td>\n",
       "      <td>-0.520824</td>\n",
       "    </tr>\n",
       "    <tr>\n",
       "      <th>1</th>\n",
       "      <td>1.515398e+09</td>\n",
       "      <td>Tag0</td>\n",
       "      <td>0.0</td>\n",
       "      <td>-0.000073</td>\n",
       "      <td>-0.000388</td>\n",
       "      <td>-0.002020</td>\n",
       "      <td>-1.834992e-07</td>\n",
       "      <td>-9.703653e-07</td>\n",
       "      <td>-0.000005</td>\n",
       "      <td>0.021859</td>\n",
       "      <td>-0.064001</td>\n",
       "      <td>-0.489335</td>\n",
       "    </tr>\n",
       "    <tr>\n",
       "      <th>2</th>\n",
       "      <td>1.515398e+09</td>\n",
       "      <td>Tag0</td>\n",
       "      <td>0.0</td>\n",
       "      <td>0.000035</td>\n",
       "      <td>-0.000564</td>\n",
       "      <td>-0.004001</td>\n",
       "      <td>-4.303650e-07</td>\n",
       "      <td>-3.528084e-06</td>\n",
       "      <td>-0.000020</td>\n",
       "      <td>-0.002340</td>\n",
       "      <td>-0.037200</td>\n",
       "      <td>-0.522459</td>\n",
       "    </tr>\n",
       "    <tr>\n",
       "      <th>3</th>\n",
       "      <td>1.515398e+09</td>\n",
       "      <td>Tag0</td>\n",
       "      <td>0.0</td>\n",
       "      <td>-0.000160</td>\n",
       "      <td>-0.000652</td>\n",
       "      <td>-0.006500</td>\n",
       "      <td>-5.877165e-07</td>\n",
       "      <td>-7.142123e-06</td>\n",
       "      <td>-0.000052</td>\n",
       "      <td>-0.070036</td>\n",
       "      <td>0.008021</td>\n",
       "      <td>-0.501289</td>\n",
       "    </tr>\n",
       "    <tr>\n",
       "      <th>4</th>\n",
       "      <td>1.515398e+09</td>\n",
       "      <td>Tag0</td>\n",
       "      <td>0.0</td>\n",
       "      <td>-0.000465</td>\n",
       "      <td>-0.000570</td>\n",
       "      <td>-0.008448</td>\n",
       "      <td>-2.219124e-06</td>\n",
       "      <td>-1.039287e-05</td>\n",
       "      <td>-0.000089</td>\n",
       "      <td>-0.069951</td>\n",
       "      <td>0.008737</td>\n",
       "      <td>-0.501289</td>\n",
       "    </tr>\n",
       "  </tbody>\n",
       "</table>\n",
       "</div>"
      ],
      "text/plain": [
       "   unix_timestamp TagName  tester_id       v_1       v_2       v_3  \\\n",
       "0    1.515398e+09    Tag0        0.0  0.000000  0.000000  0.000000   \n",
       "1    1.515398e+09    Tag0        0.0 -0.000073 -0.000388 -0.002020   \n",
       "2    1.515398e+09    Tag0        0.0  0.000035 -0.000564 -0.004001   \n",
       "3    1.515398e+09    Tag0        0.0 -0.000160 -0.000652 -0.006500   \n",
       "4    1.515398e+09    Tag0        0.0 -0.000465 -0.000570 -0.008448   \n",
       "\n",
       "            d_1           d_2       d_3  global_acc1  global_acc2  global_acc3  \n",
       "0  0.000000e+00  0.000000e+00  0.000000    -0.058561    -0.130082    -0.520824  \n",
       "1 -1.834992e-07 -9.703653e-07 -0.000005     0.021859    -0.064001    -0.489335  \n",
       "2 -4.303650e-07 -3.528084e-06 -0.000020    -0.002340    -0.037200    -0.522459  \n",
       "3 -5.877165e-07 -7.142123e-06 -0.000052    -0.070036     0.008021    -0.501289  \n",
       "4 -2.219124e-06 -1.039287e-05 -0.000089    -0.069951     0.008737    -0.501289  "
      ]
     },
     "execution_count": 5,
     "metadata": {},
     "output_type": "execute_result"
    }
   ],
   "source": [
    "features.head()"
   ]
  },
  {
   "cell_type": "code",
   "execution_count": 13,
   "metadata": {
    "collapsed": true
   },
   "outputs": [],
   "source": [
    "features.to_csv(\"../../data/global_acc_features_df.csv\")"
   ]
  },
  {
   "cell_type": "code",
   "execution_count": 2,
   "metadata": {
    "collapsed": true
   },
   "outputs": [],
   "source": [
    "features = pd.DataFrame.from_csv(\"../../data/global_acc_features_df.csv\")"
   ]
  },
  {
   "cell_type": "code",
   "execution_count": 17,
   "metadata": {},
   "outputs": [
    {
     "data": {
      "text/plain": [
       "2.0"
      ]
     },
     "execution_count": 17,
     "metadata": {},
     "output_type": "execute_result"
    }
   ],
   "source": [
    "import math\n"
   ]
  },
  {
   "cell_type": "code",
   "execution_count": 36,
   "metadata": {},
   "outputs": [
    {
     "ename": "ValueError",
     "evalue": "Length of values does not match length of index",
     "output_type": "error",
     "traceback": [
      "\u001b[0;31m---------------------------------------------------------------------------\u001b[0m",
      "\u001b[0;31mValueError\u001b[0m                                Traceback (most recent call last)",
      "\u001b[0;32m<ipython-input-36-08ca7ef82538>\u001b[0m in \u001b[0;36m<module>\u001b[0;34m()\u001b[0m\n\u001b[1;32m     19\u001b[0m     \u001b[0md_12_square\u001b[0m \u001b[0;34m=\u001b[0m \u001b[0mnp\u001b[0m\u001b[0;34m.\u001b[0m\u001b[0msqrt\u001b[0m\u001b[0;34m(\u001b[0m\u001b[0md_1\u001b[0m\u001b[0;34m*\u001b[0m\u001b[0md_1\u001b[0m \u001b[0;34m+\u001b[0m \u001b[0md_2\u001b[0m\u001b[0;34m*\u001b[0m\u001b[0md_2\u001b[0m\u001b[0;34m)\u001b[0m\u001b[0;34m\u001b[0m\u001b[0m\n\u001b[1;32m     20\u001b[0m \u001b[0;34m\u001b[0m\u001b[0m\n\u001b[0;32m---> 21\u001b[0;31m     \u001b[0mfeatures\u001b[0m\u001b[0;34m[\u001b[0m\u001b[0;34m(\u001b[0m\u001b[0mfeatures\u001b[0m\u001b[0;34m.\u001b[0m\u001b[0mTagName\u001b[0m \u001b[0;34m==\u001b[0m \u001b[0mkey\u001b[0m\u001b[0;34m[\u001b[0m\u001b[0;36m0\u001b[0m\u001b[0;34m]\u001b[0m\u001b[0;34m)\u001b[0m \u001b[0;34m&\u001b[0m \u001b[0;34m(\u001b[0m\u001b[0mfeatures\u001b[0m\u001b[0;34m.\u001b[0m\u001b[0mtester_id\u001b[0m \u001b[0;34m==\u001b[0m \u001b[0mkey\u001b[0m\u001b[0;34m[\u001b[0m\u001b[0;36m1\u001b[0m\u001b[0;34m]\u001b[0m\u001b[0;34m)\u001b[0m\u001b[0;34m,\u001b[0m\u001b[0;34m'v_12_square'\u001b[0m\u001b[0;34m]\u001b[0m \u001b[0;34m=\u001b[0m \u001b[0mv_12_square\u001b[0m\u001b[0;34m\u001b[0m\u001b[0m\n\u001b[0m\u001b[1;32m     22\u001b[0m     \u001b[0mfeatures\u001b[0m\u001b[0;34m[\u001b[0m\u001b[0;34m(\u001b[0m\u001b[0mfeatures\u001b[0m\u001b[0;34m.\u001b[0m\u001b[0mTagName\u001b[0m \u001b[0;34m==\u001b[0m \u001b[0mkey\u001b[0m\u001b[0;34m[\u001b[0m\u001b[0;36m0\u001b[0m\u001b[0;34m]\u001b[0m\u001b[0;34m)\u001b[0m \u001b[0;34m&\u001b[0m \u001b[0;34m(\u001b[0m\u001b[0mfeatures\u001b[0m\u001b[0;34m.\u001b[0m\u001b[0mtester_id\u001b[0m \u001b[0;34m==\u001b[0m \u001b[0mkey\u001b[0m\u001b[0;34m[\u001b[0m\u001b[0;36m1\u001b[0m\u001b[0;34m]\u001b[0m\u001b[0;34m)\u001b[0m\u001b[0;34m,\u001b[0m\u001b[0;34m'acc_12_square'\u001b[0m\u001b[0;34m]\u001b[0m \u001b[0;34m=\u001b[0m \u001b[0macc_12_square\u001b[0m\u001b[0;34m\u001b[0m\u001b[0m\n\u001b[1;32m     23\u001b[0m     \u001b[0mfeatures\u001b[0m\u001b[0;34m[\u001b[0m\u001b[0;34m(\u001b[0m\u001b[0mfeatures\u001b[0m\u001b[0;34m.\u001b[0m\u001b[0mTagName\u001b[0m \u001b[0;34m==\u001b[0m \u001b[0mkey\u001b[0m\u001b[0;34m[\u001b[0m\u001b[0;36m0\u001b[0m\u001b[0;34m]\u001b[0m\u001b[0;34m)\u001b[0m \u001b[0;34m&\u001b[0m \u001b[0;34m(\u001b[0m\u001b[0mfeatures\u001b[0m\u001b[0;34m.\u001b[0m\u001b[0mtester_id\u001b[0m \u001b[0;34m==\u001b[0m \u001b[0mkey\u001b[0m\u001b[0;34m[\u001b[0m\u001b[0;36m1\u001b[0m\u001b[0;34m]\u001b[0m\u001b[0;34m)\u001b[0m\u001b[0;34m,\u001b[0m\u001b[0;34m'd_12_square'\u001b[0m\u001b[0;34m]\u001b[0m \u001b[0;34m=\u001b[0m \u001b[0md_12_square\u001b[0m\u001b[0;34m\u001b[0m\u001b[0m\n",
      "\u001b[0;32m/Users/Ageha/anaconda/lib/python3.6/site-packages/pandas/core/frame.py\u001b[0m in \u001b[0;36m__setitem__\u001b[0;34m(self, key, value)\u001b[0m\n\u001b[1;32m   2427\u001b[0m         \u001b[0;32melse\u001b[0m\u001b[0;34m:\u001b[0m\u001b[0;34m\u001b[0m\u001b[0m\n\u001b[1;32m   2428\u001b[0m             \u001b[0;31m# set column\u001b[0m\u001b[0;34m\u001b[0m\u001b[0;34m\u001b[0m\u001b[0m\n\u001b[0;32m-> 2429\u001b[0;31m             \u001b[0mself\u001b[0m\u001b[0;34m.\u001b[0m\u001b[0m_set_item\u001b[0m\u001b[0;34m(\u001b[0m\u001b[0mkey\u001b[0m\u001b[0;34m,\u001b[0m \u001b[0mvalue\u001b[0m\u001b[0;34m)\u001b[0m\u001b[0;34m\u001b[0m\u001b[0m\n\u001b[0m\u001b[1;32m   2430\u001b[0m \u001b[0;34m\u001b[0m\u001b[0m\n\u001b[1;32m   2431\u001b[0m     \u001b[0;32mdef\u001b[0m \u001b[0m_setitem_slice\u001b[0m\u001b[0;34m(\u001b[0m\u001b[0mself\u001b[0m\u001b[0;34m,\u001b[0m \u001b[0mkey\u001b[0m\u001b[0;34m,\u001b[0m \u001b[0mvalue\u001b[0m\u001b[0;34m)\u001b[0m\u001b[0;34m:\u001b[0m\u001b[0;34m\u001b[0m\u001b[0m\n",
      "\u001b[0;32m/Users/Ageha/anaconda/lib/python3.6/site-packages/pandas/core/frame.py\u001b[0m in \u001b[0;36m_set_item\u001b[0;34m(self, key, value)\u001b[0m\n\u001b[1;32m   2493\u001b[0m \u001b[0;34m\u001b[0m\u001b[0m\n\u001b[1;32m   2494\u001b[0m         \u001b[0mself\u001b[0m\u001b[0;34m.\u001b[0m\u001b[0m_ensure_valid_index\u001b[0m\u001b[0;34m(\u001b[0m\u001b[0mvalue\u001b[0m\u001b[0;34m)\u001b[0m\u001b[0;34m\u001b[0m\u001b[0m\n\u001b[0;32m-> 2495\u001b[0;31m         \u001b[0mvalue\u001b[0m \u001b[0;34m=\u001b[0m \u001b[0mself\u001b[0m\u001b[0;34m.\u001b[0m\u001b[0m_sanitize_column\u001b[0m\u001b[0;34m(\u001b[0m\u001b[0mkey\u001b[0m\u001b[0;34m,\u001b[0m \u001b[0mvalue\u001b[0m\u001b[0;34m)\u001b[0m\u001b[0;34m\u001b[0m\u001b[0m\n\u001b[0m\u001b[1;32m   2496\u001b[0m         \u001b[0mNDFrame\u001b[0m\u001b[0;34m.\u001b[0m\u001b[0m_set_item\u001b[0m\u001b[0;34m(\u001b[0m\u001b[0mself\u001b[0m\u001b[0;34m,\u001b[0m \u001b[0mkey\u001b[0m\u001b[0;34m,\u001b[0m \u001b[0mvalue\u001b[0m\u001b[0;34m)\u001b[0m\u001b[0;34m\u001b[0m\u001b[0m\n\u001b[1;32m   2497\u001b[0m \u001b[0;34m\u001b[0m\u001b[0m\n",
      "\u001b[0;32m/Users/Ageha/anaconda/lib/python3.6/site-packages/pandas/core/frame.py\u001b[0m in \u001b[0;36m_sanitize_column\u001b[0;34m(self, key, value, broadcast)\u001b[0m\n\u001b[1;32m   2664\u001b[0m \u001b[0;34m\u001b[0m\u001b[0m\n\u001b[1;32m   2665\u001b[0m             \u001b[0;31m# turn me into an ndarray\u001b[0m\u001b[0;34m\u001b[0m\u001b[0;34m\u001b[0m\u001b[0m\n\u001b[0;32m-> 2666\u001b[0;31m             \u001b[0mvalue\u001b[0m \u001b[0;34m=\u001b[0m \u001b[0m_sanitize_index\u001b[0m\u001b[0;34m(\u001b[0m\u001b[0mvalue\u001b[0m\u001b[0;34m,\u001b[0m \u001b[0mself\u001b[0m\u001b[0;34m.\u001b[0m\u001b[0mindex\u001b[0m\u001b[0;34m,\u001b[0m \u001b[0mcopy\u001b[0m\u001b[0;34m=\u001b[0m\u001b[0;32mFalse\u001b[0m\u001b[0;34m)\u001b[0m\u001b[0;34m\u001b[0m\u001b[0m\n\u001b[0m\u001b[1;32m   2667\u001b[0m             \u001b[0;32mif\u001b[0m \u001b[0;32mnot\u001b[0m \u001b[0misinstance\u001b[0m\u001b[0;34m(\u001b[0m\u001b[0mvalue\u001b[0m\u001b[0;34m,\u001b[0m \u001b[0;34m(\u001b[0m\u001b[0mnp\u001b[0m\u001b[0;34m.\u001b[0m\u001b[0mndarray\u001b[0m\u001b[0;34m,\u001b[0m \u001b[0mIndex\u001b[0m\u001b[0;34m)\u001b[0m\u001b[0;34m)\u001b[0m\u001b[0;34m:\u001b[0m\u001b[0;34m\u001b[0m\u001b[0m\n\u001b[1;32m   2668\u001b[0m                 \u001b[0;32mif\u001b[0m \u001b[0misinstance\u001b[0m\u001b[0;34m(\u001b[0m\u001b[0mvalue\u001b[0m\u001b[0;34m,\u001b[0m \u001b[0mlist\u001b[0m\u001b[0;34m)\u001b[0m \u001b[0;32mand\u001b[0m \u001b[0mlen\u001b[0m\u001b[0;34m(\u001b[0m\u001b[0mvalue\u001b[0m\u001b[0;34m)\u001b[0m \u001b[0;34m>\u001b[0m \u001b[0;36m0\u001b[0m\u001b[0;34m:\u001b[0m\u001b[0;34m\u001b[0m\u001b[0m\n",
      "\u001b[0;32m/Users/Ageha/anaconda/lib/python3.6/site-packages/pandas/core/series.py\u001b[0m in \u001b[0;36m_sanitize_index\u001b[0;34m(data, index, copy)\u001b[0m\n\u001b[1;32m   2877\u001b[0m \u001b[0;34m\u001b[0m\u001b[0m\n\u001b[1;32m   2878\u001b[0m     \u001b[0;32mif\u001b[0m \u001b[0mlen\u001b[0m\u001b[0;34m(\u001b[0m\u001b[0mdata\u001b[0m\u001b[0;34m)\u001b[0m \u001b[0;34m!=\u001b[0m \u001b[0mlen\u001b[0m\u001b[0;34m(\u001b[0m\u001b[0mindex\u001b[0m\u001b[0;34m)\u001b[0m\u001b[0;34m:\u001b[0m\u001b[0;34m\u001b[0m\u001b[0m\n\u001b[0;32m-> 2879\u001b[0;31m         \u001b[0;32mraise\u001b[0m \u001b[0mValueError\u001b[0m\u001b[0;34m(\u001b[0m\u001b[0;34m'Length of values does not match length of '\u001b[0m \u001b[0;34m'index'\u001b[0m\u001b[0;34m)\u001b[0m\u001b[0;34m\u001b[0m\u001b[0m\n\u001b[0m\u001b[1;32m   2880\u001b[0m \u001b[0;34m\u001b[0m\u001b[0m\n\u001b[1;32m   2881\u001b[0m     \u001b[0;32mif\u001b[0m \u001b[0misinstance\u001b[0m\u001b[0;34m(\u001b[0m\u001b[0mdata\u001b[0m\u001b[0;34m,\u001b[0m \u001b[0mPeriodIndex\u001b[0m\u001b[0;34m)\u001b[0m\u001b[0;34m:\u001b[0m\u001b[0;34m\u001b[0m\u001b[0m\n",
      "\u001b[0;31mValueError\u001b[0m: Length of values does not match length of index"
     ]
    }
   ],
   "source": [
    "groups = features.groupby(['TagName','tester_id'])\n",
    "count = 0\n",
    "features['v_12_square'] = 0\n",
    "features['acc_12_square'] = 0\n",
    "features['d_12_square'] = 0\n",
    "for key in groups.groups.keys():\n",
    "    cur_group = groups.get_group(key)\n",
    "\n",
    "    acc1 = cur_group.global_acc1.values\n",
    "    acc2 = cur_group.global_acc2.values\n",
    "    v_1 = cur_group.v_1.values\n",
    "    v_2 = cur_group.v_2.values\n",
    "    d_1 = cur_group.d_1.values\n",
    "    d_2 = cur_group.d_2.values\n",
    "    \n",
    "\n",
    "    v_12_square = np.sqrt(v_1*v_1 + v_2*v_2)\n",
    "    acc_12_square = np.sqrt(acc1*acc1 + acc2*acc2)\n",
    "    d_12_square = np.sqrt(d_1*d_1 + d_2*d_2)\n",
    "\n",
    "    features[(features.TagName == key[0]) & (features.tester_id == key[1]),'v_12_square'] = v_12_square\n",
    "    features[(features.TagName == key[0]) & (features.tester_id == key[1]),'acc_12_square'] = acc_12_square\n",
    "    features[(features.TagName == key[0]) & (features.tester_id == key[1]),'d_12_square'] = d_12_square\n",
    "\n",
    "    count+=1\n",
    "    if (count%50==0):\n",
    "        print(count)\n",
    "\n",
    "    "
   ]
  },
  {
   "cell_type": "code",
   "execution_count": 41,
   "metadata": {},
   "outputs": [
    {
     "data": {
      "text/plain": [
       "494"
      ]
     },
     "execution_count": 41,
     "metadata": {},
     "output_type": "execute_result"
    }
   ],
   "source": [
    "len(features[(features.TagName == key[0]) & (features.tester_id == key[1])])"
   ]
  },
  {
   "cell_type": "code",
   "execution_count": 31,
   "metadata": {},
   "outputs": [
    {
     "data": {
      "text/plain": [
       "-0.00050607779709016662"
      ]
     },
     "execution_count": 31,
     "metadata": {},
     "output_type": "execute_result"
    }
   ],
   "source": [
    "v_2[2]"
   ]
  },
  {
   "cell_type": "code",
   "execution_count": 27,
   "metadata": {},
   "outputs": [],
   "source": [
    "v_s = "
   ]
  },
  {
   "cell_type": "code",
   "execution_count": 35,
   "metadata": {},
   "outputs": [
    {
     "data": {
      "text/plain": [
       "(679,)"
      ]
     },
     "execution_count": 35,
     "metadata": {},
     "output_type": "execute_result"
    }
   ],
   "source": [
    ".shape"
   ]
  },
  {
   "cell_type": "code",
   "execution_count": 33,
   "metadata": {},
   "outputs": [
    {
     "data": {
      "text/plain": [
       "6.020869240621447e-07"
      ]
     },
     "execution_count": 33,
     "metadata": {},
     "output_type": "execute_result"
    }
   ],
   "source": [
    "0.00058819400486107378*0.00058819400486107378 + 0.00050607779709016662*0.00050607779709016662"
   ]
  },
  {
   "cell_type": "code",
   "execution_count": null,
   "metadata": {
    "collapsed": true
   },
   "outputs": [],
   "source": []
  }
 ],
 "metadata": {
  "kernelspec": {
   "display_name": "Python 3",
   "language": "python",
   "name": "python3"
  },
  "language_info": {
   "codemirror_mode": {
    "name": "ipython",
    "version": 3
   },
   "file_extension": ".py",
   "mimetype": "text/x-python",
   "name": "python",
   "nbconvert_exporter": "python",
   "pygments_lexer": "ipython3",
   "version": "3.6.1"
  }
 },
 "nbformat": 4,
 "nbformat_minor": 2
}
