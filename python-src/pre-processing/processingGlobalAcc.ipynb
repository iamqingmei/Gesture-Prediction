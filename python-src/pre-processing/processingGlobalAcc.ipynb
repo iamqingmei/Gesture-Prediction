{
 "cells": [
  {
   "cell_type": "code",
   "execution_count": 1,
   "metadata": {
    "collapsed": true
   },
   "outputs": [],
   "source": [
    "import pandas as pd\n",
    "import numpy as np"
   ]
  },
  {
   "cell_type": "code",
   "execution_count": 2,
   "metadata": {
    "collapsed": true
   },
   "outputs": [],
   "source": [
    "df = pd.DataFrame()"
   ]
  },
  {
   "cell_type": "code",
   "execution_count": 3,
   "metadata": {
    "collapsed": true
   },
   "outputs": [],
   "source": [
    "count = 50000\n",
    "\n",
    "while(True):\n",
    "    cur = pd.read_csv(\"../../data/global acc/result\" + str(count) + \".csv\", skipinitialspace=True, header=None)\n",
    "    df = df.append(cur, ignore_index=True)\n",
    "    if count == 500000:\n",
    "        break\n",
    "    count += 50000\n",
    "cur = pd.read_csv(\"../../data/global acc/result_final.csv\", skipinitialspace=True, header=None)\n",
    "df = df.append(cur, ignore_index=True)"
   ]
  },
  {
   "cell_type": "code",
   "execution_count": 4,
   "metadata": {},
   "outputs": [
    {
     "data": {
      "text/plain": [
       "549503"
      ]
     },
     "execution_count": 4,
     "metadata": {},
     "output_type": "execute_result"
    }
   ],
   "source": [
    "len(df)"
   ]
  },
  {
   "cell_type": "code",
   "execution_count": 5,
   "metadata": {
    "collapsed": true
   },
   "outputs": [],
   "source": [
    "df.columns = ['global_acc1','global_acc2','global_acc3']"
   ]
  },
  {
   "cell_type": "code",
   "execution_count": 6,
   "metadata": {
    "collapsed": true
   },
   "outputs": [],
   "source": [
    "t = pd.DataFrame.from_csv(\"../../data/linear_acceleration_grav_mag.csv\")"
   ]
  },
  {
   "cell_type": "code",
   "execution_count": 7,
   "metadata": {},
   "outputs": [
    {
     "data": {
      "text/plain": [
       "Index(['tester_id', 'TagName', 'Time', 'acc_val1', 'acc_val2', 'acc_val3',\n",
       "       'acc_val4', 'gravity1', 'gravity2', 'gravity3', 'mag_val1', 'mag_val2',\n",
       "       'mag_val3'],\n",
       "      dtype='object')"
      ]
     },
     "execution_count": 7,
     "metadata": {},
     "output_type": "execute_result"
    }
   ],
   "source": [
    "t.columns"
   ]
  },
  {
   "cell_type": "code",
   "execution_count": 8,
   "metadata": {
    "collapsed": true
   },
   "outputs": [],
   "source": [
    "b = t[['tester_id', 'TagName', 'Time']].copy()"
   ]
  },
  {
   "cell_type": "code",
   "execution_count": 9,
   "metadata": {
    "collapsed": true
   },
   "outputs": [],
   "source": [
    "for col in ['global_acc1','global_acc2','global_acc3']:\n",
    "    b[col] = 0\n",
    "\n",
    "b[['global_acc1','global_acc2','global_acc3']] = df[['global_acc1','global_acc2','global_acc3']].values\n",
    "b['unix_timestamp'] = pd.to_datetime(b['Time']).values.astype(\"uint64\") / 1000000000"
   ]
  },
  {
   "cell_type": "code",
   "execution_count": 10,
   "metadata": {
    "collapsed": true
   },
   "outputs": [],
   "source": [
    "b.to_csv(\"../../data/global_acc_df.csv\")"
   ]
  },
  {
   "cell_type": "code",
   "execution_count": 15,
   "metadata": {
    "collapsed": true
   },
   "outputs": [],
   "source": []
  },
  {
   "cell_type": "code",
   "execution_count": 16,
   "metadata": {
    "collapsed": true
   },
   "outputs": [],
   "source": [
    "from scipy.integrate import simps"
   ]
  },
  {
   "cell_type": "code",
   "execution_count": 19,
   "metadata": {
    "scrolled": true
   },
   "outputs": [
    {
     "name": "stdout",
     "output_type": "stream",
     "text": [
      "50\n",
      "100\n",
      "150\n",
      "200\n",
      "250\n",
      "300\n",
      "350\n",
      "400\n",
      "450\n",
      "500\n",
      "550\n",
      "600\n",
      "650\n",
      "700\n",
      "750\n",
      "800\n",
      "850\n",
      "900\n",
      "950\n",
      "1000\n"
     ]
    }
   ],
   "source": [
    "features = pd.DataFrame(columns=['unix_timestamp','TagName','tester_id',\n",
    "                                 'v_1','v_2','v_3','d_1',\n",
    "                                          'd_2','d_3'])\n",
    "b_groups = b.groupby(['TagName','tester_id'])\n",
    "count = 0\n",
    "for key in b_groups.groups.keys():\n",
    "    cur_group = b_groups.get_group(key)\n",
    "    t = cur_group.unix_timestamp.values\n",
    "    v_1 = []\n",
    "    d_1 = []\n",
    "    v_2 = []\n",
    "    d_2 = []\n",
    "    v_3 = []\n",
    "    d_3 = []\n",
    "    for i in range(len(t)):\n",
    "        v_1.append(simps(0.8*cur_group.global_acc1.values[:i+1], x=t[:i+1]))\n",
    "    for i in range(len(t)):\n",
    "        d_1.append(simps(v_1[:i+1], x=t[:i+1]))\n",
    "    for i in range(len(t)):\n",
    "        v_2.append(simps(0.8*cur_group.global_acc2.values[:i+1], x=t[:i+1]))\n",
    "    for i in range(len(t)):\n",
    "        d_2.append(simps(v_2[:i+1], x=t[:i+1]))\n",
    "    for i in range(len(t)):\n",
    "        v_3.append(simps(0.8*cur_group.global_acc3.values[:i+1], x=t[:i+1]))\n",
    "    for i in range(len(t)):\n",
    "        d_3.append(simps(v_3[:i+1], x=t[:i+1]))\n",
    "    \n",
    "    v_1 = np.array(v_1)\n",
    "    d_1 = np.array(d_1)\n",
    "    v_2 = np.array(v_2)\n",
    "    d_2 = np.array(d_2)\n",
    "    v_3 = np.array(v_3)\n",
    "    d_3 = np.array(d_3)\n",
    "\n",
    "    temp = np.concatenate((t.reshape(-1,1),np.array([key[0]]*len(t)).reshape(-1,1),np.array([key[1]]*len(t)).reshape(-1,1),d_1.reshape(-1,1),d_2.reshape(-1,1),d_3.reshape(-1,1),v_1.reshape(-1,1),v_2.reshape(-1,1),v_3.reshape(-1,1)), axis = 1)\n",
    "\n",
    "    features = features.append(pd.DataFrame(temp, columns=['unix_timestamp','TagName','tester_id',\n",
    "                                                           'v_1','v_2','v_3','d_1',\n",
    "                                                           'd_2','d_3']), ignore_index=True)\n",
    "    count+=1\n",
    "    if (count%50==0):\n",
    "        print(count)\n",
    "\n",
    "    "
   ]
  },
  {
   "cell_type": "code",
   "execution_count": 20,
   "metadata": {
    "collapsed": true
   },
   "outputs": [],
   "source": [
    "features.to_csv(\"../../data/global_acc_features_df.csv\")"
   ]
  },
  {
   "cell_type": "code",
   "execution_count": 19,
   "metadata": {},
   "outputs": [],
   "source": [
    "feature['global_acc1'] = b.global_acc1.values\n",
    "feature['global_acc2'] = b.global_acc2.values\n",
    "feature['global_acc3'] = b.global_acc3.values\n",
    "feature['TimeStamp'] = b.Time.values"
   ]
  },
  {
   "cell_type": "code",
   "execution_count": 20,
   "metadata": {},
   "outputs": [
    {
     "data": {
      "text/html": [
       "<div>\n",
       "<style>\n",
       "    .dataframe thead tr:only-child th {\n",
       "        text-align: right;\n",
       "    }\n",
       "\n",
       "    .dataframe thead th {\n",
       "        text-align: left;\n",
       "    }\n",
       "\n",
       "    .dataframe tbody tr th {\n",
       "        vertical-align: top;\n",
       "    }\n",
       "</style>\n",
       "<table border=\"1\" class=\"dataframe\">\n",
       "  <thead>\n",
       "    <tr style=\"text-align: right;\">\n",
       "      <th></th>\n",
       "      <th>unix_timestamp</th>\n",
       "      <th>TagName</th>\n",
       "      <th>tester_id</th>\n",
       "      <th>v_1</th>\n",
       "      <th>v_2</th>\n",
       "      <th>v_3</th>\n",
       "      <th>d_1</th>\n",
       "      <th>d_2</th>\n",
       "      <th>d_3</th>\n",
       "      <th>TimeStamp</th>\n",
       "      <th>global_acc1</th>\n",
       "      <th>global_acc2</th>\n",
       "      <th>global_acc3</th>\n",
       "    </tr>\n",
       "  </thead>\n",
       "  <tbody>\n",
       "    <tr>\n",
       "      <th>0</th>\n",
       "      <td>1.515398e+09</td>\n",
       "      <td>Tag0</td>\n",
       "      <td>0.0</td>\n",
       "      <td>0.000000e+00</td>\n",
       "      <td>0.000000e+00</td>\n",
       "      <td>0.000000</td>\n",
       "      <td>0.000000</td>\n",
       "      <td>0.000000</td>\n",
       "      <td>0.000000</td>\n",
       "      <td>2018-01-08 15:49:46.379666666+08:00</td>\n",
       "      <td>-0.058561</td>\n",
       "      <td>-0.130082</td>\n",
       "      <td>-0.520824</td>\n",
       "    </tr>\n",
       "    <tr>\n",
       "      <th>1</th>\n",
       "      <td>1.515398e+09</td>\n",
       "      <td>Tag0</td>\n",
       "      <td>0.0</td>\n",
       "      <td>-1.834992e-07</td>\n",
       "      <td>-9.703653e-07</td>\n",
       "      <td>-0.000005</td>\n",
       "      <td>-0.000073</td>\n",
       "      <td>-0.000388</td>\n",
       "      <td>-0.002020</td>\n",
       "      <td>2018-01-08 15:49:46.384666666+08:00</td>\n",
       "      <td>0.021859</td>\n",
       "      <td>-0.064001</td>\n",
       "      <td>-0.489335</td>\n",
       "    </tr>\n",
       "    <tr>\n",
       "      <th>2</th>\n",
       "      <td>1.515398e+09</td>\n",
       "      <td>Tag0</td>\n",
       "      <td>0.0</td>\n",
       "      <td>-4.303651e-07</td>\n",
       "      <td>-3.528226e-06</td>\n",
       "      <td>-0.000020</td>\n",
       "      <td>0.000035</td>\n",
       "      <td>-0.000564</td>\n",
       "      <td>-0.004001</td>\n",
       "      <td>2018-01-08 15:49:46.389666666+08:00</td>\n",
       "      <td>-0.002340</td>\n",
       "      <td>-0.037200</td>\n",
       "      <td>-0.522459</td>\n",
       "    </tr>\n",
       "    <tr>\n",
       "      <th>3</th>\n",
       "      <td>1.515398e+09</td>\n",
       "      <td>Tag0</td>\n",
       "      <td>0.0</td>\n",
       "      <td>-5.876838e-07</td>\n",
       "      <td>-7.142311e-06</td>\n",
       "      <td>-0.000052</td>\n",
       "      <td>-0.000160</td>\n",
       "      <td>-0.000652</td>\n",
       "      <td>-0.006500</td>\n",
       "      <td>2018-01-08 15:49:46.395666666+08:00</td>\n",
       "      <td>-0.070036</td>\n",
       "      <td>0.008021</td>\n",
       "      <td>-0.501289</td>\n",
       "    </tr>\n",
       "    <tr>\n",
       "      <th>4</th>\n",
       "      <td>1.515398e+09</td>\n",
       "      <td>Tag0</td>\n",
       "      <td>0.0</td>\n",
       "      <td>-2.218972e-06</td>\n",
       "      <td>-1.039297e-05</td>\n",
       "      <td>-0.000089</td>\n",
       "      <td>-0.000465</td>\n",
       "      <td>-0.000570</td>\n",
       "      <td>-0.008448</td>\n",
       "      <td>2018-01-08 15:49:46.400666666+08:00</td>\n",
       "      <td>-0.069951</td>\n",
       "      <td>0.008737</td>\n",
       "      <td>-0.501289</td>\n",
       "    </tr>\n",
       "  </tbody>\n",
       "</table>\n",
       "</div>"
      ],
      "text/plain": [
       "   unix_timestamp TagName  tester_id           v_1           v_2       v_3  \\\n",
       "0    1.515398e+09    Tag0        0.0  0.000000e+00  0.000000e+00  0.000000   \n",
       "1    1.515398e+09    Tag0        0.0 -1.834992e-07 -9.703653e-07 -0.000005   \n",
       "2    1.515398e+09    Tag0        0.0 -4.303651e-07 -3.528226e-06 -0.000020   \n",
       "3    1.515398e+09    Tag0        0.0 -5.876838e-07 -7.142311e-06 -0.000052   \n",
       "4    1.515398e+09    Tag0        0.0 -2.218972e-06 -1.039297e-05 -0.000089   \n",
       "\n",
       "        d_1       d_2       d_3                            TimeStamp  \\\n",
       "0  0.000000  0.000000  0.000000  2018-01-08 15:49:46.379666666+08:00   \n",
       "1 -0.000073 -0.000388 -0.002020  2018-01-08 15:49:46.384666666+08:00   \n",
       "2  0.000035 -0.000564 -0.004001  2018-01-08 15:49:46.389666666+08:00   \n",
       "3 -0.000160 -0.000652 -0.006500  2018-01-08 15:49:46.395666666+08:00   \n",
       "4 -0.000465 -0.000570 -0.008448  2018-01-08 15:49:46.400666666+08:00   \n",
       "\n",
       "   global_acc1  global_acc2  global_acc3  \n",
       "0    -0.058561    -0.130082    -0.520824  \n",
       "1     0.021859    -0.064001    -0.489335  \n",
       "2    -0.002340    -0.037200    -0.522459  \n",
       "3    -0.070036     0.008021    -0.501289  \n",
       "4    -0.069951     0.008737    -0.501289  "
      ]
     },
     "execution_count": 20,
     "metadata": {},
     "output_type": "execute_result"
    }
   ],
   "source": [
    "feature.head()"
   ]
  },
  {
   "cell_type": "code",
   "execution_count": 21,
   "metadata": {
    "collapsed": true
   },
   "outputs": [],
   "source": [
    "feature.to_csv(\"../../data/global_acc_features_df.csv\")"
   ]
  },
  {
   "cell_type": "code",
   "execution_count": null,
   "metadata": {
    "collapsed": true
   },
   "outputs": [],
   "source": []
  }
 ],
 "metadata": {
  "kernelspec": {
   "display_name": "Python 3",
   "language": "python",
   "name": "python3"
  },
  "language_info": {
   "codemirror_mode": {
    "name": "ipython",
    "version": 3
   },
   "file_extension": ".py",
   "mimetype": "text/x-python",
   "name": "python",
   "nbconvert_exporter": "python",
   "pygments_lexer": "ipython3",
   "version": "3.6.1"
  }
 },
 "nbformat": 4,
 "nbformat_minor": 2
}
